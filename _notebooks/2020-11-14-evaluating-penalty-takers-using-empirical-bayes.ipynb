{
 "cells": [
  {
   "cell_type": "markdown",
   "metadata": {
    "id": "JFH6OAGhx3fH"
   },
   "source": [
    "# \"Evaluating penalty takers using empirical Bayes estimation\"\n",
    "> \"After using empirical Bayes estimation to model predicted penalty conversion rate, we take a look at the best and worst penalty takers, investigate Manchester City and Fulham's struggles from spot kicks, and use our new estimate to simulate the Euro 96 penalty shootout.\"\n",
    "\n",
    "- toc: true\n",
    "- branch: master\n",
    "- badges: true\n",
    "- comments: true\n",
    "- author: Tom Whelan\n",
    "- categories: [Bayes, football, visualisation]\n",
    "- image: images/cover_bayes_penalties.png"
   ]
  },
  {
   "cell_type": "markdown",
   "metadata": {
    "id": "uToytdlZ0z0T"
   },
   "source": [
    "# Why do we assume every player is equally skilled from the penalty spot?\n",
    "\n",
    "Last weekend there were two big penalty misses in the Premier league, one by Kevin De Bruyne against Liverpool and the other by Ademola Lookman against West Ham, both of which cost their respective teams valuable points. It's rare to see two penalties that bad in the same weekend - in fact the last time someone completely missed the target from the spot in the Premier league [also cost Manchester City three points against Liverpool!](https://talksport.com/football/786186/kevin-de-bruyne-penalty-miss-liverpool-premier-league-stat-man-city/) So why was Lookman even taking Fulham's penalty in the first place, and are City so bad at penalties that [Ederson might actually be the best man for the job?](https://www.manchestereveningnews.co.uk/sport/football/football-news/man-city-penalties-ederson-gundogan-17676765)\n",
    "\n",
    "Trying to [quantify finishing skill](https://statsbomb.com/2017/07/quantifying-finishing-skill/) is not a new idea in the football analytics community, but penalties are usually an afterthought in the analysis (if they are considered at all). I've seen plenty of posts about expected goals (I've even [written some](http://www.fantasyfutopia.com/python-for-fantasy-football-introduction-to-machine-learning/)), and the typical process of dealing with penalties is to just throw away the data and assume penalty xG = penalties taken * average conversion rate. I have been guilty of that myself, but are we really saying [Gabriel Jesus](https://www.transfermarkt.com/gabriel-jesus/elfmetertore/spieler/363205) (4/10 penalties scored) is just as good as [Yaya Touré](https://www.transfermarkt.com/yaya-toure/elfmetertore/spieler/13091) (15/15)? Is Touré the same as [Matt Le Tissier](https://www.transfermarkt.com/matt-le-tissier/elfmetertore/spieler/43705) (27/27)? There are plenty of 'best penalty takers of all time' articles that suggest otherwise (1.16 million results on Google). We can do better.\n",
    "\n",
    "Here are some typical reasons people give for ignoring finishing skill estimates:\n",
    "\n",
    "1.   On-ball data is noisy and we are missing key information about defender positions, whether the shot with the player's strong or weak foot and countless other variables.\n",
    "2.   The sample size of shots from any given location is small.\n",
    "3.   Even if we could find some signal in the noise, there probably isn't much difference between the best finisher and the worst anyway.\n",
    "\n",
    "Whilst you *might* be able to get away with that line of thinking in general, it seems odd to apply that logic to penalties, since:\n",
    "\n",
    "1.   The most important concerns aren't a factor here; the main differences between one penalty and another are [goalkeeper skill](https://youtu.be/o3NKSLKTeDM?t=12), [pitch conditions](https://youtu.be/WlEUdZgH0gc?t=193), and (dare I say it!) confidence. We could make this process significantly more complicated by trying to account for those variables, but that might be overthinking things given what we're trying to accomplish. Unlike open-play shots a rocket into the top corner isn't necessarily better than a delicate chip down the middle (unless your name is Ademola Lookman!), so we can focus more on the results than the execution. If a club wanted to use this process to find their best penalty taker ***these variables could be controlled***, for example by having a penalty shootout (pressure/competitive element) at the end of training (same goalkeeper/pitch conditions) to build up a large sample size of penalty shots for each player in the squad, so a simple model could be just as useful in practice as a more complex one.\n",
    "2.   We still won't have a huge sample size with penalties, but at least the shot location is fixed.\n",
    "3.   Intuitively we know there is at least *some* difference, so why don't we try to investigate further?"
   ]
  },
  {
   "cell_type": "markdown",
   "metadata": {
    "id": "TZNQe-f4-Eou"
   },
   "source": [
    "# Empirical Bayes estimation\n",
    "\n",
    "There are several methods we could use to create a penalty taking skill estimate, but by far the easiest is [*'empirical Bayes estimation'*](https://en.wikipedia.org/wiki/Empirical_Bayes_method).\n",
    "\n",
    "> Important: This analysis is heavily inspired by David Robinson's excellent post [*'Understanding empirical Bayes estimation (using baseball statistics)'*](http://varianceexplained.org/r/empirical_bayes_baseball/). Since I prefer Python to R I'll be replicating some of the steps he used but I won't be going as in-depth, so I highly suggest reading through his post first if you have time!\n",
    "\n",
    "\n",
    "As you'll see in a moment we have data on penalties scored and penalties taken for different players, and we want to estimate penalty conversion rate (scored/taken). Robinson has shown that data in this form can be modelled using a beta distribution. [In his words](http://varianceexplained.org/statistics/beta_distribution_and_baseball/):\n",
    "> \"The beta distribution can be understood as representing a probability distribution *of probabilities* - that is, it represents all the possible values of a probability when we don’t know what that probability is.\"\n",
    "\n",
    "In our case the probability we are looking to estimate is penalty conversion rate (or 'probability of a succesful penalty'). Of course we could just take the actual rate, but that's not very useful in practice. Say John Smith has scored 3/3 penalties, do we really think he is incapable of missing? It would be preferable to ask 'what is our realistic best estimate of Smith's conversion rate *given the fact* that he has scored 3/3 so far?' This method is known as [*'Bayesian inference'*](https://en.wikipedia.org/wiki/Bayesian_inference); we start with a *prior* estimate of conversion rate (e.g. the league average distribution) and *update* our estimate to reflect the new evidence we have on Smith (3/3 penalties scored).\n",
    "\n",
    "> Note: I'm not going to spend much time explaining [Bayes' Theorem](https://en.wikipedia.org/wiki/Bayes%27_theorem), so if you haven't come across it before see [here](https://www.lesswrong.com/posts/XTXWPQSEgoMkAupKt/an-intuitive-explanation-of-bayes-s-theorem) for a primer (or [here](https://betterexplained.com/articles/an-intuitive-and-short-explanation-of-bayes-theorem/) for the short version).\n",
    "\n",
    "\n",
    "In standard Bayesian inference we usually decide on the prior distribution ahead of time, but we can approximate this method by *estimating the prior distribution from our data* instead (hence '*empirical estimation*'). To obtain our prior we'll follow Robinson's method - fit a beta distribution to the data and use that as a starting point for each player or team's prediction.\n"
   ]
  },
  {
   "cell_type": "markdown",
   "metadata": {
    "id": "PsaDtkIUcy0Y"
   },
   "source": [
    "## Estimate a prior from the data"
   ]
  },
  {
   "cell_type": "code",
   "execution_count": 1,
   "metadata": {
    "executionInfo": {
     "elapsed": 971,
     "status": "ok",
     "timestamp": 1605406223512,
     "user": {
      "displayName": "Tom Whelan",
      "photoUrl": "https://lh3.googleusercontent.com/a-/AOh14GgnbPvaiz9OgiXkVoVkd2gHC3Jpjk3NZsn-eoSH=s64",
      "userId": "03831464729329717576"
     },
     "user_tz": 0
    },
    "id": "zfPzT09Xidxp"
   },
   "outputs": [],
   "source": [
    "#hide\n",
    "%reload_ext autoreload\n",
    "%autoreload 2\n",
    "%matplotlib inline"
   ]
  },
  {
   "cell_type": "code",
   "execution_count": 2,
   "metadata": {
    "executionInfo": {
     "elapsed": 691,
     "status": "ok",
     "timestamp": 1605406223514,
     "user": {
      "displayName": "Tom Whelan",
      "photoUrl": "https://lh3.googleusercontent.com/a-/AOh14GgnbPvaiz9OgiXkVoVkd2gHC3Jpjk3NZsn-eoSH=s64",
      "userId": "03831464729329717576"
     },
     "user_tz": 0
    },
    "id": "OjlbXpPSiih7"
   },
   "outputs": [],
   "source": [
    "#hide\n",
    "import pandas as pd\n",
    "import numpy as np\n",
    "import matplotlib\n",
    "import matplotlib.pyplot as plt\n",
    "from matplotlib.lines import Line2D\n",
    "import seaborn as sns\n",
    "import scipy.stats as ss\n",
    "import altair as alt\n",
    "from ipywidgets import widgets, interact\n",
    "from IPython.display import display\n",
    "\n",
    "sns.set(style='darkgrid', color_codes=True)\n",
    "sns.set_context('notebook', font_scale=1.05, rc={'lines.linewidth': 2})\n",
    "pd.options.display.float_format = '{:.2f}'.format"
   ]
  },
  {
   "cell_type": "markdown",
   "metadata": {
    "id": "ZA19itYHI1CJ"
   },
   "source": [
    "The main dataset we will be using is from FBRef's [Big 5 European Leagues Stats](https://fbref.com/en/comps/Big5/stats/players/Big-5-European-Leagues-Stats) page. Let's load it in now.\n",
    "\n",
    "> Note: I am ignoring goalkeeper skill for this analysis, but goalkeeper data is also available at [FBRef](https://fbref.com/en/comps/Big5/keepers/players/Big-5-European-Leagues-Stats) if you want to repeat the steps to estimate penalty save percentage instead! If you aren't familiar with Python I wrote an introductory series that you can check out [here](http://www.fantasyfutopia.com/python-for-fantasy-football-introduction/)."
   ]
  },
  {
   "cell_type": "code",
   "execution_count": 3,
   "metadata": {
    "colab": {
     "base_uri": "https://localhost:8080/",
     "height": 204
    },
    "executionInfo": {
     "elapsed": 1186,
     "status": "ok",
     "timestamp": 1605406225559,
     "user": {
      "displayName": "Tom Whelan",
      "photoUrl": "https://lh3.googleusercontent.com/a-/AOh14GgnbPvaiz9OgiXkVoVkd2gHC3Jpjk3NZsn-eoSH=s64",
      "userId": "03831464729329717576"
     },
     "user_tz": 0
    },
    "id": "GkIsKEdkima4",
    "outputId": "e0591d00-e316-40a3-d702-bb0700728779"
   },
   "outputs": [
    {
     "data": {
      "text/html": [
       "<div>\n",
       "<style scoped>\n",
       "    .dataframe tbody tr th:only-of-type {\n",
       "        vertical-align: middle;\n",
       "    }\n",
       "\n",
       "    .dataframe tbody tr th {\n",
       "        vertical-align: top;\n",
       "    }\n",
       "\n",
       "    .dataframe thead th {\n",
       "        text-align: right;\n",
       "    }\n",
       "</style>\n",
       "<table border=\"1\" class=\"dataframe\">\n",
       "  <thead>\n",
       "    <tr style=\"text-align: right;\">\n",
       "      <th></th>\n",
       "      <th>name</th>\n",
       "      <th>team</th>\n",
       "      <th>league</th>\n",
       "      <th>season</th>\n",
       "      <th>penalties_scored</th>\n",
       "      <th>penalties_taken</th>\n",
       "    </tr>\n",
       "  </thead>\n",
       "  <tbody>\n",
       "    <tr>\n",
       "      <th>0</th>\n",
       "      <td>Matt Le Tissier</td>\n",
       "      <td>Southampton</td>\n",
       "      <td>England</td>\n",
       "      <td>1992</td>\n",
       "      <td>2</td>\n",
       "      <td>2</td>\n",
       "    </tr>\n",
       "    <tr>\n",
       "      <th>1</th>\n",
       "      <td>Dean Saunders</td>\n",
       "      <td>Aston Villa</td>\n",
       "      <td>England</td>\n",
       "      <td>1992</td>\n",
       "      <td>1</td>\n",
       "      <td>2</td>\n",
       "    </tr>\n",
       "    <tr>\n",
       "      <th>2</th>\n",
       "      <td>Alan Shearer</td>\n",
       "      <td>Blackburn</td>\n",
       "      <td>England</td>\n",
       "      <td>1992</td>\n",
       "      <td>3</td>\n",
       "      <td>3</td>\n",
       "    </tr>\n",
       "    <tr>\n",
       "      <th>3</th>\n",
       "      <td>John Sheridan</td>\n",
       "      <td>Sheffield Weds</td>\n",
       "      <td>England</td>\n",
       "      <td>1992</td>\n",
       "      <td>2</td>\n",
       "      <td>2</td>\n",
       "    </tr>\n",
       "    <tr>\n",
       "      <th>4</th>\n",
       "      <td>Andy Sinton</td>\n",
       "      <td>QPR</td>\n",
       "      <td>England</td>\n",
       "      <td>1992</td>\n",
       "      <td>1</td>\n",
       "      <td>2</td>\n",
       "    </tr>\n",
       "  </tbody>\n",
       "</table>\n",
       "</div>"
      ],
      "text/plain": [
       "              name            team   league  season  penalties_scored  \\\n",
       "0  Matt Le Tissier     Southampton  England    1992                 2   \n",
       "1    Dean Saunders     Aston Villa  England    1992                 1   \n",
       "2     Alan Shearer       Blackburn  England    1992                 3   \n",
       "3    John Sheridan  Sheffield Weds  England    1992                 2   \n",
       "4      Andy Sinton             QPR  England    1992                 1   \n",
       "\n",
       "   penalties_taken  \n",
       "0                2  \n",
       "1                2  \n",
       "2                3  \n",
       "3                2  \n",
       "4                2  "
      ]
     },
     "execution_count": 3,
     "metadata": {},
     "output_type": "execute_result"
    }
   ],
   "source": [
    "#collapse-hide\n",
    "df = pd.read_csv('https://raw.githubusercontent.com/twhelan22/blog/master/data/big_five_penalties.csv', \n",
    "                 encoding='utf-8')\n",
    "df.head()"
   ]
  },
  {
   "cell_type": "markdown",
   "metadata": {
    "id": "dac2IEwK6Sef"
   },
   "source": [
    "The dataset contains penalty statistics for players in France, Germany, Italy, Spain and England's top division from the 92/93 season to November 2020. Whilst that sounds like a lot of data, most of the players have only taken a handful of penalties:"
   ]
  },
  {
   "cell_type": "code",
   "execution_count": 4,
   "metadata": {
    "colab": {
     "base_uri": "https://localhost:8080/",
     "height": 297
    },
    "executionInfo": {
     "elapsed": 706,
     "status": "ok",
     "timestamp": 1605406228078,
     "user": {
      "displayName": "Tom Whelan",
      "photoUrl": "https://lh3.googleusercontent.com/a-/AOh14GgnbPvaiz9OgiXkVoVkd2gHC3Jpjk3NZsn-eoSH=s64",
      "userId": "03831464729329717576"
     },
     "user_tz": 0
    },
    "id": "KkrSWcLb8V5D",
    "outputId": "ebe71adc-698f-48cf-fd13-38288f39a7e5"
   },
   "outputs": [
    {
     "data": {
      "text/html": [
       "<div>\n",
       "<style scoped>\n",
       "    .dataframe tbody tr th:only-of-type {\n",
       "        vertical-align: middle;\n",
       "    }\n",
       "\n",
       "    .dataframe tbody tr th {\n",
       "        vertical-align: top;\n",
       "    }\n",
       "\n",
       "    .dataframe thead th {\n",
       "        text-align: right;\n",
       "    }\n",
       "</style>\n",
       "<table border=\"1\" class=\"dataframe\">\n",
       "  <thead>\n",
       "    <tr style=\"text-align: right;\">\n",
       "      <th></th>\n",
       "      <th>penalties_scored</th>\n",
       "      <th>penalties_taken</th>\n",
       "      <th>conversion_rate</th>\n",
       "    </tr>\n",
       "  </thead>\n",
       "  <tbody>\n",
       "    <tr>\n",
       "      <th>count</th>\n",
       "      <td>2204.00</td>\n",
       "      <td>2204.00</td>\n",
       "      <td>2204.00</td>\n",
       "    </tr>\n",
       "    <tr>\n",
       "      <th>mean</th>\n",
       "      <td>3.90</td>\n",
       "      <td>5.02</td>\n",
       "      <td>0.71</td>\n",
       "    </tr>\n",
       "    <tr>\n",
       "      <th>std</th>\n",
       "      <td>6.00</td>\n",
       "      <td>7.13</td>\n",
       "      <td>0.34</td>\n",
       "    </tr>\n",
       "    <tr>\n",
       "      <th>min</th>\n",
       "      <td>0.00</td>\n",
       "      <td>1.00</td>\n",
       "      <td>0.00</td>\n",
       "    </tr>\n",
       "    <tr>\n",
       "      <th>25%</th>\n",
       "      <td>1.00</td>\n",
       "      <td>1.00</td>\n",
       "      <td>0.50</td>\n",
       "    </tr>\n",
       "    <tr>\n",
       "      <th>50%</th>\n",
       "      <td>2.00</td>\n",
       "      <td>2.00</td>\n",
       "      <td>0.83</td>\n",
       "    </tr>\n",
       "    <tr>\n",
       "      <th>75%</th>\n",
       "      <td>5.00</td>\n",
       "      <td>6.00</td>\n",
       "      <td>1.00</td>\n",
       "    </tr>\n",
       "    <tr>\n",
       "      <th>max</th>\n",
       "      <td>91.00</td>\n",
       "      <td>105.00</td>\n",
       "      <td>1.00</td>\n",
       "    </tr>\n",
       "  </tbody>\n",
       "</table>\n",
       "</div>"
      ],
      "text/plain": [
       "       penalties_scored  penalties_taken  conversion_rate\n",
       "count           2204.00          2204.00          2204.00\n",
       "mean               3.90             5.02             0.71\n",
       "std                6.00             7.13             0.34\n",
       "min                0.00             1.00             0.00\n",
       "25%                1.00             1.00             0.50\n",
       "50%                2.00             2.00             0.83\n",
       "75%                5.00             6.00             1.00\n",
       "max               91.00           105.00             1.00"
      ]
     },
     "execution_count": 4,
     "metadata": {},
     "output_type": "execute_result"
    }
   ],
   "source": [
    "#collapse-hide\n",
    "players = df.groupby('name')[['penalties_scored', 'penalties_taken']].sum().reset_index()\n",
    "\n",
    "def conversion_rate(df):\n",
    "    df['conversion_rate'] = df['penalties_scored'] / df['penalties_taken']\n",
    "    return\n",
    "\n",
    "conversion_rate(players)\n",
    "players.describe()"
   ]
  },
  {
   "cell_type": "markdown",
   "metadata": {
    "id": "oe0xHfuP_eWK"
   },
   "source": [
    "This means that over half of the players in the dataset have a conversion rate of 100% or 0%:"
   ]
  },
  {
   "cell_type": "code",
   "execution_count": 5,
   "metadata": {
    "colab": {
     "base_uri": "https://localhost:8080/",
     "height": 364
    },
    "executionInfo": {
     "elapsed": 1364,
     "status": "ok",
     "timestamp": 1605406230930,
     "user": {
      "displayName": "Tom Whelan",
      "photoUrl": "https://lh3.googleusercontent.com/a-/AOh14GgnbPvaiz9OgiXkVoVkd2gHC3Jpjk3NZsn-eoSH=s64",
      "userId": "03831464729329717576"
     },
     "user_tz": 0
    },
    "id": "TDrQPFGz_RK9",
    "outputId": "8d9717e5-9f61-414b-fa6e-903ea5d5d175"
   },
   "outputs": [
    {
     "data": {
      "image/png": "[encoded data removed]",
      "text/plain": [
       "<Figure size 360x360 with 1 Axes>"
      ]
     },
     "metadata": {},
     "output_type": "display_data"
    }
   ],
   "source": [
    "#collapse-hide\n",
    "sns.displot(data=players, x='conversion_rate', kde=True);"
   ]
  },
  {
   "cell_type": "markdown",
   "metadata": {
    "id": "eQCun1f-9YDr"
   },
   "source": [
    "Clearly those players would add a lot of noise to our estimate, but we don't want to just throw out a big chunk of data if we can help it. To get around this problem, we can `groupby` 'team' and fit a beta distribution to the resulting team-level data instead. We can then use that prior to get predictions for each player afterwards.\n",
    "\n",
    "> Note: If you have a bigger dataset you could use players to get the prior instead!"
   ]
  },
  {
   "cell_type": "code",
   "execution_count": 6,
   "metadata": {
    "colab": {
     "base_uri": "https://localhost:8080/",
     "height": 644
    },
    "executionInfo": {
     "elapsed": 1007,
     "status": "ok",
     "timestamp": 1605406233323,
     "user": {
      "displayName": "Tom Whelan",
      "photoUrl": "https://lh3.googleusercontent.com/a-/AOh14GgnbPvaiz9OgiXkVoVkd2gHC3Jpjk3NZsn-eoSH=s64",
      "userId": "03831464729329717576"
     },
     "user_tz": 0
    },
    "id": "hUzE5w1yjvX9",
    "outputId": "0aac8b69-fdd2-4a82-e032-04eb776f1998"
   },
   "outputs": [
    {
     "data": {
      "text/html": [
       "<div>\n",
       "<style scoped>\n",
       "    .dataframe tbody tr th:only-of-type {\n",
       "        vertical-align: middle;\n",
       "    }\n",
       "\n",
       "    .dataframe tbody tr th {\n",
       "        vertical-align: top;\n",
       "    }\n",
       "\n",
       "    .dataframe thead th {\n",
       "        text-align: right;\n",
       "    }\n",
       "</style>\n",
       "<table border=\"1\" class=\"dataframe\">\n",
       "  <thead>\n",
       "    <tr style=\"text-align: right;\">\n",
       "      <th></th>\n",
       "      <th>penalties_scored</th>\n",
       "      <th>penalties_taken</th>\n",
       "      <th>conversion_rate</th>\n",
       "    </tr>\n",
       "  </thead>\n",
       "  <tbody>\n",
       "    <tr>\n",
       "      <th>count</th>\n",
       "      <td>214.00</td>\n",
       "      <td>214.00</td>\n",
       "      <td>214.00</td>\n",
       "    </tr>\n",
       "    <tr>\n",
       "      <th>mean</th>\n",
       "      <td>40.21</td>\n",
       "      <td>51.66</td>\n",
       "      <td>0.76</td>\n",
       "    </tr>\n",
       "    <tr>\n",
       "      <th>std</th>\n",
       "      <td>35.44</td>\n",
       "      <td>44.60</td>\n",
       "      <td>0.12</td>\n",
       "    </tr>\n",
       "    <tr>\n",
       "      <th>min</th>\n",
       "      <td>1.00</td>\n",
       "      <td>1.00</td>\n",
       "      <td>0.20</td>\n",
       "    </tr>\n",
       "    <tr>\n",
       "      <th>25%</th>\n",
       "      <td>11.00</td>\n",
       "      <td>15.00</td>\n",
       "      <td>0.73</td>\n",
       "    </tr>\n",
       "    <tr>\n",
       "      <th>50%</th>\n",
       "      <td>30.50</td>\n",
       "      <td>39.50</td>\n",
       "      <td>0.77</td>\n",
       "    </tr>\n",
       "    <tr>\n",
       "      <th>75%</th>\n",
       "      <td>61.75</td>\n",
       "      <td>79.75</td>\n",
       "      <td>0.83</td>\n",
       "    </tr>\n",
       "    <tr>\n",
       "      <th>max</th>\n",
       "      <td>154.00</td>\n",
       "      <td>193.00</td>\n",
       "      <td>1.00</td>\n",
       "    </tr>\n",
       "  </tbody>\n",
       "</table>\n",
       "</div>"
      ],
      "text/plain": [
       "       penalties_scored  penalties_taken  conversion_rate\n",
       "count            214.00           214.00           214.00\n",
       "mean              40.21            51.66             0.76\n",
       "std               35.44            44.60             0.12\n",
       "min                1.00             1.00             0.20\n",
       "25%               11.00            15.00             0.73\n",
       "50%               30.50            39.50             0.77\n",
       "75%               61.75            79.75             0.83\n",
       "max              154.00           193.00             1.00"
      ]
     },
     "metadata": {},
     "output_type": "display_data"
    },
    {
     "data": {
      "image/png": "[encoded data removed]",
      "text/plain": [
       "<Figure size 360x360 with 1 Axes>"
      ]
     },
     "metadata": {},
     "output_type": "display_data"
    }
   ],
   "source": [
    "#collapse-hide\n",
    "teams = df.groupby('team')[['penalties_scored', 'penalties_taken']].sum().reset_index()\n",
    "conversion_rate(teams)\n",
    "display(teams.describe())\n",
    "sns.displot(data=teams, x='conversion_rate', kde=True);"
   ]
  },
  {
   "cell_type": "markdown",
   "metadata": {
    "id": "p8RvtNmwdAsz"
   },
   "source": [
    "That looks much more reasonable already! Let's filter out teams with fewer than 10 attempts and see what we're left with."
   ]
  },
  {
   "cell_type": "code",
   "execution_count": 7,
   "metadata": {
    "colab": {
     "base_uri": "https://localhost:8080/",
     "height": 364
    },
    "executionInfo": {
     "elapsed": 982,
     "status": "ok",
     "timestamp": 1605406283149,
     "user": {
      "displayName": "Tom Whelan",
      "photoUrl": "https://lh3.googleusercontent.com/a-/AOh14GgnbPvaiz9OgiXkVoVkd2gHC3Jpjk3NZsn-eoSH=s64",
      "userId": "03831464729329717576"
     },
     "user_tz": 0
    },
    "id": "Wyg1rIJnkeJC",
    "outputId": "41a51299-21f4-4569-dd0f-d8c30e51699c"
   },
   "outputs": [
    {
     "data": {
      "image/png": "[encoded data removed]",
      "text/plain": [
       "<Figure size 360x360 with 1 Axes>"
      ]
     },
     "metadata": {},
     "output_type": "display_data"
    }
   ],
   "source": [
    "#hide_input\n",
    "teams_filt = teams.copy()[teams['penalties_taken']>10]\n",
    "sns.displot(data=teams_filt, x=\"conversion_rate\", kde=True);"
   ]
  },
  {
   "cell_type": "markdown",
   "metadata": {
    "id": "yXsRULyc8Zj-"
   },
   "source": [
    "This is what we'd expect to see intuitively; most of the teams are close to the average, with a few teams having performed significantly better or worse than average. Let's try to fit a beta distribution to this data:"
   ]
  },
  {
   "cell_type": "code",
   "execution_count": 8,
   "metadata": {
    "colab": {
     "base_uri": "https://localhost:8080/",
     "height": 342
    },
    "executionInfo": {
     "elapsed": 991,
     "status": "ok",
     "timestamp": 1605406296904,
     "user": {
      "displayName": "Tom Whelan",
      "photoUrl": "https://lh3.googleusercontent.com/a-/AOh14GgnbPvaiz9OgiXkVoVkd2gHC3Jpjk3NZsn-eoSH=s64",
      "userId": "03831464729329717576"
     },
     "user_tz": 0
    },
    "id": "JXgHTHJSkxgZ",
    "outputId": "7d0ebc27-d484-4265-82d5-5cb04addbd07"
   },
   "outputs": [
    {
     "data": {
      "image/png": "[encoded data removed]",
      "text/plain": [
       "<Figure size 576x360 with 1 Axes>"
      ]
     },
     "metadata": {},
     "output_type": "display_data"
    }
   ],
   "source": [
    "#collapse-hide\n",
    "# Plot the distribution of actual conversion rate (our original data)\n",
    "palette = sns.color_palette()\n",
    "fig, ax = plt.subplots(figsize=(8,5))\n",
    "ax.xaxis.set_major_formatter(matplotlib.ticker.PercentFormatter(1))\n",
    "sns.kdeplot(data=teams_filt['conversion_rate'])\n",
    "\n",
    "# Fit a beta distribution to the data to get the alpha0 and beta0 parameters\n",
    "# Note that for this to work 0 < data < 1, which is OK in this case, \n",
    "# since a predicted conversion rate of 0% or 100% isn't realistic in practice\n",
    "alpha0, beta0, _, _ = ss.beta.fit(teams_filt['conversion_rate'], floc=0, fscale=1)\n",
    "\n",
    "# Generate a beta distribution using alpha0 and beta0 (the prior distribution)\n",
    "prior_dist = ss.beta.rvs(alpha0, beta0, size=10000)\n",
    "\n",
    "# Plot the random beta distribution we just generated\n",
    "sns.kdeplot(data=prior_dist)\n",
    "\n",
    "# Add legend\n",
    "custom_lines = [Line2D([0], [0], color=palette[0], lw=2.5),\n",
    "                Line2D([0], [0], color=palette[1], lw=2.5)]\n",
    "ax.legend(custom_lines, ['Actual conversion rate', \n",
    "                         'Random beta distribution:\\nalpha0={:.2f}, beta0={:.2f}'.format(alpha0, beta0)]);"
   ]
  },
  {
   "cell_type": "markdown",
   "metadata": {
    "id": "3GyEwU_gl9lv"
   },
   "source": [
    "That looks good enough for what we are trying to acomplish here! The beta distribution we just generated is defined as:\n",
    "\n",
    "$X\\sim Beta(\\alpha_0,\\beta_0)$\n",
    "\n",
    "So what are $\\alpha_0$ and $\\beta_0$? In this case $\\alpha_0$ = penalties scored and $\\beta_0$ = penalties missed. With zero evidence we are going to start with the assumption that every player or team has scored $\\alpha_0$ times and missed $\\beta_0$ times. Our prior estimate of conversion rate is therefore:\n",
    "\n",
    "$prior\\:estimate = \\frac{starting\\:goals}{starting\\:goals\\:+\\:starting\\:misses}  = \\frac{\\alpha_0}{\\alpha_0\\:+\\:\\beta_0}$\n",
    "\n",
    "We are essentially giving everyone a 'head start' by assuming they have already taken some penalties and converted them at an average rate, which gets around the issue of small sample sizes. To incorporate the additional evidence we have for a particular player or team, we update their distribution as follows:\n",
    "\n",
    "$Beta(\\alpha_0\\:+\\:goals,\\beta_0\\:+\\:misses)$\n",
    "\n",
    "Let's take a look at this in action to get a better understanding of the process."
   ]
  },
  {
   "cell_type": "markdown",
   "metadata": {
    "id": "VXqCzxk9an7z"
   },
   "source": [
    "## Visualising the effects of empirical Bayes"
   ]
  },
  {
   "cell_type": "code",
   "execution_count": 9,
   "metadata": {
    "colab": {
     "base_uri": "https://localhost:8080/",
     "height": 905
    },
    "executionInfo": {
     "elapsed": 1517,
     "status": "ok",
     "timestamp": 1605406301317,
     "user": {
      "displayName": "Tom Whelan",
      "photoUrl": "https://lh3.googleusercontent.com/a-/AOh14GgnbPvaiz9OgiXkVoVkd2gHC3Jpjk3NZsn-eoSH=s64",
      "userId": "03831464729329717576"
     },
     "user_tz": 0
    },
    "id": "cyQrP-EEYrpE",
    "outputId": "c213ed67-8a9c-491c-f7a3-0f5286e3eb1c"
   },
   "outputs": [
    {
     "name": "stdout",
     "output_type": "stream",
     "text": [
      "Start off with alpha0 = 30.83 goals and beta0 = 8.82 misses:\n",
      "Prior estimate = 30.83 / (30.83 + 8.82) = 77.76%\n",
      "\n",
      "Then every time a penalty is taken, add the results to the starting estimate:\n",
      "New estimate = (alpha0 + penalties_scored) / (alpha0 + beta0 + penalties_taken)\n",
      "\n"
     ]
    },
    {
     "data": {
      "image/png": "[encoded data removed]",
      "text/plain": [
       "<Figure size 648x432 with 1 Axes>"
      ]
     },
     "metadata": {},
     "output_type": "display_data"
    },
    {
     "data": {
      "image/png": "[encoded data removed]",
      "text/plain": [
       "<Figure size 648x432 with 1 Axes>"
      ]
     },
     "metadata": {},
     "output_type": "display_data"
    }
   ],
   "source": [
    "#collapse-hide\n",
    "# Define a function to get predicted conversion rate using alpha0 and beta0\n",
    "def predicted_conversion(scored, taken, alpha=alpha0, beta=beta0):\n",
    "    return (alpha0 + scored) / (alpha0 + beta0 + taken)\n",
    "\n",
    "prior = predicted_conversion(scored=0, taken=0)\n",
    "\n",
    "print('Start off with alpha0 = {:.2f} goals and beta0 = {:.2f} misses:'.format(alpha0, beta0))\n",
    "print('Prior estimate = {:.2f} / ({:.2f} + {:.2f}) = {:.2%}\\n'.format(alpha0, alpha0, beta0, prior))\n",
    "print('Then every time a penalty is taken, add the results to the starting estimate:')\n",
    "print('New estimate = (alpha0 + penalties_scored) / (alpha0 + beta0 + penalties_taken)\\n')\n",
    "\n",
    "\n",
    "sns.set(style='ticks')\n",
    "def plot_dist(scored, missed):\n",
    "    taken = scored + missed\n",
    "    new_estimate = predicted_conversion(scored=scored, taken=taken)\n",
    "    # Plot the prior distribution\n",
    "    fig, ax = plt.subplots(figsize=(9,6))\n",
    "    ax.set(title='After {:n} taken, {:n} scored: estimate = ({:.2f} + {:n}) / ({:.2f} + {:.2f} + {:n}) = {:.2%}'.format(taken, scored, alpha0, scored, alpha0, beta0, taken, new_estimate),\n",
    "        ylim=[0, 8],\n",
    "        xlabel='Predicted penalty conversion rate')\n",
    "    ax.xaxis.set_major_formatter(matplotlib.ticker.PercentFormatter(1))\n",
    "    sns.kdeplot(data=prior_dist, color=palette[-1], fill=True)\n",
    "    plt.axvline(prior, 0, 0.95, color=palette[-1], linestyle='--')\n",
    "\n",
    "    # Plot the new distribution\n",
    "    new_dist = ss.beta.rvs(alpha0+scored, beta0+missed, size=10000)\n",
    "    sns.kdeplot(data=new_dist, color=palette[3])\n",
    "    plt.axvline(new_estimate, 0, 0.95, color=palette[3], linestyle='--')\n",
    "\n",
    "    # Add custom legend and axes\n",
    "    custom_lines = [Line2D([0], [0], color=palette[3], lw=2.5),\n",
    "                    Line2D([0], [0], color=palette[-1], lw=2.5)]\n",
    "    ax.legend(custom_lines,\n",
    "            ['New estimate: %s' % (str(round(new_estimate*100, 2)))+'%',\n",
    "            'Prior estimate: %s' % (str(round(prior*100, 2)))+'%'],\n",
    "            loc='upper left')\n",
    "    sns.despine(right=True, top=True);\n",
    "\n",
    "plot_dist(1, 0)\n",
    "plot_dist(10, 1)"
   ]
  },
  {
   "cell_type": "markdown",
   "metadata": {
    "id": "RyLG9FUvC0H-"
   },
   "source": [
    "After 1 taken, 1 scored our new estimate is very similar to the prior distribution - we don't want to make drastic changes after just one penalty! After 11 taken, 10 scored the new distribution is taller and narrower, since we are starting to get more confident in our estimate now that we have more information. The new distribution has also shifted to the right, since we think there is a good chance this player is above average. However, even with more evidence this player's predicted conversion rate of 80.61% is still closer to the *average rate* than the his *actual* conversion rate of 90.9%."
   ]
  },
  {
   "cell_type": "markdown",
   "metadata": {
    "id": "HDeTwPmvj6pH"
   },
   "source": [
    "The process of pulling estimates back towards the average is sometimes referred to as *'shrinkage'*, which is illustrated more clearly in the interactive chart below. Teams with a small number of attempts are pulled back towards the prior estimate (the horizontal line) significantly, whereas teams with > 150 attempts have a predicted conversion rate close to their actual conversion rate (i.e. close to the diagonal line). In other words, more evidence = less shrinkage, and vice versa."
   ]
  },
  {
   "cell_type": "code",
   "execution_count": 10,
   "metadata": {
    "colab": {
     "base_uri": "https://localhost:8080/",
     "height": 590
    },
    "executionInfo": {
     "elapsed": 630,
     "status": "ok",
     "timestamp": 1605406303979,
     "user": {
      "displayName": "Tom Whelan",
      "photoUrl": "https://lh3.googleusercontent.com/a-/AOh14GgnbPvaiz9OgiXkVoVkd2gHC3Jpjk3NZsn-eoSH=s64",
      "userId": "03831464729329717576"
     },
     "user_tz": 0
    },
    "id": "M-pQSqBVfj10",
    "outputId": "eabe7a70-3afd-4e98-dafc-6865c93a496e"
   },
   "outputs": [
    {
     "data": {
      "text/html": [
       "\n",
       "<div id=\"altair-viz-62a97c87bf344c368addd2ccc7ef44fb\"></div>\n",
       "<script type=\"text/javascript\">\n",
       "  (function(spec, embedOpt){\n",
       "    let outputDiv = document.currentScript.previousElementSibling;\n",
       "    if (outputDiv.id !== \"altair-viz-62a97c87bf344c368addd2ccc7ef44fb\") {\n",
       "      outputDiv = document.getElementById(\"altair-viz-62a97c87bf344c368addd2ccc7ef44fb\");\n",
       "    }\n",
       "    const paths = {\n",
       "      \"vega\": \"https://cdn.jsdelivr.net/npm//vega@5?noext\",\n",
       "      \"vega-lib\": \"https://cdn.jsdelivr.net/npm//vega-lib?noext\",\n",
       "      \"vega-lite\": \"https://cdn.jsdelivr.net/npm//vega-lite@4.8.1?noext\",\n",
       "      \"vega-embed\": \"https://cdn.jsdelivr.net/npm//vega-embed@6?noext\",\n",
       "    };\n",
       "\n",
       "    function loadScript(lib) {\n",
       "      return new Promise(function(resolve, reject) {\n",
       "        var s = document.createElement('script');\n",
       "        s.src = paths[lib];\n",
       "        s.async = true;\n",
       "        s.onload = () => resolve(paths[lib]);\n",
       "        s.onerror = () => reject(`Error loading script: ${paths[lib]}`);\n",
       "        document.getElementsByTagName(\"head\")[0].appendChild(s);\n",
       "      });\n",
       "    }\n",
       "\n",
       "    function showError(err) {\n",
       "      outputDiv.innerHTML = `<div class=\"error\" style=\"color:red;\">${err}</div>`;\n",
       "      throw err;\n",
       "    }\n",
       "\n",
       "    function displayChart(vegaEmbed) {\n",
       "      vegaEmbed(outputDiv, spec, embedOpt)\n",
       "        .catch(err => showError(`Javascript Error: ${err.message}<br>This usually means there's a typo in your chart specification. See the javascript console for the full traceback.`));\n",
       "    }\n",
       "\n",
       "    if(typeof define === \"function\" && define.amd) {\n",
       "      requirejs.config({paths});\n",
       "      require([\"vega-embed\"], displayChart, err => showError(`Error loading script: ${err.message}`));\n",
       "    } else if (typeof vegaEmbed === \"function\") {\n",
       "      displayChart(vegaEmbed);\n",
       "    } else {\n",
       "      loadScript(\"vega\")\n",
       "        .then(() => loadScript(\"vega-lite\"))\n",
       "        .then(() => loadScript(\"vega-embed\"))\n",
       "        .catch(showError)\n",
       "        .then(() => displayChart(vegaEmbed));\n",
       "    }\n",
       "  })({\"config\": {\"view\": {\"continuousWidth\": 400, \"continuousHeight\": 300}, \"axis\": {\"labelFontSize\": 11, \"titleFontSize\": 14, \"titleFontWeight\": \"normal\"}, \"header\": {\"titleFontSize\": 20, \"titleFontWeight\": \"normal\"}, \"legend\": {\"labelFontSize\": 11, \"titleFontSize\": 12, \"titleFontWeight\": \"normal\"}}, \"layer\": [{\"data\": {\"name\": \"data-5cafc035a4b785aa5a9244defa38125d\"}, \"mark\": {\"type\": \"circle\", \"size\": 50}, \"encoding\": {\"color\": {\"condition\": {\"type\": \"quantitative\", \"field\": \"penalties_taken\", \"legend\": {\"title\": \"Penalties taken\"}, \"scale\": {\"scheme\": \"inferno\"}, \"selection\": \"selector001\"}, \"value\": \"grey\"}, \"opacity\": {\"condition\": {\"value\": 0.8, \"selection\": \"selector001\"}, \"value\": 0.1}, \"tooltip\": [{\"type\": \"nominal\", \"field\": \"team\"}, {\"type\": \"quantitative\", \"field\": \"penalties_scored\"}, {\"type\": \"quantitative\", \"field\": \"penalties_taken\"}, {\"type\": \"quantitative\", \"field\": \"conversion_rate\", \"format\": \".2%\"}, {\"type\": \"quantitative\", \"field\": \"predicted_conversion\", \"format\": \".2%\"}], \"x\": {\"type\": \"quantitative\", \"axis\": {\"format\": \"%\", \"title\": \"Actual conversion rate\"}, \"field\": \"conversion_rate\", \"scale\": {\"domain\": [0.1, 1.1]}}, \"y\": {\"type\": \"quantitative\", \"axis\": {\"format\": \"%\", \"title\": \"Predicted conversion rate\"}, \"field\": \"predicted_conversion\", \"scale\": {\"domain\": [0.685, 0.875]}}}, \"height\": 500, \"selection\": {\"selector001\": {\"type\": \"single\", \"on\": \"mouseover\"}, \"selector002\": {\"type\": \"interval\", \"bind\": \"scales\", \"encodings\": [\"x\", \"y\"]}}, \"title\": \"As the number of penalties taken increases, predicted rate approaches actual rate\", \"width\": 500}, {\"data\": {\"name\": \"data-a2dac47a8e8ee16c9c3fa6429ed5a9e2\"}, \"mark\": {\"type\": \"rule\", \"color\": \"#280b53\", \"strokeWidth\": 2}, \"encoding\": {\"y\": {\"type\": \"quantitative\", \"field\": \"y\"}}}, {\"data\": {\"name\": \"data-908bc6c738a73f27fc5e0de478cb8b86\"}, \"mark\": {\"type\": \"text\", \"baseline\": \"bottom\", \"color\": \"#280b53\", \"fontSize\": 15}, \"encoding\": {\"text\": {\"type\": \"nominal\", \"field\": \"text\"}, \"x\": {\"type\": \"quantitative\", \"field\": \"x\"}, \"y\": {\"type\": \"quantitative\", \"field\": \"y\"}}}, {\"data\": {\"name\": \"data-22589508794e28536202bb75a21f67b1\"}, \"mark\": {\"type\": \"line\", \"color\": \"#fac228\", \"strokeWidth\": 2}, \"encoding\": {\"x\": {\"type\": \"quantitative\", \"field\": \"x\"}, \"y\": {\"type\": \"quantitative\", \"field\": \"y\"}}}, {\"data\": {\"name\": \"data-22589508794e28536202bb75a21f67b1\"}, \"mark\": {\"type\": \"text\", \"angle\": 285, \"baseline\": \"top\", \"color\": \"#fac228\", \"fontSize\": 15}, \"encoding\": {\"text\": {\"type\": \"nominal\", \"field\": \"text\"}, \"x\": {\"type\": \"quantitative\", \"field\": \"x\"}, \"y\": {\"type\": \"quantitative\", \"field\": \"y\"}}}], \"$schema\": \"https://vega.github.io/schema/vega-lite/v4.8.1.json\", \"datasets\": {\"data-5cafc035a4b785aa5a9244defa38125d\": [{\"team\": \"1860 Munich\", \"penalties_scored\": 15, \"penalties_taken\": 19, \"conversion_rate\": 0.7894736842105263, \"predicted_conversion\": 0.7814373053413555}, {\"team\": \"AA Aachen\", \"penalties_scored\": 6, \"penalties_taken\": 8, \"conversion_rate\": 0.75, \"predicted_conversion\": 0.7729535065476942}, {\"team\": \"Ajaccio\", \"penalties_scored\": 14, \"penalties_taken\": 20, \"conversion_rate\": 0.7, \"predicted_conversion\": 0.7515687317610416}, {\"team\": \"Alav\\u00e9s\", \"penalties_scored\": 36, \"penalties_taken\": 48, \"conversion_rate\": 0.75, \"predicted_conversion\": 0.7624775394736187}, {\"team\": \"Albacete\", \"penalties_scored\": 5, \"penalties_taken\": 6, \"conversion_rate\": 0.8333333333333334, \"predicted_conversion\": 0.7849139962331502}, {\"team\": \"Almer\\u00eda\", \"penalties_scored\": 24, \"penalties_taken\": 30, \"conversion_rate\": 0.8, \"predicted_conversion\": 0.7872410812724596}, {\"team\": \"Amiens\", \"penalties_scored\": 8, \"penalties_taken\": 12, \"conversion_rate\": 0.6666666666666666, \"predicted_conversion\": 0.7518117456879517}, {\"team\": \"Ancona\", \"penalties_scored\": 3, \"penalties_taken\": 4, \"conversion_rate\": 0.75, \"predicted_conversion\": 0.7750572806762844}, {\"team\": \"Angers\", \"penalties_scored\": 19, \"penalties_taken\": 27, \"conversion_rate\": 0.7037037037037037, \"predicted_conversion\": 0.7476525971083046}, {\"team\": \"Arles-Avignon\", \"penalties_scored\": 1, \"penalties_taken\": 1, \"conversion_rate\": 1.0, \"predicted_conversion\": 0.7830580581741099}, {\"team\": \"Arminia\", \"penalties_scored\": 17, \"penalties_taken\": 24, \"conversion_rate\": 0.7083333333333334, \"predicted_conversion\": 0.7514701353191223}, {\"team\": \"Arsenal\", \"penalties_scored\": 114, \"penalties_taken\": 144, \"conversion_rate\": 0.7916666666666666, \"predicted_conversion\": 0.7886270169513999}, {\"team\": \"Ascoli\", \"penalties_scored\": 6, \"penalties_taken\": 9, \"conversion_rate\": 0.6666666666666666, \"predicted_conversion\": 0.7570630193242135}, {\"team\": \"Aston Villa\", \"penalties_scored\": 72, \"penalties_taken\": 100, \"conversion_rate\": 0.72, \"predicted_conversion\": 0.7363477347192966}, {\"team\": \"Atalanta\", \"penalties_scored\": 65, \"penalties_taken\": 86, \"conversion_rate\": 0.7558139534883721, \"predicted_conversion\": 0.7626833097644343}, {\"team\": \"Athletic Club\", \"penalties_scored\": 97, \"penalties_taken\": 134, \"conversion_rate\": 0.7238805970149254, \"predicted_conversion\": 0.7361414316874856}, {\"team\": \"Atl\\u00e9tico Madrid\", \"penalties_scored\": 82, \"penalties_taken\": 121, \"conversion_rate\": 0.6776859504132231, \"predicted_conversion\": 0.7023386686378222}, {\"team\": \"Augsburg\", \"penalties_scored\": 35, \"penalties_taken\": 42, \"conversion_rate\": 0.8333333333333334, \"predicted_conversion\": 0.8062643405794291}, {\"team\": \"Auxerre\", \"penalties_scored\": 28, \"penalties_taken\": 34, \"conversion_rate\": 0.8235294117647058, \"predicted_conversion\": 0.7987973880862902}, {\"team\": \"Barcelona\", \"penalties_scored\": 129, \"penalties_taken\": 158, \"conversion_rate\": 0.8164556962025317, \"predicted_conversion\": 0.8086592527070106}, {\"team\": \"Bari\", \"penalties_scored\": 26, \"penalties_taken\": 32, \"conversion_rate\": 0.8125, \"predicted_conversion\": 0.7931805397974719}, {\"team\": \"Barnsley\", \"penalties_scored\": 3, \"penalties_taken\": 5, \"conversion_rate\": 0.6, \"predicted_conversion\": 0.7576958704886779}, {\"team\": \"Bastia\", \"penalties_scored\": 30, \"penalties_taken\": 38, \"conversion_rate\": 0.7894736842105263, \"predicted_conversion\": 0.7834038975928884}, {\"team\": \"Bayern Munich\", \"penalties_scored\": 93, \"penalties_taken\": 116, \"conversion_rate\": 0.8017241379310345, \"predicted_conversion\": 0.7955759946660663}, {\"team\": \"Benevento\", \"penalties_scored\": 2, \"penalties_taken\": 4, \"conversion_rate\": 0.5, \"predicted_conversion\": 0.7521438521308587}, {\"team\": \"Betis\", \"penalties_scored\": 63, \"penalties_taken\": 84, \"conversion_rate\": 0.75, \"predicted_conversion\": 0.758844554772543}, {\"team\": \"Birmingham City\", \"penalties_scored\": 22, \"penalties_taken\": 26, \"conversion_rate\": 0.8461538461538461, \"predicted_conversion\": 0.8047444334362297}, {\"team\": \"Blackburn\", \"penalties_scored\": 59, \"penalties_taken\": 79, \"conversion_rate\": 0.7468354430379747, \"predicted_conversion\": 0.7571101242476338}, {\"team\": \"Blackpool\", \"penalties_scored\": 7, \"penalties_taken\": 8, \"conversion_rate\": 0.875, \"predicted_conversion\": 0.793943155781473}, {\"team\": \"Bochum\", \"penalties_scored\": 14, \"penalties_taken\": 16, \"conversion_rate\": 0.875, \"predicted_conversion\": 0.8055970965716142}, {\"team\": \"Bologna\", \"penalties_scored\": 62, \"penalties_taken\": 80, \"conversion_rate\": 0.775, \"predicted_conversion\": 0.7758567177021277}, {\"team\": \"Bolton\", \"penalties_scored\": 34, \"penalties_taken\": 44, \"conversion_rate\": 0.7727272727272727, \"predicted_conversion\": 0.7750298875899844}, {\"team\": \"Bordeaux\", \"penalties_scored\": 88, \"penalties_taken\": 115, \"conversion_rate\": 0.7652173913043478, \"predicted_conversion\": 0.768387975971157}, {\"team\": \"Boulogne\", \"penalties_scored\": 2, \"penalties_taken\": 3, \"conversion_rate\": 0.6666666666666666, \"predicted_conversion\": 0.7697822016028255}, {\"team\": \"Bournemouth\", \"penalties_scored\": 24, \"penalties_taken\": 30, \"conversion_rate\": 0.8, \"predicted_conversion\": 0.7872410812724596}, {\"team\": \"Bradford City\", \"penalties_scored\": 8, \"penalties_taken\": 10, \"conversion_rate\": 0.8, \"predicted_conversion\": 0.7821007636272392}, {\"team\": \"Braunschweig\", \"penalties_scored\": 1, \"penalties_taken\": 3, \"conversion_rate\": 0.3333333333333333, \"predicted_conversion\": 0.7463314356064054}, {\"team\": \"Brescia\", \"penalties_scored\": 38, \"penalties_taken\": 51, \"conversion_rate\": 0.7450980392156863, \"predicted_conversion\": 0.7593064826042869}, {\"team\": \"Brest\", \"penalties_scored\": 16, \"penalties_taken\": 24, \"conversion_rate\": 0.6666666666666666, \"predicted_conversion\": 0.7357573722502794}, {\"team\": \"Brighton\", \"penalties_scored\": 13, \"penalties_taken\": 17, \"conversion_rate\": 0.7647058823529411, \"predicted_conversion\": 0.7737200408254962}, {\"team\": \"Burnley\", \"penalties_scored\": 18, \"penalties_taken\": 19, \"conversion_rate\": 0.9473684210526315, \"predicted_conversion\": 0.8325947159048859}, {\"team\": \"Caen\", \"penalties_scored\": 40, \"penalties_taken\": 47, \"conversion_rate\": 0.851063829787234, \"predicted_conversion\": 0.8174445114901735}, {\"team\": \"Cagliari\", \"penalties_scored\": 78, \"penalties_taken\": 104, \"conversion_rate\": 0.75, \"predicted_conversion\": 0.757613087357855}, {\"team\": \"Cardiff City\", \"penalties_scored\": 4, \"penalties_taken\": 5, \"conversion_rate\": 0.8, \"predicted_conversion\": 0.780096034477148}, {\"team\": \"Carpi\", \"penalties_scored\": 5, \"penalties_taken\": 8, \"conversion_rate\": 0.625, \"predicted_conversion\": 0.7519638573139154}, {\"team\": \"Catania\", \"penalties_scored\": 35, \"penalties_taken\": 42, \"conversion_rate\": 0.8333333333333334, \"predicted_conversion\": 0.8062643405794291}, {\"team\": \"Celta Vigo\", \"penalties_scored\": 66, \"penalties_taken\": 88, \"conversion_rate\": 0.75, \"predicted_conversion\": 0.7585673883844917}, {\"team\": \"Cesena\", \"penalties_scored\": 13, \"penalties_taken\": 18, \"conversion_rate\": 0.7222222222222222, \"predicted_conversion\": 0.7602973122161317}, {\"team\": \"Charlton Ath\", \"penalties_scored\": 25, \"penalties_taken\": 31, \"conversion_rate\": 0.8064516129032258, \"predicted_conversion\": 0.7902528493641118}, {\"team\": \"Chelsea\", \"penalties_scored\": 120, \"penalties_taken\": 141, \"conversion_rate\": 0.851063829787234, \"predicted_conversion\": 0.8349388186964974}, {\"team\": \"Chievo\", \"penalties_scored\": 64, \"penalties_taken\": 86, \"conversion_rate\": 0.7441860465116279, \"predicted_conversion\": 0.7547242214090571}, {\"team\": \"Como\", \"penalties_scored\": 1, \"penalties_taken\": 3, \"conversion_rate\": 0.3333333333333333, \"predicted_conversion\": 0.7463314356064054}, {\"team\": \"Coventry City\", \"penalties_scored\": 29, \"penalties_taken\": 35, \"conversion_rate\": 0.8285714285714286, \"predicted_conversion\": 0.8014929372732554}, {\"team\": \"Crotone\", \"penalties_scored\": 8, \"penalties_taken\": 10, \"conversion_rate\": 0.8, \"predicted_conversion\": 0.7821007636272392}, {\"team\": \"Crystal Palace\", \"penalties_scored\": 53, \"penalties_taken\": 69, \"conversion_rate\": 0.7681159420289855, \"predicted_conversion\": 0.7715713231709928}, {\"team\": \"C\\u00e1diz\", \"penalties_scored\": 5, \"penalties_taken\": 6, \"conversion_rate\": 0.8333333333333334, \"predicted_conversion\": 0.7849139962331502}, {\"team\": \"C\\u00f3rdoba\", \"penalties_scored\": 2, \"penalties_taken\": 3, \"conversion_rate\": 0.6666666666666666, \"predicted_conversion\": 0.7697822016028255}, {\"team\": \"Darmstadt 98\", \"penalties_scored\": 7, \"penalties_taken\": 11, \"conversion_rate\": 0.6363636363636364, \"predicted_conversion\": 0.7469109586863945}, {\"team\": \"Derby County\", \"penalties_scored\": 18, \"penalties_taken\": 28, \"conversion_rate\": 0.6428571428571429, \"predicted_conversion\": 0.721816003047243}, {\"team\": \"Dijon\", \"penalties_scored\": 15, \"penalties_taken\": 19, \"conversion_rate\": 0.7894736842105263, \"predicted_conversion\": 0.7814373053413555}, {\"team\": \"Dortmund\", \"penalties_scored\": 76, \"penalties_taken\": 98, \"conversion_rate\": 0.7755102040816326, \"predicted_conversion\": 0.7761079415155933}, {\"team\": \"D\\u00fcsseldorf\", \"penalties_scored\": 12, \"penalties_taken\": 15, \"conversion_rate\": 0.8, \"predicted_conversion\": 0.7837386120457103}, {\"team\": \"Eibar\", \"penalties_scored\": 31, \"penalties_taken\": 41, \"conversion_rate\": 0.7560975609756098, \"predicted_conversion\": 0.7666607263724176}, {\"team\": \"Eint Frankfurt\", \"penalties_scored\": 47, \"penalties_taken\": 60, \"conversion_rate\": 0.7833333333333333, \"predicted_conversion\": 0.7810466135466866}, {\"team\": \"Elche\", \"penalties_scored\": 9, \"penalties_taken\": 14, \"conversion_rate\": 0.6428571428571429, \"predicted_conversion\": 0.7424232345870879}, {\"team\": \"Empoli\", \"penalties_scored\": 28, \"penalties_taken\": 40, \"conversion_rate\": 0.7, \"predicted_conversion\": 0.7386186831991344}, {\"team\": \"Energie Cottbus\", \"penalties_scored\": 13, \"penalties_taken\": 17, \"conversion_rate\": 0.7647058823529411, \"predicted_conversion\": 0.7737200408254962}, {\"team\": \"Espanyol\", \"penalties_scored\": 86, \"penalties_taken\": 103, \"conversion_rate\": 0.8349514563106796, \"predicted_conversion\": 0.8190086127161667}, {\"team\": \"Everton\", \"penalties_scored\": 92, \"penalties_taken\": 120, \"conversion_rate\": 0.7666666666666667, \"predicted_conversion\": 0.7693780637618519}, {\"team\": \"Evian\", \"penalties_scored\": 13, \"penalties_taken\": 16, \"conversion_rate\": 0.8125, \"predicted_conversion\": 0.7876252323470422}, {\"team\": \"Fiorentina\", \"penalties_scored\": 96, \"penalties_taken\": 128, \"conversion_rate\": 0.75, \"predicted_conversion\": 0.7565231843586512}, {\"team\": \"Freiburg\", \"penalties_scored\": 61, \"penalties_taken\": 84, \"conversion_rate\": 0.7261904761904762, \"predicted_conversion\": 0.7426688909872404}, {\"team\": \"Frosinone\", \"penalties_scored\": 7, \"penalties_taken\": 8, \"conversion_rate\": 0.875, \"predicted_conversion\": 0.793943155781473}, {\"team\": \"Fulham\", \"penalties_scored\": 45, \"penalties_taken\": 58, \"conversion_rate\": 0.7758620689655172, \"predicted_conversion\": 0.7765618181252945}, {\"team\": \"Gaz\\u00e9lec Ajaccio\", \"penalties_scored\": 3, \"penalties_taken\": 3, \"conversion_rate\": 1.0, \"predicted_conversion\": 0.7932329675992458}, {\"team\": \"Genoa\", \"penalties_scored\": 65, \"penalties_taken\": 85, \"conversion_rate\": 0.7647058823529411, \"predicted_conversion\": 0.768802274998966}, {\"team\": \"Getafe\", \"penalties_scored\": 56, \"penalties_taken\": 78, \"conversion_rate\": 0.717948717948718, \"predicted_conversion\": 0.7380448264367527}, {\"team\": \"Gimn\\u00e0stic\", \"penalties_scored\": 4, \"penalties_taken\": 4, \"conversion_rate\": 1.0, \"predicted_conversion\": 0.7979707092217101}, {\"team\": \"Girona\", \"penalties_scored\": 12, \"penalties_taken\": 14, \"conversion_rate\": 0.8571428571428571, \"predicted_conversion\": 0.7983490080764122}, {\"team\": \"Granada\", \"penalties_scored\": 33, \"penalties_taken\": 39, \"conversion_rate\": 0.8461538461538461, \"predicted_conversion\": 0.8115896145760937}, {\"team\": \"Grenoble\", \"penalties_scored\": 1, \"penalties_taken\": 5, \"conversion_rate\": 0.2, \"predicted_conversion\": 0.7128955425117378}, {\"team\": \"Greuther F\\u00fcrth\", \"penalties_scored\": 1, \"penalties_taken\": 4, \"conversion_rate\": 0.25, \"predicted_conversion\": 0.729230423585433}, {\"team\": \"Guingamp\", \"penalties_scored\": 41, \"penalties_taken\": 48, \"conversion_rate\": 0.8541666666666666, \"predicted_conversion\": 0.8195274669667658}, {\"team\": \"Hamburger SV\", \"penalties_scored\": 57, \"penalties_taken\": 72, \"conversion_rate\": 0.7916666666666666, \"predicted_conversion\": 0.7866666996881277}, {\"team\": \"Hannover 96\", \"penalties_scored\": 48, \"penalties_taken\": 58, \"conversion_rate\": 0.8275862068965517, \"predicted_conversion\": 0.8072861345702592}, {\"team\": \"Hansa Rostock\", \"penalties_scored\": 16, \"penalties_taken\": 23, \"conversion_rate\": 0.6956521739130435, \"predicted_conversion\": 0.7475027051496145}, {\"team\": \"Hellas Verona\", \"penalties_scored\": 45, \"penalties_taken\": 54, \"conversion_rate\": 0.8333333333333334, \"predicted_conversion\": 0.8097331480960693}, {\"team\": \"Hertha BSC\", \"penalties_scored\": 56, \"penalties_taken\": 70, \"conversion_rate\": 0.8, \"predicted_conversion\": 0.7918958146830984}, {\"team\": \"Hoffenheim\", \"penalties_scored\": 68, \"penalties_taken\": 84, \"conversion_rate\": 0.8095238095238095, \"predicted_conversion\": 0.7992837142357994}, {\"team\": \"Huddersfield\", \"penalties_scored\": 3, \"penalties_taken\": 3, \"conversion_rate\": 1.0, \"predicted_conversion\": 0.7932329675992458}, {\"team\": \"Huesca\", \"penalties_scored\": 6, \"penalties_taken\": 7, \"conversion_rate\": 0.8571428571428571, \"predicted_conversion\": 0.789525367063528}, {\"team\": \"Hull City\", \"penalties_scored\": 15, \"penalties_taken\": 18, \"conversion_rate\": 0.8333333333333334, \"predicted_conversion\": 0.7949939153829401}, {\"team\": \"H\\u00e9rcules\", \"penalties_scored\": 3, \"penalties_taken\": 4, \"conversion_rate\": 0.75, \"predicted_conversion\": 0.7750572806762844}, {\"team\": \"Ingolstadt 04\", \"penalties_scored\": 15, \"penalties_taken\": 18, \"conversion_rate\": 0.8333333333333334, \"predicted_conversion\": 0.7949939153829401}, {\"team\": \"Inter\", \"penalties_scored\": 121, \"penalties_taken\": 146, \"conversion_rate\": 0.8287671232876712, \"predicted_conversion\": 0.8178377045927858}, {\"team\": \"Ipswich Town\", \"penalties_scored\": 13, \"penalties_taken\": 17, \"conversion_rate\": 0.7647058823529411, \"predicted_conversion\": 0.7737200408254962}, {\"team\": \"Istres\", \"penalties_scored\": 2, \"penalties_taken\": 2, \"conversion_rate\": 1.0, \"predicted_conversion\": 0.7882676825692986}, {\"team\": \"Juventus\", \"penalties_scored\": 117, \"penalties_taken\": 144, \"conversion_rate\": 0.8125, \"predicted_conversion\": 0.804963102033614}, {\"team\": \"Kaiserslautern\", \"penalties_scored\": 31, \"penalties_taken\": 42, \"conversion_rate\": 0.7380952380952381, \"predicted_conversion\": 0.7572702686859726}, {\"team\": \"Karlsruher\", \"penalties_scored\": 1, \"penalties_taken\": 3, \"conversion_rate\": 0.3333333333333333, \"predicted_conversion\": 0.7463314356064054}, {\"team\": \"K\\u00f6ln\", \"penalties_scored\": 31, \"penalties_taken\": 37, \"conversion_rate\": 0.8378378378378378, \"predicted_conversion\": 0.806673013189361}, {\"team\": \"La Coru\\u00f1a\", \"penalties_scored\": 67, \"penalties_taken\": 91, \"conversion_rate\": 0.7362637362637363, \"predicted_conversion\": 0.7488025578806654}, {\"team\": \"Las Palmas\", \"penalties_scored\": 32, \"penalties_taken\": 37, \"conversion_rate\": 0.8648648648648649, \"predicted_conversion\": 0.8197205991164074}, {\"team\": \"Lazio\", \"penalties_scored\": 136, \"penalties_taken\": 165, \"conversion_rate\": 0.8242424242424242, \"predicted_conversion\": 0.8152042520723174}, {\"team\": \"Le Havre\", \"penalties_scored\": 3, \"penalties_taken\": 6, \"conversion_rate\": 0.5, \"predicted_conversion\": 0.7410952161165955}, {\"team\": \"Le Mans\", \"penalties_scored\": 12, \"penalties_taken\": 15, \"conversion_rate\": 0.8, \"predicted_conversion\": 0.7837386120457103}, {\"team\": \"Lecce\", \"penalties_scored\": 50, \"penalties_taken\": 63, \"conversion_rate\": 0.7936507936507936, \"predicted_conversion\": 0.7874461065962068}, {\"team\": \"Leeds United\", \"penalties_scored\": 31, \"penalties_taken\": 42, \"conversion_rate\": 0.7380952380952381, \"predicted_conversion\": 0.7572702686859726}, {\"team\": \"Legan\\u00e9s\", \"penalties_scored\": 11, \"penalties_taken\": 16, \"conversion_rate\": 0.6875, \"predicted_conversion\": 0.7516815038978985}, {\"team\": \"Leicester City\", \"penalties_scored\": 58, \"penalties_taken\": 77, \"conversion_rate\": 0.7532467532467533, \"predicted_conversion\": 0.7615186384241533}, {\"team\": \"Lens\", \"penalties_scored\": 50, \"penalties_taken\": 60, \"conversion_rate\": 0.8333333333333334, \"predicted_conversion\": 0.8111542391800736}, {\"team\": \"Levante\", \"penalties_scored\": 44, \"penalties_taken\": 58, \"conversion_rate\": 0.7586206896551724, \"predicted_conversion\": 0.7663203793103062}, {\"team\": \"Leverkusen\", \"penalties_scored\": 73, \"penalties_taken\": 97, \"conversion_rate\": 0.7525773195876289, \"predicted_conversion\": 0.7598326862689518}, {\"team\": \"Lille\", \"penalties_scored\": 93, \"penalties_taken\": 116, \"conversion_rate\": 0.8017241379310345, \"predicted_conversion\": 0.7955759946660663}, {\"team\": \"Liverpool\", \"penalties_scored\": 132, \"penalties_taken\": 162, \"conversion_rate\": 0.8148148148148148, \"predicted_conversion\": 0.8074956241289664}, {\"team\": \"Livorno\", \"penalties_scored\": 27, \"penalties_taken\": 30, \"conversion_rate\": 0.9, \"predicted_conversion\": 0.8303182065042634}, {\"team\": \"Lorient\", \"penalties_scored\": 49, \"penalties_taken\": 56, \"conversion_rate\": 0.875, \"predicted_conversion\": 0.8346230552939914}, {\"team\": \"Lyon\", \"penalties_scored\": 92, \"penalties_taken\": 119, \"conversion_rate\": 0.773109243697479, \"predicted_conversion\": 0.7742278229167018}, {\"team\": \"M'Gladbach\", \"penalties_scored\": 67, \"penalties_taken\": 86, \"conversion_rate\": 0.7790697674418605, \"predicted_conversion\": 0.7786014864751887}, {\"team\": \"MSV Duisburg\", \"penalties_scored\": 10, \"penalties_taken\": 11, \"conversion_rate\": 0.9090909090909091, \"predicted_conversion\": 0.806149704876964}, {\"team\": \"Mainz 05\", \"penalties_scored\": 55, \"penalties_taken\": 60, \"conversion_rate\": 0.9166666666666666, \"predicted_conversion\": 0.8613336152357185}, {\"team\": \"Mallorca\", \"penalties_scored\": 59, \"penalties_taken\": 78, \"conversion_rate\": 0.7564102564102564, \"predicted_conversion\": 0.7635458080279497}, {\"team\": \"Manchester City\", \"penalties_scored\": 95, \"penalties_taken\": 124, \"conversion_rate\": 0.7661290322580645, \"predicted_conversion\": 0.768904395609102}, {\"team\": \"Manchester Utd\", \"penalties_scored\": 120, \"penalties_taken\": 160, \"conversion_rate\": 0.75, \"predicted_conversion\": 0.7554776060485408}, {\"team\": \"Marseille\", \"penalties_scored\": 63, \"penalties_taken\": 86, \"conversion_rate\": 0.7325581395348837, \"predicted_conversion\": 0.7467651330536799}, {\"team\": \"Messina\", \"penalties_scored\": 18, \"penalties_taken\": 22, \"conversion_rate\": 0.8181818181818182, \"predicted_conversion\": 0.7920742483835299}, {\"team\": \"Metz\", \"penalties_scored\": 41, \"penalties_taken\": 53, \"conversion_rate\": 0.7735849056603774, \"predicted_conversion\": 0.7752968385422635}, {\"team\": \"Middlesbrough\", \"penalties_scored\": 41, \"penalties_taken\": 56, \"conversion_rate\": 0.7321428571428571, \"predicted_conversion\": 0.750978258639834}, {\"team\": \"Milan\", \"penalties_scored\": 154, \"penalties_taken\": 193, \"conversion_rate\": 0.7979274611398963, \"predicted_conversion\": 0.7944611873738151}, {\"team\": \"Modena\", \"penalties_scored\": 7, \"penalties_taken\": 11, \"conversion_rate\": 0.6363636363636364, \"predicted_conversion\": 0.7469109586863945}, {\"team\": \"Monaco\", \"penalties_scored\": 75, \"penalties_taken\": 93, \"conversion_rate\": 0.8064516129032258, \"predicted_conversion\": 0.797824503320137}, {\"team\": \"Montpellier\", \"penalties_scored\": 49, \"penalties_taken\": 71, \"conversion_rate\": 0.6901408450704225, \"predicted_conversion\": 0.721471758108866}, {\"team\": \"M\\u00e1laga\", \"penalties_scored\": 57, \"penalties_taken\": 79, \"conversion_rate\": 0.7215189873417721, \"predicted_conversion\": 0.740252762940294}, {\"team\": \"Nancy\", \"penalties_scored\": 34, \"penalties_taken\": 45, \"conversion_rate\": 0.7555555555555555, \"predicted_conversion\": 0.7658733809889713}, {\"team\": \"Nantes\", \"penalties_scored\": 40, \"penalties_taken\": 59, \"conversion_rate\": 0.6779661016949152, \"predicted_conversion\": 0.7180012580964735}, {\"team\": \"Napoli\", \"penalties_scored\": 68, \"penalties_taken\": 99, \"conversion_rate\": 0.6868686868686869, \"predicted_conversion\": 0.7128076834970809}, {\"team\": \"Newcastle Utd\", \"penalties_scored\": 96, \"penalties_taken\": 119, \"conversion_rate\": 0.8067226890756303, \"predicted_conversion\": 0.7994417424877232}, {\"team\": \"Nice\", \"penalties_scored\": 78, \"penalties_taken\": 102, \"conversion_rate\": 0.7647058823529411, \"predicted_conversion\": 0.7683106241168073}, {\"team\": \"Norwich City\", \"penalties_scored\": 16, \"penalties_taken\": 21, \"conversion_rate\": 0.7619047619047619, \"predicted_conversion\": 0.7721554596181605}, {\"team\": \"Nott'ham Forest\", \"penalties_scored\": 16, \"penalties_taken\": 19, \"conversion_rate\": 0.8421052631578947, \"predicted_conversion\": 0.798489775529199}, {\"team\": \"Novara\", \"penalties_scored\": 6, \"penalties_taken\": 7, \"conversion_rate\": 0.8571428571428571, \"predicted_conversion\": 0.789525367063528}, {\"team\": \"Numancia\", \"penalties_scored\": 18, \"penalties_taken\": 23, \"conversion_rate\": 0.782608695652174, \"predicted_conversion\": 0.7794298956673595}, {\"team\": \"N\\u00eemes\", \"penalties_scored\": 6, \"penalties_taken\": 8, \"conversion_rate\": 0.75, \"predicted_conversion\": 0.7729535065476942}, {\"team\": \"N\\u00fcrnberg\", \"penalties_scored\": 36, \"penalties_taken\": 54, \"conversion_rate\": 0.6666666666666666, \"predicted_conversion\": 0.7136229728437994}, {\"team\": \"Oldham Athletic\", \"penalties_scored\": 2, \"penalties_taken\": 4, \"conversion_rate\": 0.5, \"predicted_conversion\": 0.7521438521308587}, {\"team\": \"Osasuna\", \"penalties_scored\": 50, \"penalties_taken\": 64, \"conversion_rate\": 0.78125, \"predicted_conversion\": 0.7798483944969893}, {\"team\": \"Oviedo\", \"penalties_scored\": 4, \"penalties_taken\": 8, \"conversion_rate\": 0.5, \"predicted_conversion\": 0.7309742080801366}, {\"team\": \"Paderborn 07\", \"penalties_scored\": 3, \"penalties_taken\": 5, \"conversion_rate\": 0.6, \"predicted_conversion\": 0.7576958704886779}, {\"team\": \"Palermo\", \"penalties_scored\": 41, \"penalties_taken\": 53, \"conversion_rate\": 0.7735849056603774, \"predicted_conversion\": 0.7752968385422635}, {\"team\": \"Paris S-G\", \"penalties_scored\": 119, \"penalties_taken\": 141, \"conversion_rate\": 0.8439716312056738, \"predicted_conversion\": 0.8294030237857667}, {\"team\": \"Parma\", \"penalties_scored\": 70, \"penalties_taken\": 96, \"conversion_rate\": 0.7291666666666666, \"predicted_conversion\": 0.7433174582761756}, {\"team\": \"Perugia\", \"penalties_scored\": 28, \"penalties_taken\": 35, \"conversion_rate\": 0.8, \"predicted_conversion\": 0.7880957494269996}, {\"team\": \"Pescara\", \"penalties_scored\": 4, \"penalties_taken\": 9, \"conversion_rate\": 0.4444444444444444, \"predicted_conversion\": 0.7159467371963175}, {\"team\": \"Piacenza\", \"penalties_scored\": 23, \"penalties_taken\": 33, \"conversion_rate\": 0.696969696969697, \"predicted_conversion\": 0.7409634636142242}, {\"team\": \"Portsmouth\", \"penalties_scored\": 22, \"penalties_taken\": 30, \"conversion_rate\": 0.7333333333333333, \"predicted_conversion\": 0.7585229977845905}, {\"team\": \"QPR\", \"penalties_scored\": 14, \"penalties_taken\": 23, \"conversion_rate\": 0.6086956521739131, \"predicted_conversion\": 0.7155755146318693}, {\"team\": \"RB Leipzig\", \"penalties_scored\": 21, \"penalties_taken\": 25, \"conversion_rate\": 0.84, \"predicted_conversion\": 0.8017238900632985}, {\"team\": \"Racing Sant\", \"penalties_scored\": 54, \"penalties_taken\": 74, \"conversion_rate\": 0.7297297297297297, \"predicted_conversion\": 0.7464235496407889}, {\"team\": \"Rayo Vallecano\", \"penalties_scored\": 48, \"penalties_taken\": 55, \"conversion_rate\": 0.8727272727272727, \"predicted_conversion\": 0.8328756702214554}, {\"team\": \"Reading\", \"penalties_scored\": 9, \"penalties_taken\": 11, \"conversion_rate\": 0.8181818181818182, \"predicted_conversion\": 0.7864034561467742}, {\"team\": \"Real Madrid\", \"penalties_scored\": 143, \"penalties_taken\": 168, \"conversion_rate\": 0.8511904761904762, \"predicted_conversion\": 0.8371380400915247}, {\"team\": \"Real Murcia\", \"penalties_scored\": 10, \"penalties_taken\": 10, \"conversion_rate\": 1.0, \"predicted_conversion\": 0.8223887986479893}, {\"team\": \"Real Sociedad\", \"penalties_scored\": 80, \"penalties_taken\": 94, \"conversion_rate\": 0.851063829787234, \"predicted_conversion\": 0.8292679030122682}, {\"team\": \"Recreativo\", \"penalties_scored\": 11, \"penalties_taken\": 18, \"conversion_rate\": 0.6111111111111112, \"predicted_conversion\": 0.7256007090493234}, {\"team\": \"Reggina\", \"penalties_scored\": 40, \"penalties_taken\": 46, \"conversion_rate\": 0.8695652173913043, \"predicted_conversion\": 0.8269893545541028}, {\"team\": \"Reims\", \"penalties_scored\": 21, \"penalties_taken\": 26, \"conversion_rate\": 0.8076923076923077, \"predicted_conversion\": 0.78951040764313}, {\"team\": \"Rennes\", \"penalties_scored\": 65, \"penalties_taken\": 88, \"conversion_rate\": 0.7386363636363636, \"predicted_conversion\": 0.7507330090635641}, {\"team\": \"Roma\", \"penalties_scored\": 142, \"penalties_taken\": 174, \"conversion_rate\": 0.8160919540229885, \"predicted_conversion\": 0.8089468918610505}, {\"team\": \"SPAL\", \"penalties_scored\": 17, \"penalties_taken\": 21, \"conversion_rate\": 0.8095238095238095, \"predicted_conversion\": 0.7886455367099964}, {\"team\": \"Saint-\\u00c9tienne\", \"penalties_scored\": 61, \"penalties_taken\": 77, \"conversion_rate\": 0.7922077922077922, \"predicted_conversion\": 0.7872382450873675}, {\"team\": \"Salernitana\", \"penalties_scored\": 3, \"penalties_taken\": 6, \"conversion_rate\": 0.5, \"predicted_conversion\": 0.7410952161165955}, {\"team\": \"Sampdoria\", \"penalties_scored\": 93, \"penalties_taken\": 116, \"conversion_rate\": 0.8017241379310345, \"predicted_conversion\": 0.7955759946660663}, {\"team\": \"Sassuolo\", \"penalties_scored\": 44, \"penalties_taken\": 56, \"conversion_rate\": 0.7857142857142857, \"predicted_conversion\": 0.782345057385143}, {\"team\": \"Schalke 04\", \"penalties_scored\": 75, \"penalties_taken\": 105, \"conversion_rate\": 0.7142857142857143, \"predicted_conversion\": 0.7316344690422223}, {\"team\": \"Sedan\", \"penalties_scored\": 15, \"penalties_taken\": 17, \"conversion_rate\": 0.8823529411764706, \"predicted_conversion\": 0.8090291978978515}, {\"team\": \"Sevilla\", \"penalties_scored\": 109, \"penalties_taken\": 134, \"conversion_rate\": 0.8134328358208955, \"predicted_conversion\": 0.8052489249840458}, {\"team\": \"Sheffield Utd\", \"penalties_scored\": 6, \"penalties_taken\": 10, \"conversion_rate\": 0.6, \"predicted_conversion\": 0.7418127286064891}, {\"team\": \"Sheffield Weds\", \"penalties_scored\": 19, \"penalties_taken\": 25, \"conversion_rate\": 0.76, \"predicted_conversion\": 0.7707845071193077}, {\"team\": \"Siena\", \"penalties_scored\": 28, \"penalties_taken\": 45, \"conversion_rate\": 0.6222222222222222, \"predicted_conversion\": 0.6949870313322943}, {\"team\": \"Sochaux\", \"penalties_scored\": 41, \"penalties_taken\": 51, \"conversion_rate\": 0.803921568627451, \"predicted_conversion\": 0.7924035286537593}, {\"team\": \"Southampton\", \"penalties_scored\": 68, \"penalties_taken\": 78, \"conversion_rate\": 0.8717948717948718, \"predicted_conversion\": 0.8400487528015409}, {\"team\": \"Sporting Gij\\u00f3n\", \"penalties_scored\": 25, \"penalties_taken\": 32, \"conversion_rate\": 0.78125, \"predicted_conversion\": 0.7792223504991461}, {\"team\": \"St. Pauli\", \"penalties_scored\": 7, \"penalties_taken\": 8, \"conversion_rate\": 0.875, \"predicted_conversion\": 0.793943155781473}, {\"team\": \"Stoke City\", \"penalties_scored\": 33, \"penalties_taken\": 44, \"conversion_rate\": 0.75, \"predicted_conversion\": 0.7630742473649783}, {\"team\": \"Strasbourg\", \"penalties_scored\": 41, \"penalties_taken\": 49, \"conversion_rate\": 0.8367346938775511, \"predicted_conversion\": 0.8102821592795876}, {\"team\": \"Stuttgart\", \"penalties_scored\": 54, \"penalties_taken\": 72, \"conversion_rate\": 0.75, \"predicted_conversion\": 0.7597952198727292}, {\"team\": \"Sunderland\", \"penalties_scored\": 51, \"penalties_taken\": 67, \"conversion_rate\": 0.7611940298507462, \"predicted_conversion\": 0.7672873161027758}, {\"team\": \"Swansea City\", \"penalties_scored\": 20, \"penalties_taken\": 21, \"conversion_rate\": 0.9523809523809523, \"predicted_conversion\": 0.838115767985504}, {\"team\": \"Swindon Town\", \"penalties_scored\": 7, \"penalties_taken\": 8, \"conversion_rate\": 0.875, \"predicted_conversion\": 0.793943155781473}, {\"team\": \"Tenerife\", \"penalties_scored\": 5, \"penalties_taken\": 8, \"conversion_rate\": 0.625, \"predicted_conversion\": 0.7519638573139154}, {\"team\": \"Torino\", \"penalties_scored\": 69, \"penalties_taken\": 91, \"conversion_rate\": 0.7582417582417582, \"predicted_conversion\": 0.7641115081522228}, {\"team\": \"Tottenham\", \"penalties_scored\": 82, \"penalties_taken\": 104, \"conversion_rate\": 0.7884615384615384, \"predicted_conversion\": 0.7854599930836461}, {\"team\": \"Toulouse\", \"penalties_scored\": 54, \"penalties_taken\": 79, \"conversion_rate\": 0.6835443037974683, \"predicted_conversion\": 0.7149667209792843}, {\"team\": \"Troyes\", \"penalties_scored\": 25, \"penalties_taken\": 33, \"conversion_rate\": 0.7575757575757576, \"predicted_conversion\": 0.768495544218031}, {\"team\": \"Udinese\", \"penalties_scored\": 104, \"penalties_taken\": 129, \"conversion_rate\": 0.8062015503875969, \"predicted_conversion\": 0.7994748454962716}, {\"team\": \"Ulm\", \"penalties_scored\": 2, \"penalties_taken\": 2, \"conversion_rate\": 1.0, \"predicted_conversion\": 0.7882676825692986}, {\"team\": \"Union Berlin\", \"penalties_scored\": 6, \"penalties_taken\": 7, \"conversion_rate\": 0.8571428571428571, \"predicted_conversion\": 0.789525367063528}, {\"team\": \"Unterhaching\", \"penalties_scored\": 6, \"penalties_taken\": 8, \"conversion_rate\": 0.75, \"predicted_conversion\": 0.7729535065476942}, {\"team\": \"Valencia\", \"penalties_scored\": 100, \"penalties_taken\": 130, \"conversion_rate\": 0.7692307692307693, \"predicted_conversion\": 0.7711831497966224}, {\"team\": \"Valenciennes\", \"penalties_scored\": 23, \"penalties_taken\": 32, \"conversion_rate\": 0.71875, \"predicted_conversion\": 0.7513059719024946}, {\"team\": \"Valladolid\", \"penalties_scored\": 47, \"penalties_taken\": 62, \"conversion_rate\": 0.7580645161290323, \"predicted_conversion\": 0.7656781135477705}, {\"team\": \"Venezia\", \"penalties_scored\": 10, \"penalties_taken\": 12, \"conversion_rate\": 0.8333333333333334, \"predicted_conversion\": 0.7905395149830647}, {\"team\": \"Vicenza\", \"penalties_scored\": 5, \"penalties_taken\": 6, \"conversion_rate\": 0.8333333333333334, \"predicted_conversion\": 0.7849139962331502}, {\"team\": \"Villarreal\", \"penalties_scored\": 93, \"penalties_taken\": 111, \"conversion_rate\": 0.8378378378378378, \"predicted_conversion\": 0.8219820830722666}, {\"team\": \"Watford\", \"penalties_scored\": 25, \"penalties_taken\": 30, \"conversion_rate\": 0.8333333333333334, \"predicted_conversion\": 0.8016001230163943}, {\"team\": \"Werder Bremen\", \"penalties_scored\": 91, \"penalties_taken\": 121, \"conversion_rate\": 0.7520661157024794, \"predicted_conversion\": 0.7583636825749325}, {\"team\": \"West Brom\", \"penalties_scored\": 26, \"penalties_taken\": 40, \"conversion_rate\": 0.65, \"predicted_conversion\": 0.7135064725248156}, {\"team\": \"West Ham\", \"penalties_scored\": 77, \"penalties_taken\": 95, \"conversion_rate\": 0.8105263157894737, \"predicted_conversion\": 0.8008276479610057}, {\"team\": \"Wigan Athletic\", \"penalties_scored\": 22, \"penalties_taken\": 30, \"conversion_rate\": 0.7333333333333333, \"predicted_conversion\": 0.7585229977845905}, {\"team\": \"Wimbledon\", \"penalties_scored\": 11, \"penalties_taken\": 15, \"conversion_rate\": 0.7333333333333333, \"predicted_conversion\": 0.7654378489923371}, {\"team\": \"Wolfsburg\", \"penalties_scored\": 61, \"penalties_taken\": 79, \"conversion_rate\": 0.7721518987341772, \"predicted_conversion\": 0.7739674855549736}, {\"team\": \"Wolves\", \"penalties_scored\": 17, \"penalties_taken\": 21, \"conversion_rate\": 0.8095238095238095, \"predicted_conversion\": 0.7886455367099964}, {\"team\": \"Xerez\", \"penalties_scored\": 2, \"penalties_taken\": 3, \"conversion_rate\": 0.6666666666666666, \"predicted_conversion\": 0.7697822016028255}, {\"team\": \"Zaragoza\", \"penalties_scored\": 49, \"penalties_taken\": 58, \"conversion_rate\": 0.8448275862068966, \"predicted_conversion\": 0.8175275733852475}], \"data-a2dac47a8e8ee16c9c3fa6429ed5a9e2\": [{\"y\": 0.7775856037146794}], \"data-908bc6c738a73f27fc5e0de478cb8b86\": [{\"x\": 0.4, \"y\": 0.7775856037146794, \"text\": \"Prior: y = alpha0 / (alpha0 + beta0)\"}], \"data-22589508794e28536202bb75a21f67b1\": [{\"x\": -5.0, \"y\": -5.0, \"text\": \"\"}, {\"x\": 0.7, \"y\": 0.7, \"text\": \"y = x\"}, {\"x\": 5.0, \"y\": 5.0, \"text\": \"\"}]}}, {\"mode\": \"vega-lite\"});\n",
       "</script>"
      ],
      "text/plain": [
       "alt.LayerChart(...)"
      ]
     },
     "execution_count": 10,
     "metadata": {},
     "output_type": "execute_result"
    }
   ],
   "source": [
    "#collapse-hide\n",
    "teams = teams.assign(predicted_conversion=predicted_conversion(teams['penalties_scored'], teams['penalties_taken']))\n",
    "\n",
    "# Set colour scheme to update automatically for each chart\n",
    "scheme = 'inferno'\n",
    "col1 = matplotlib.colors.to_hex(sns.color_palette(scheme)[0])\n",
    "col2 = matplotlib.colors.to_hex(sns.color_palette(scheme)[-1])\n",
    "\n",
    "# Create an interactive scatter plot from teams showing predicted and actual conversion rate\n",
    "selection = alt.selection_single(on='mouseover');\n",
    "points = alt.Chart(teams).mark_circle(size=50).add_selection(\n",
    "    selection\n",
    "    ).encode(\n",
    "    x=alt.X('conversion_rate', scale=alt.Scale(domain=(0.1, 1.1)), axis=alt.Axis(format='%', title='Actual conversion rate')),\n",
    "    y=alt.X('predicted_conversion', scale=alt.Scale(domain=(0.685, 0.875)), axis=alt.Axis(format='%', title='Predicted conversion rate')),\n",
    "    color=alt.condition(selection, 'penalties_taken:Q', alt.value('grey'),\n",
    "                        legend=alt.Legend(title='Penalties taken'),\n",
    "                        scale=alt.Scale(scheme=scheme)),\n",
    "    opacity=alt.condition(selection, alt.value(0.8), alt.value(0.1)),\n",
    "    tooltip=['team', 'penalties_scored', 'penalties_taken', \n",
    "             alt.Tooltip('conversion_rate', format='.2%'),\n",
    "             alt.Tooltip('predicted_conversion', format='.2%')]\n",
    ").interactive().properties(\n",
    "    width=500,\n",
    "    height=500,\n",
    "    title='As the number of penalties taken increases, predicted rate approaches actual rate'\n",
    ")\n",
    "\n",
    "# Add horizontal line at y = alpha0 / (alpha0 + beta0)\n",
    "overlayh = pd.DataFrame({'y': [prior]})\n",
    "hline = alt.Chart(overlayh).mark_rule(color=col1, strokeWidth=2).encode(y='y:Q')\n",
    "overlayhtext = pd.DataFrame({'x': [0.4], 'y': [prior], 'text': ['Prior: y = alpha0 / (alpha0 + beta0)']})\n",
    "htext = alt.Chart(overlayhtext).mark_text(color=col1, fontSize=15, baseline='bottom').encode(alt.X('x:Q'), alt.Y('y:Q'), alt.Text('text'))\n",
    "\n",
    "# Add diagonal line at y = x\n",
    "overlayd = pd.DataFrame({'x': [-5, 0.7, 5], 'y': [-5, 0.7, 5], 'text': ['', 'y = x', '']})\n",
    "dline = alt.Chart(overlayd).mark_line(color=col2, strokeWidth=2).encode(x='x:Q', y='y:Q')\n",
    "dtext = alt.Chart(overlayd).mark_text(color=col2, fontSize=15, angle=285, baseline='top').encode(alt.X('x:Q'), alt.Y('y:Q'), alt.Text('text'))\n",
    "alt.layer(points, hline, htext, dline, dtext\n",
    ").configure_header(\n",
    "    titleFontSize=20,\n",
    "    titleFontWeight='normal'\n",
    ").configure_axis(\n",
    "    labelFontSize=11,\n",
    "    titleFontSize=14,\n",
    "    titleFontWeight='normal'\n",
    ").configure_legend(\n",
    "    labelFontSize=11,\n",
    "    titleFontSize=12,\n",
    "    titleFontWeight='normal'\n",
    ")"
   ]
  },
  {
   "cell_type": "markdown",
   "metadata": {
    "id": "VqD9rycIT4qm"
   },
   "source": [
    "# Who are the best and worst penalty takers?"
   ]
  },
  {
   "cell_type": "markdown",
   "metadata": {
    "id": "dUtP7bfiegYn"
   },
   "source": [
    "As we saw earlier, most players in the dataset have only taken a handful of penalties, and some of the players ranked worst in our new metric were players that happened to miss several times in their first few attempts. It might be more interesting to look at players who have taken at least 15 penalties (i.e. a team's main penalty taker for multiple seasons) instead. Let's start with the worst players in the dataset:"
   ]
  },
  {
   "cell_type": "code",
   "execution_count": 11,
   "metadata": {
    "colab": {
     "base_uri": "https://localhost:8080/",
     "height": 359
    },
    "executionInfo": {
     "elapsed": 563,
     "status": "ok",
     "timestamp": 1605406307335,
     "user": {
      "displayName": "Tom Whelan",
      "photoUrl": "https://lh3.googleusercontent.com/a-/AOh14GgnbPvaiz9OgiXkVoVkd2gHC3Jpjk3NZsn-eoSH=s64",
      "userId": "03831464729329717576"
     },
     "user_tz": 0
    },
    "id": "OavvzVgAsll9",
    "outputId": "43ed6ab1-eb87-42e4-c32a-f94b98a1db62"
   },
   "outputs": [
    {
     "data": {
      "text/html": [
       "<div>\n",
       "<style scoped>\n",
       "    .dataframe tbody tr th:only-of-type {\n",
       "        vertical-align: middle;\n",
       "    }\n",
       "\n",
       "    .dataframe tbody tr th {\n",
       "        vertical-align: top;\n",
       "    }\n",
       "\n",
       "    .dataframe thead th {\n",
       "        text-align: right;\n",
       "    }\n",
       "</style>\n",
       "<table border=\"1\" class=\"dataframe\">\n",
       "  <thead>\n",
       "    <tr style=\"text-align: right;\">\n",
       "      <th></th>\n",
       "      <th>name</th>\n",
       "      <th>penalties_scored</th>\n",
       "      <th>penalties_taken</th>\n",
       "      <th>conversion_rate</th>\n",
       "      <th>predicted_conversion</th>\n",
       "    </tr>\n",
       "  </thead>\n",
       "  <tbody>\n",
       "    <tr>\n",
       "      <th>1330</th>\n",
       "      <td>Marek Hamšík</td>\n",
       "      <td>7</td>\n",
       "      <td>15</td>\n",
       "      <td>46.67%</td>\n",
       "      <td>69.22%</td>\n",
       "    </tr>\n",
       "    <tr>\n",
       "      <th>1309</th>\n",
       "      <td>Marco Di Vaio</td>\n",
       "      <td>13</td>\n",
       "      <td>22</td>\n",
       "      <td>59.09%</td>\n",
       "      <td>71.10%</td>\n",
       "    </tr>\n",
       "    <tr>\n",
       "      <th>1152</th>\n",
       "      <td>Kevin Phillips</td>\n",
       "      <td>11</td>\n",
       "      <td>18</td>\n",
       "      <td>61.11%</td>\n",
       "      <td>72.56%</td>\n",
       "    </tr>\n",
       "    <tr>\n",
       "      <th>125</th>\n",
       "      <td>Andrea Pirlo</td>\n",
       "      <td>14</td>\n",
       "      <td>22</td>\n",
       "      <td>63.64%</td>\n",
       "      <td>72.72%</td>\n",
       "    </tr>\n",
       "    <tr>\n",
       "      <th>1771</th>\n",
       "      <td>Roberto Baggio</td>\n",
       "      <td>12</td>\n",
       "      <td>19</td>\n",
       "      <td>63.16%</td>\n",
       "      <td>73.03%</td>\n",
       "    </tr>\n",
       "    <tr>\n",
       "      <th>2107</th>\n",
       "      <td>Wayne Rooney</td>\n",
       "      <td>23</td>\n",
       "      <td>34</td>\n",
       "      <td>67.65%</td>\n",
       "      <td>73.09%</td>\n",
       "    </tr>\n",
       "    <tr>\n",
       "      <th>501</th>\n",
       "      <td>Diego</td>\n",
       "      <td>13</td>\n",
       "      <td>20</td>\n",
       "      <td>65.00%</td>\n",
       "      <td>73.48%</td>\n",
       "    </tr>\n",
       "    <tr>\n",
       "      <th>1163</th>\n",
       "      <td>Klaas-Jan Huntelaar</td>\n",
       "      <td>11</td>\n",
       "      <td>17</td>\n",
       "      <td>64.71%</td>\n",
       "      <td>73.84%</td>\n",
       "    </tr>\n",
       "    <tr>\n",
       "      <th>1226</th>\n",
       "      <td>Luca Toni</td>\n",
       "      <td>17</td>\n",
       "      <td>25</td>\n",
       "      <td>68.00%</td>\n",
       "      <td>73.98%</td>\n",
       "    </tr>\n",
       "    <tr>\n",
       "      <th>650</th>\n",
       "      <td>Fernando Torres</td>\n",
       "      <td>20</td>\n",
       "      <td>29</td>\n",
       "      <td>68.97%</td>\n",
       "      <td>74.04%</td>\n",
       "    </tr>\n",
       "  </tbody>\n",
       "</table>\n",
       "</div>"
      ],
      "text/plain": [
       "                     name  penalties_scored  penalties_taken  conversion_rate  \\\n",
       "1330         Marek Hamšík                 7               15           46.67%   \n",
       "1309        Marco Di Vaio                13               22           59.09%   \n",
       "1152       Kevin Phillips                11               18           61.11%   \n",
       "125          Andrea Pirlo                14               22           63.64%   \n",
       "1771       Roberto Baggio                12               19           63.16%   \n",
       "2107         Wayne Rooney                23               34           67.65%   \n",
       "501                 Diego                13               20           65.00%   \n",
       "1163  Klaas-Jan Huntelaar                11               17           64.71%   \n",
       "1226            Luca Toni                17               25           68.00%   \n",
       "650       Fernando Torres                20               29           68.97%   \n",
       "\n",
       "      predicted_conversion  \n",
       "1330                69.22%  \n",
       "1309                71.10%  \n",
       "1152                72.56%  \n",
       "125                 72.72%  \n",
       "1771                73.03%  \n",
       "2107                73.09%  \n",
       "501                 73.48%  \n",
       "1163                73.84%  \n",
       "1226                73.98%  \n",
       "650                 74.04%  "
      ]
     },
     "execution_count": 11,
     "metadata": {},
     "output_type": "execute_result"
    }
   ],
   "source": [
    "#hide_input\n",
    "pd.options.display.float_format = '{:.2%}'.format\n",
    "players = players.assign(predicted_conversion=predicted_conversion(players['penalties_scored'], players['penalties_taken']))\n",
    "players[players['penalties_taken']>=15].sort_values(by='predicted_conversion').head(10)"
   ]
  },
  {
   "cell_type": "markdown",
   "metadata": {
    "id": "6fAlyR-aYys7"
   },
   "source": [
    "Some surprising names there perhaps! Pirlo consistently pops up on '[best penalty takers'](https://www.sportyghost.com/top-10-best-penalty-takers-in-football-world/) lists,  but even if we look at his overall record on [Transfermarkt](https://www.transfermarkt.com/andrea-pirlo/elfmetertore/spieler/5817) we get a predicted conversion rate of just 74.5%. [Roberto Baggio's](https://www.transfermarkt.com/roberto-baggio/elfmetertore/spieler/4153) career record, on the other hand, is much better than it looks here (83.2%). \n",
    "\n",
    "> Note: Transfermarkt's league coverage isn't exhaustive but I haven't yet found a more comprehensive resource for penalty stats, so I will be using their 'career' totals throughout the post to supplement the FBRef data.\n",
    "\n",
    "\n",
    "What about the best players in the dataset?"
   ]
  },
  {
   "cell_type": "code",
   "execution_count": 12,
   "metadata": {
    "colab": {
     "base_uri": "https://localhost:8080/",
     "height": 359
    },
    "executionInfo": {
     "elapsed": 421,
     "status": "ok",
     "timestamp": 1605406308684,
     "user": {
      "displayName": "Tom Whelan",
      "photoUrl": "https://lh3.googleusercontent.com/a-/AOh14GgnbPvaiz9OgiXkVoVkd2gHC3Jpjk3NZsn-eoSH=s64",
      "userId": "03831464729329717576"
     },
     "user_tz": 0
    },
    "id": "DuwgDUgktBbb",
    "outputId": "1082bade-b968-45ca-8c4c-cb5a3cb984fb"
   },
   "outputs": [
    {
     "data": {
      "text/html": [
       "<div>\n",
       "<style scoped>\n",
       "    .dataframe tbody tr th:only-of-type {\n",
       "        vertical-align: middle;\n",
       "    }\n",
       "\n",
       "    .dataframe tbody tr th {\n",
       "        vertical-align: top;\n",
       "    }\n",
       "\n",
       "    .dataframe thead th {\n",
       "        text-align: right;\n",
       "    }\n",
       "</style>\n",
       "<table border=\"1\" class=\"dataframe\">\n",
       "  <thead>\n",
       "    <tr style=\"text-align: right;\">\n",
       "      <th></th>\n",
       "      <th>name</th>\n",
       "      <th>penalties_scored</th>\n",
       "      <th>penalties_taken</th>\n",
       "      <th>conversion_rate</th>\n",
       "      <th>predicted_conversion</th>\n",
       "    </tr>\n",
       "  </thead>\n",
       "  <tbody>\n",
       "    <tr>\n",
       "      <th>1599</th>\n",
       "      <td>Olivier Monterrubio</td>\n",
       "      <td>27</td>\n",
       "      <td>27</td>\n",
       "      <td>100.00%</td>\n",
       "      <td>86.77%</td>\n",
       "    </tr>\n",
       "    <tr>\n",
       "      <th>1398</th>\n",
       "      <td>Matt Le Tissier</td>\n",
       "      <td>24</td>\n",
       "      <td>24</td>\n",
       "      <td>100.00%</td>\n",
       "      <td>86.15%</td>\n",
       "    </tr>\n",
       "    <tr>\n",
       "      <th>1825</th>\n",
       "      <td>Ryad Boudebouz</td>\n",
       "      <td>20</td>\n",
       "      <td>20</td>\n",
       "      <td>100.00%</td>\n",
       "      <td>85.22%</td>\n",
       "    </tr>\n",
       "    <tr>\n",
       "      <th>74</th>\n",
       "      <td>Alessandro Del Piero</td>\n",
       "      <td>42</td>\n",
       "      <td>46</td>\n",
       "      <td>91.30%</td>\n",
       "      <td>85.03%</td>\n",
       "    </tr>\n",
       "    <tr>\n",
       "      <th>371</th>\n",
       "      <td>Cristhian Stuani</td>\n",
       "      <td>17</td>\n",
       "      <td>17</td>\n",
       "      <td>100.00%</td>\n",
       "      <td>84.43%</td>\n",
       "    </tr>\n",
       "    <tr>\n",
       "      <th>609</th>\n",
       "      <td>Fabinho</td>\n",
       "      <td>17</td>\n",
       "      <td>17</td>\n",
       "      <td>100.00%</td>\n",
       "      <td>84.43%</td>\n",
       "    </tr>\n",
       "    <tr>\n",
       "      <th>1544</th>\n",
       "      <td>Nenê</td>\n",
       "      <td>22</td>\n",
       "      <td>23</td>\n",
       "      <td>95.65%</td>\n",
       "      <td>84.33%</td>\n",
       "    </tr>\n",
       "    <tr>\n",
       "      <th>382</th>\n",
       "      <td>Cristiano Ronaldo</td>\n",
       "      <td>91</td>\n",
       "      <td>105</td>\n",
       "      <td>86.67%</td>\n",
       "      <td>84.23%</td>\n",
       "    </tr>\n",
       "    <tr>\n",
       "      <th>544</th>\n",
       "      <td>Eden Hazard</td>\n",
       "      <td>26</td>\n",
       "      <td>28</td>\n",
       "      <td>92.86%</td>\n",
       "      <td>84.01%</td>\n",
       "    </tr>\n",
       "    <tr>\n",
       "      <th>1419</th>\n",
       "      <td>Max Kruse</td>\n",
       "      <td>15</td>\n",
       "      <td>15</td>\n",
       "      <td>100.00%</td>\n",
       "      <td>83.86%</td>\n",
       "    </tr>\n",
       "  </tbody>\n",
       "</table>\n",
       "</div>"
      ],
      "text/plain": [
       "                      name  penalties_scored  penalties_taken  \\\n",
       "1599   Olivier Monterrubio                27               27   \n",
       "1398       Matt Le Tissier                24               24   \n",
       "1825        Ryad Boudebouz                20               20   \n",
       "74    Alessandro Del Piero                42               46   \n",
       "371       Cristhian Stuani                17               17   \n",
       "609                Fabinho                17               17   \n",
       "1544                  Nenê                22               23   \n",
       "382      Cristiano Ronaldo                91              105   \n",
       "544            Eden Hazard                26               28   \n",
       "1419             Max Kruse                15               15   \n",
       "\n",
       "      conversion_rate  predicted_conversion  \n",
       "1599          100.00%                86.77%  \n",
       "1398          100.00%                86.15%  \n",
       "1825          100.00%                85.22%  \n",
       "74             91.30%                85.03%  \n",
       "371           100.00%                84.43%  \n",
       "609           100.00%                84.43%  \n",
       "1544           95.65%                84.33%  \n",
       "382            86.67%                84.23%  \n",
       "544            92.86%                84.01%  \n",
       "1419          100.00%                83.86%  "
      ]
     },
     "execution_count": 12,
     "metadata": {},
     "output_type": "execute_result"
    }
   ],
   "source": [
    "#hide_input\n",
    "players[players['penalties_taken']>=15].sort_values(by='predicted_conversion', ascending=False).head(10)"
   ]
  },
  {
   "cell_type": "markdown",
   "metadata": {
    "id": "zTWEFChEWj7P"
   },
   "source": [
    "It's not surprising to see Le Tissier up there, since he is widely considered to be one of the best penalty takers ever. [Rickie Lambert](https://www.transfermarkt.com/rickie-lambert/elfmetertore/spieler/49655) only took a few penalties in the Premiership, but he is at 87.24% over his career in all competitions. If you are following on in notebook form you can investigate different players below; some notable names that weren't in the dataset include goalkeeper [Rogério Ceni](https://www.transfermarkt.com/rogerio-ceni/elfmetertore/spieler/13811) (84.11%), [Michel Platini](https://www.transfermarkt.com/michel-platini/elfmetertore/spieler/88994) (86.36%), [Marco Van Basten](https://www.transfermarkt.com/marco-van-basten/elfmetertore/spieler/74471) (86.46%), [Davor Suker](https://www.transfermarkt.com/davor-suker/elfmetertore/spieler/1407) (88.03%), [Ferenc Puskás](https://www.transfermarkt.com/ferenc-puskas/elfmetertore/spieler/103092) (88.19%), [Ronald Koeman](https://www.transfermarkt.com/ronald-koeman/elfmetertore/spieler/7940) (89.54%) and [Alan Shearer](https://www.transfermarkt.com/alan-shearer/elfmetertore/spieler/3110) (89.86%, more on him later!). The best I've found so far is [Hugo Sánchez](https://www.transfermarkt.com/hugo-sanchez/elfmetertore/spieler/84528), who's 65/65 record puts him at 91.57%!\n"
   ]
  },
  {
   "cell_type": "code",
   "execution_count": 13,
   "metadata": {
    "colab": {
     "base_uri": "https://localhost:8080/",
     "height": 224,
     "referenced_widgets": [
      "e740c2df343f4e1bbe4011cc0d482647",
      "f49fd5f92b904f6a8d993294aa02ea81",
      "4a012e1fb0ef4cb6bbd5884001635d2a",
      "754ba25f0e7b4bd3a6548b3b87ab5bf3",
      "137db7f1d5af41e4854f989be056607f",
      "ecd371fcb50d496ea82acc2a31ec0b17"
     ]
    },
    "executionInfo": {
     "elapsed": 360,
     "status": "ok",
     "timestamp": 1605406418037,
     "user": {
      "displayName": "Tom Whelan",
      "photoUrl": "https://lh3.googleusercontent.com/a-/AOh14GgnbPvaiz9OgiXkVoVkd2gHC3Jpjk3NZsn-eoSH=s64",
      "userId": "03831464729329717576"
     },
     "user_tz": 0
    },
    "id": "xgM6K0OW1uh5",
    "outputId": "df7cf38e-9eb9-4ff0-9951-454823e118f5"
   },
   "outputs": [
    {
     "data": {
      "application/vnd.jupyter.widget-view+json": {
       "model_id": "aa6477898e0548418bc39ec1932e45ae",
       "version_major": 2,
       "version_minor": 0
      },
      "text/plain": [
       "Text(value='')"
      ]
     },
     "metadata": {},
     "output_type": "display_data"
    },
    {
     "data": {
      "application/vnd.jupyter.widget-view+json": {
       "model_id": "d9182f54df2e45eaa6733f79ca1f6582",
       "version_major": 2,
       "version_minor": 0
      },
      "text/plain": [
       "Button(description='Search', style=ButtonStyle())"
      ]
     },
     "metadata": {},
     "output_type": "display_data"
    },
    {
     "data": {
      "text/plain": [
       "None"
      ]
     },
     "metadata": {},
     "output_type": "display_data"
    }
   ],
   "source": [
    "#collapse-hide\n",
    "text = widgets.Text()\n",
    "display(text)\n",
    "button = widgets.Button(description='Search')\n",
    "display(button)\n",
    "\n",
    "def on_button_clicked(b):\n",
    "    display(players[players['name'].str.contains(text.value)])\n",
    "\n",
    "search = button.on_click(on_button_clicked)\n",
    "display(search)"
   ]
  },
  {
   "cell_type": "code",
   "execution_count": 14,
   "metadata": {
    "colab": {
     "base_uri": "https://localhost:8080/",
     "height": 115,
     "referenced_widgets": [
      "7e436a28cfc744798ee1d7d4af30f071",
      "d6ffa0ae190b4ee49d825185d4bb37ee",
      "58ded1ca07394451a327873c814daa51",
      "f01b178ceac045f7bb2b2669239c5c5b",
      "938685a6064b46339e6a957f309799f7",
      "2b4e66d4714346b28e5ad899fb0aca05",
      "dcdb81c679184b42abf03f567c1cea87",
      "415a7ecac75c41a68ad56bc00698d2cd",
      "0b57fef5054f4544b7772d04fb5bf54f",
      "c37752484260425ba925a84264114d4c"
     ]
    },
    "executionInfo": {
     "elapsed": 437,
     "status": "ok",
     "timestamp": 1605406427730,
     "user": {
      "displayName": "Tom Whelan",
      "photoUrl": "https://lh3.googleusercontent.com/a-/AOh14GgnbPvaiz9OgiXkVoVkd2gHC3Jpjk3NZsn-eoSH=s64",
      "userId": "03831464729329717576"
     },
     "user_tz": 0
    },
    "id": "gnVhhiWe1Mo4",
    "outputId": "41f92636-db9f-4400-c7ac-1c3a12d5f34d"
   },
   "outputs": [
    {
     "name": "stdout",
     "output_type": "stream",
     "text": [
      "Predicted conversion rate = 91.57%\n"
     ]
    },
    {
     "data": {
      "text/plain": [
       "<function __main__.slider(scored, missed)>"
      ]
     },
     "metadata": {},
     "output_type": "display_data"
    }
   ],
   "source": [
    "#collapse-hide\n",
    "def slider(scored, missed):\n",
    "    print('Predicted conversion rate = {:.2%}'.format(predicted_conversion(scored, scored + missed)))\n",
    "slider = interact(slider, scored=widgets.IntSlider(min=0, max=150, step=1, value=65), \n",
    "         missed=widgets.IntSlider(min=0, max=150, step=1, value=0));\n",
    "display(slider);"
   ]
  },
  {
   "cell_type": "markdown",
   "metadata": {
    "id": "G5j0gcvEbcNv"
   },
   "source": [
    "You might have noticed that this is a rare top ten list without Messi, and in the past he has even been called out for being ['phenomenally bad'](https://www.joe.co.uk/sport/lionel-messis-barcelona-penalty-record-is-phenomenally-bad-16180?cacheTtl=5&cacheKey=request-browser-httpswwwjoecouksportlionel-messis-barcelona-penalty-record-is-phenomenally-bad16180) at penalties. Let's check whether that criticism was warranted."
   ]
  },
  {
   "cell_type": "markdown",
   "metadata": {
    "id": "ktXR38DEMJw6"
   },
   "source": [
    "## Is Lionel Messi 'phenomenally bad' at penalties?\n",
    "Pretty average, actually."
   ]
  },
  {
   "cell_type": "code",
   "execution_count": 15,
   "metadata": {
    "colab": {
     "base_uri": "https://localhost:8080/",
     "height": 410
    },
    "executionInfo": {
     "elapsed": 983,
     "status": "ok",
     "timestamp": 1605404954002,
     "user": {
      "displayName": "Tom Whelan",
      "photoUrl": "https://lh3.googleusercontent.com/a-/AOh14GgnbPvaiz9OgiXkVoVkd2gHC3Jpjk3NZsn-eoSH=s64",
      "userId": "03831464729329717576"
     },
     "user_tz": 0
    },
    "id": "Yun48_ftMQwo",
    "outputId": "28c74830-3956-4959-edec-211ac14a3b0a"
   },
   "outputs": [
    {
     "data": {
      "image/png": "[encoded data removed]",
      "text/plain": [
       "<Figure size 648x432 with 1 Axes>"
      ]
     },
     "metadata": {},
     "output_type": "display_data"
    }
   ],
   "source": [
    "#collapse-hide\n",
    "# Initialise the plot\n",
    "fig, ax = plt.subplots(figsize=(9,6))\n",
    "ax.set(title='Lionel Messi - Mr. Average',\n",
    "       ylim=[0, 13],\n",
    "       xlabel='Predicted penalty conversion rate')\n",
    "ax.xaxis.set_major_formatter(matplotlib.ticker.PercentFormatter(1))\n",
    "\n",
    "# Generate a beta distribution representing the range of estimates for an average player\n",
    "sns.kdeplot(data=prior_dist, color='maroon', fill=True, bw_adjust=3)\n",
    "plt.axvline(prior, 0, 0.95, c='maroon', linestyle='--')\n",
    "\n",
    "# Generate a beta distribution representing the range of estimates for Messi\n",
    "# Note - using career numbers from Transfermarkt\n",
    "# https://www.transfermarkt.com/lionel-messi/elfmetertore/spieler/28003\n",
    "goals = 97\n",
    "misses = 26\n",
    "messi_dist = ss.beta.rvs(alpha0+goals, beta0+misses, size=10000)\n",
    "sns.kdeplot(data=messi_dist, color='mediumblue', fill=True, bw_adjust=3)\n",
    "est1 = predicted_conversion(goals, goals+misses)\n",
    "plt.axvline(est1, 0, 0.95, c='mediumblue')\n",
    "\n",
    "# Add custom legend and axes\n",
    "custom_lines = [Line2D([0], [0], color='mediumblue', lw=2.5),\n",
    "                Line2D([0], [0], color='maroon', lw=2.5, linestyle='--')]\n",
    "ax.legend(custom_lines,\n",
    "          ['Messi: %s' % (str(round(est1*100, 1)))+'%',\n",
    "           'Prior:  %s' % (str(round(prior*100, 1)))+'%'],\n",
    "          loc='upper left')\n",
    "sns.despine(right=True, top=True);"
   ]
  },
  {
   "cell_type": "markdown",
   "metadata": {
    "id": "UEFXdAKbRzCH"
   },
   "source": [
    "The beta distribution for our prior estimate is shown in red, with Messi's beta distribution in blue.\n",
    "\n",
    "> Tip: Definitely make your charts look worse by using Barcelona colours!\n",
    "\n",
    "\n",
    "The distribution for Messi is taller and narrower than the prior distribution. This is because we have 123 penalty attempts for Messi whereas our prior distribution starts off with a lot less, so we are more confident in Messi's prediction. We can also see that whilst Messi isn't 'phenomenally bad' at penalties, in this case we may have found something he doesn't excel at."
   ]
  },
  {
   "cell_type": "markdown",
   "metadata": {
    "id": "ybqFZ3F6v9E5"
   },
   "source": [
    "# Are Manchester City bad at penalties?"
   ]
  },
  {
   "cell_type": "code",
   "execution_count": 16,
   "metadata": {
    "colab": {
     "base_uri": "https://localhost:8080/"
    },
    "executionInfo": {
     "elapsed": 411,
     "status": "ok",
     "timestamp": 1605404956568,
     "user": {
      "displayName": "Tom Whelan",
      "photoUrl": "https://lh3.googleusercontent.com/a-/AOh14GgnbPvaiz9OgiXkVoVkd2gHC3Jpjk3NZsn-eoSH=s64",
      "userId": "03831464729329717576"
     },
     "user_tz": 0
    },
    "id": "BVs3XLM7Z_P_",
    "outputId": "12b4d7b1-29e8-4d04-9daf-e8d0e978542d"
   },
   "outputs": [
    {
     "name": "stdout",
     "output_type": "stream",
     "text": [
      "Manchester City have taken more penalties than 84.5% of teams\n",
      "in Europe's big five leagues since 16/17. However...\n"
     ]
    }
   ],
   "source": [
    "#collapse-hide\n",
    "# Filter to the start of the 16/17 season\n",
    "teams_since_16 = df[df['season']>2016].groupby('team')[['penalties_scored', 'penalties_taken']].sum().reset_index()\n",
    "conversion_rate(teams_since_16)\n",
    "teams_since_16 = teams_since_16.assign(predicted_conversion=predicted_conversion(teams_since_16['penalties_scored'], teams_since_16['penalties_taken']))\n",
    "\n",
    "def percentile(all_scores, score):\n",
    "    return round(ss.stats.percentileofscore(all_scores, score), 1)\n",
    "\n",
    "city_pct = percentile(teams_since_16['penalties_taken'], teams_since_16.set_index('team').loc['Manchester City', 'penalties_taken'])\n",
    "print('Manchester City have taken more penalties than '+str(city_pct)+\"% of teams\\nin Europe's big five leagues since 16/17. However...\")"
   ]
  },
  {
   "cell_type": "code",
   "execution_count": 17,
   "metadata": {
    "colab": {
     "base_uri": "https://localhost:8080/",
     "height": 479
    },
    "executionInfo": {
     "elapsed": 1017,
     "status": "ok",
     "timestamp": 1605404959002,
     "user": {
      "displayName": "Tom Whelan",
      "photoUrl": "https://lh3.googleusercontent.com/a-/AOh14GgnbPvaiz9OgiXkVoVkd2gHC3Jpjk3NZsn-eoSH=s64",
      "userId": "03831464729329717576"
     },
     "user_tz": 0
    },
    "id": "CvwhOmCRbcqi",
    "outputId": "fc39483f-304a-40db-8424-12bd87a6a3bb"
   },
   "outputs": [
    {
     "data": {
      "image/png": "[encoded data removed]",
      "text/plain": [
       "<Figure size 720x504 with 1 Axes>"
      ]
     },
     "metadata": {},
     "output_type": "display_data"
    }
   ],
   "source": [
    "#collapse-hide\n",
    "palette = sns.color_palette()\n",
    "score = teams_since_16.set_index('team').loc['Manchester City', 'predicted_conversion']\n",
    "worse_or_equal = teams_since_16[teams_since_16['predicted_conversion']<=score]\n",
    "worse_teams = len(worse_or_equal) - 1\n",
    "\n",
    "# Create the main plot\n",
    "fig, ax = plt.subplots(figsize=(10,7))\n",
    "ax.set(title=\"Since Pep Guardiola took charge in 16/17, only %d teams in Europe's big five leagues\\nhave a worse predicted penalty conversion rate than Manchester City\" % (worse_teams),\n",
    "       ylim=[0, 20],\n",
    "       xlabel='Predicted penalty conversion rate')\n",
    "ax.xaxis.set_major_formatter(matplotlib.ticker.PercentFormatter(1))\n",
    "sns.kdeplot(data=teams_since_16['predicted_conversion'], color='skyblue', fill=True)\n",
    "plt.axvline(teams_since_16['predicted_conversion'].mean(), 0, 20, c='skyblue', linestyle='--')\n",
    "lineheight = 0.65*teams_since_16[teams_since_16['team']=='Manchester City']['penalties_taken'].values[0]/teams_since_16['penalties_taken'].max()\n",
    "textheight = 20.5*lineheight\n",
    "plt.axvline(score, 0, lineheight, c=palette[0])\n",
    "plt.text(score, textheight, 'Manchester City', c=palette[0], ha='right')\n",
    "\n",
    "# Add rug - https://seaborn.pydata.org/generated/seaborn.rugplot.html#seaborn.rugplot\n",
    "sns.rugplot(data=teams_since_16['predicted_conversion'], color='skyblue', height=0.035)\n",
    "\n",
    "# Add legend\n",
    "custom_lines = [Line2D([0], [0], color=palette[0], lw=2.5),\n",
    "                Line2D([0], [0], color='skyblue', lw=2.5, linestyle='--'),\n",
    "                Line2D([0], [0], color='skyblue', lw=2.5)]\n",
    "\n",
    "ax.legend(custom_lines, \n",
    "          ['Manchester City: %s' % (str(round(score*100, 1))+'%'),\n",
    "           'Average Team:    %s' % (str(round(teams_since_16['predicted_conversion'].mean()*100, 1))+'%'),\n",
    "           '%d total teams' % (len(teams_since_16))])\n",
    "\n",
    "# Remove axes\n",
    "sns.despine(right=True, top=True);"
   ]
  },
  {
   "cell_type": "code",
   "execution_count": 18,
   "metadata": {
    "colab": {
     "base_uri": "https://localhost:8080/",
     "height": 235
    },
    "executionInfo": {
     "elapsed": 607,
     "status": "ok",
     "timestamp": 1605404961136,
     "user": {
      "displayName": "Tom Whelan",
      "photoUrl": "https://lh3.googleusercontent.com/a-/AOh14GgnbPvaiz9OgiXkVoVkd2gHC3Jpjk3NZsn-eoSH=s64",
      "userId": "03831464729329717576"
     },
     "user_tz": 0
    },
    "id": "jHrFHmd1eyAp",
    "outputId": "c946c087-2a12-42cc-fa89-9a75ea6828c3"
   },
   "outputs": [
    {
     "data": {
      "text/html": [
       "<div>\n",
       "<style scoped>\n",
       "    .dataframe tbody tr th:only-of-type {\n",
       "        vertical-align: middle;\n",
       "    }\n",
       "\n",
       "    .dataframe tbody tr th {\n",
       "        vertical-align: top;\n",
       "    }\n",
       "\n",
       "    .dataframe thead th {\n",
       "        text-align: right;\n",
       "    }\n",
       "</style>\n",
       "<table border=\"1\" class=\"dataframe\">\n",
       "  <thead>\n",
       "    <tr style=\"text-align: right;\">\n",
       "      <th></th>\n",
       "      <th>team</th>\n",
       "      <th>penalties_scored</th>\n",
       "      <th>penalties_taken</th>\n",
       "      <th>conversion_rate</th>\n",
       "      <th>predicted_conversion</th>\n",
       "    </tr>\n",
       "  </thead>\n",
       "  <tbody>\n",
       "    <tr>\n",
       "      <th>73</th>\n",
       "      <td>Manchester City</td>\n",
       "      <td>16</td>\n",
       "      <td>25</td>\n",
       "      <td>64.00%</td>\n",
       "      <td>72.44%</td>\n",
       "    </tr>\n",
       "    <tr>\n",
       "      <th>107</th>\n",
       "      <td>Stoke City</td>\n",
       "      <td>0</td>\n",
       "      <td>3</td>\n",
       "      <td>0.00%</td>\n",
       "      <td>72.29%</td>\n",
       "    </tr>\n",
       "    <tr>\n",
       "      <th>118</th>\n",
       "      <td>Valladolid</td>\n",
       "      <td>10</td>\n",
       "      <td>17</td>\n",
       "      <td>58.82%</td>\n",
       "      <td>72.08%</td>\n",
       "    </tr>\n",
       "    <tr>\n",
       "      <th>5</th>\n",
       "      <td>Atalanta</td>\n",
       "      <td>15</td>\n",
       "      <td>24</td>\n",
       "      <td>62.50%</td>\n",
       "      <td>72.00%</td>\n",
       "    </tr>\n",
       "    <tr>\n",
       "      <th>17</th>\n",
       "      <td>Brest</td>\n",
       "      <td>2</td>\n",
       "      <td>6</td>\n",
       "      <td>33.33%</td>\n",
       "      <td>71.92%</td>\n",
       "    </tr>\n",
       "    <tr>\n",
       "      <th>87</th>\n",
       "      <td>Nürnberg</td>\n",
       "      <td>2</td>\n",
       "      <td>6</td>\n",
       "      <td>33.33%</td>\n",
       "      <td>71.92%</td>\n",
       "    </tr>\n",
       "  </tbody>\n",
       "</table>\n",
       "</div>"
      ],
      "text/plain": [
       "                team  penalties_scored  penalties_taken  conversion_rate  \\\n",
       "73   Manchester City                16               25           64.00%   \n",
       "107       Stoke City                 0                3            0.00%   \n",
       "118       Valladolid                10               17           58.82%   \n",
       "5           Atalanta                15               24           62.50%   \n",
       "17             Brest                 2                6           33.33%   \n",
       "87          Nürnberg                 2                6           33.33%   \n",
       "\n",
       "     predicted_conversion  \n",
       "73                 72.44%  \n",
       "107                72.29%  \n",
       "118                72.08%  \n",
       "5                  72.00%  \n",
       "17                 71.92%  \n",
       "87                 71.92%  "
      ]
     },
     "execution_count": 18,
     "metadata": {},
     "output_type": "execute_result"
    }
   ],
   "source": [
    "#hide_input\n",
    "pd.options.display.float_format = '{:.2%}'.format\n",
    "worse_or_equal.sort_values('predicted_conversion', ascending=False)"
   ]
  },
  {
   "cell_type": "markdown",
   "metadata": {
    "id": "A5xZ71HhJEZX"
   },
   "source": [
    "There's always going to be some variance involved in a stat like that, but there could be other factors at play as well:"
   ]
  },
  {
   "cell_type": "code",
   "execution_count": 19,
   "metadata": {
    "colab": {
     "base_uri": "https://localhost:8080/",
     "height": 518
    },
    "executionInfo": {
     "elapsed": 1013,
     "status": "ok",
     "timestamp": 1605404963375,
     "user": {
      "displayName": "Tom Whelan",
      "photoUrl": "https://lh3.googleusercontent.com/a-/AOh14GgnbPvaiz9OgiXkVoVkd2gHC3Jpjk3NZsn-eoSH=s64",
      "userId": "03831464729329717576"
     },
     "user_tz": 0
    },
    "id": "5YB3wqxAfp_L",
    "outputId": "322cc2a8-3249-4e68-8a96-1a6c07bffba3"
   },
   "outputs": [
    {
     "data": {
      "image/png": "[encoded data removed]",
      "text/plain": [
       "<Figure size 936x576 with 1 Axes>"
      ]
     },
     "metadata": {},
     "output_type": "display_data"
    }
   ],
   "source": [
    "#collapse-hide\n",
    "# Data from https://www.transfermarkt.com/manchester-city/elfmeterschuetzen/verein/281\n",
    "# KDB's estimate includes his miss against Liverpool\n",
    "man_city_career = {'name': ['Elano', 'Yaya Touré', 'Sergio Agüero', 'Carlos Tevez', 'Robinho', 'Mario Balotelli', 'James Milner',\n",
    "                            'Raheem Sterling', 'Kevin De Bruyne', 'Gabriel Jesus', 'İlkay Gündoğan', 'Riyad Mahrez'],\n",
    "                   'penalties_scored': [23,15,47,24,12,38,30,\n",
    "                                        2,7,4,9,10],\n",
    "                   'penalties_taken': [26,15,60,34,15,43,35,\n",
    "                                       4,9,10,10,16],\n",
    "                   'align': ['left', 'left', 'left', 'right', 'left', 'left', 'center',\n",
    "                             'center', 'right', 'right', 'center', 'right'],\n",
    "                   'palette': [0,0,2,0,0,0,0,\n",
    "                               2,2,2,1,2]}\n",
    "man_city = pd.DataFrame.from_dict(man_city_career)\n",
    "man_city = man_city.assign(predicted_conversion=predicted_conversion(man_city['penalties_scored'], man_city['penalties_taken'])).sort_values(by='predicted_conversion', ascending=False)\n",
    "\n",
    "# Create the main plot\n",
    "fig, ax = plt.subplots(figsize=(13,8))\n",
    "ax.set(title='Hughes, Mancini and Pellegrini had far better options from the penalty spot than Pep Guardiola',\n",
    "       ylim=[0, 27],\n",
    "       xlabel='Predicted penalty conversion rate')\n",
    "ax.xaxis.set_major_formatter(matplotlib.ticker.PercentFormatter(1))\n",
    "palette = sns.color_palette()\n",
    "sns.kdeplot(data=players['predicted_conversion'], color='skyblue', fill=True, bw_adjust=3)\n",
    "\n",
    "# Add mean\n",
    "plt.axvline(players['predicted_conversion'].mean(), 0, 27, c='skyblue', linestyle='--')\n",
    "\n",
    "for index, row in man_city.iterrows():\n",
    "    # Set line height to be proportional to number of penalties taken\n",
    "    lineheight = row['penalties_taken']/players['penalties_taken'].max()\n",
    "    textheight = 27.5*lineheight\n",
    "    plt.axvline(row['predicted_conversion'], 0, lineheight, c=palette[row['palette']])\n",
    "    plt.text(row['predicted_conversion'], textheight, row['name'], c=palette[row['palette']], ha=row['align'])\n",
    "\n",
    "# Add rug\n",
    "sns.rugplot(data=players['predicted_conversion'], color='skyblue', height=0.02)\n",
    "\n",
    "# Add legend\n",
    "custom_lines = [Line2D([0], [0], color=palette[0], lw=2.5),\n",
    "                Line2D([0], [0], color=palette[2], lw=2.5),\n",
    "                Line2D([0], [0], color=palette[1], lw=2.5),\n",
    "                Line2D([0], [0], color='skyblue', lw=2.5, linestyle='--'),\n",
    "                Line2D([0], [0], color='skyblue', lw=2.5),]\n",
    "ax.legend(custom_lines, ['Mansour era\\nbefore 16/17', 'Guardiola era', 'Current best', 'Average player', '%d total players' % (len(players))])\n",
    "\n",
    "# Remove axes\n",
    "sns.despine(right=True, top=True);"
   ]
  },
  {
   "cell_type": "markdown",
   "metadata": {
    "id": "3BanfzR_7rR-"
   },
   "source": [
    "We can clearly see a big difference here pre/post Pep (with the exception of Carlos Tevez, who mainly took penalties in 09/10 after Elano left). In fact, the wealth of options meant that James Milner was rarely called upon to take penalties for City. Balotelli famously never needs to look at the ball when he takes a penalty - Joe Hart once said that his penalties were [almost impossible to stop](https://www.goal.com/en-us/news/85/england/2012/03/17/2973811/hart-manchester-citys-balotelli-probably-the-best-penalty), which was far greater praise at the time than it would be now (sorry Joe!), and [did a lap of honour](https://www.manchestereveningnews.co.uk/sport/football/football-news/man-city-penalty-stats-gundogan-17614489) when he finally saved one in training. To answer our earlier question, not only is Yaya Touré significantly better than Gabriel Jesus, they are on opposite ends of the scale! Jesus is great at many aspects of the game, but from the penalty spot he's one of the worst players I've seen with a 70.15% predicted conversion rate.\n",
    "\n"
   ]
  },
  {
   "cell_type": "code",
   "execution_count": 20,
   "metadata": {
    "colab": {
     "base_uri": "https://localhost:8080/",
     "height": 410
    },
    "executionInfo": {
     "elapsed": 974,
     "status": "ok",
     "timestamp": 1605404965823,
     "user": {
      "displayName": "Tom Whelan",
      "photoUrl": "https://lh3.googleusercontent.com/a-/AOh14GgnbPvaiz9OgiXkVoVkd2gHC3Jpjk3NZsn-eoSH=s64",
      "userId": "03831464729329717576"
     },
     "user_tz": 0
    },
    "id": "1NncWCWwFh3C",
    "outputId": "f3338151-8329-49b3-bf2a-efb44efbcb4b"
   },
   "outputs": [
    {
     "data": {
      "image/png": "[encoded data removed]",
      "text/plain": [
       "<Figure size 648x432 with 1 Axes>"
      ]
     },
     "metadata": {},
     "output_type": "display_data"
    }
   ],
   "source": [
    "#collapse-hide\n",
    "# Plot the range of estimates for Yaya and Jesus\n",
    "fig, ax = plt.subplots(figsize=(9,6))\n",
    "ax.set(title='Yaya Touré and Gabriel Jesus are probably not equally skilled at taking penalties',\n",
    "       ylim=[0, 9],\n",
    "       xlabel='Predicted penalty conversion rate')\n",
    "ax.xaxis.set_major_formatter(matplotlib.ticker.PercentFormatter(1))\n",
    "# Yaya\n",
    "goals = 15\n",
    "misses = 0\n",
    "yaya_dist = ss.beta.rvs(alpha0+goals, beta0+misses, size=10000)\n",
    "sns.kdeplot(data=yaya_dist, color=palette[0], fill=True, bw_adjust=1.5)\n",
    "est1 = predicted_conversion(goals, goals+misses)\n",
    "plt.axvline(est1, 0, 0.95, c=palette[0], linestyle='--')\n",
    "\n",
    "# Jesus\n",
    "goals = 4\n",
    "misses = 6\n",
    "jesus_dist = ss.beta.rvs(alpha0+goals, beta0+misses, size=10000)\n",
    "sns.kdeplot(data=jesus_dist, color='skyblue', fill=True, bw_adjust=1.5)\n",
    "est2 = predicted_conversion(goals, goals+misses)\n",
    "plt.axvline(est2, 0, 0.95, c='skyblue', linestyle='--')\n",
    "\n",
    "# Add custom legend and axes\n",
    "custom_lines = [Line2D([0], [0], color='skyblue', lw=2.5),\n",
    "                Line2D([0], [0], color=palette[0], lw=2.5)]\n",
    "ax.legend(custom_lines,\n",
    "          ['Jesus: %s' % (str(round(est2*100, 1)))+'%',\n",
    "           'Touré: %s' % (str(round(est1*100, 1)))+'%'],\n",
    "          loc='upper left')\n",
    "sns.despine(right=True, top=True);"
   ]
  },
  {
   "cell_type": "markdown",
   "metadata": {
    "id": "C5zoaLDQGGgi"
   },
   "source": [
    "Aside from his well publicised disagreements with Touré it's hard to blame Pep too much, since it appears his current squad are good at everything *but* penalties. İlkay Gündoğan's miss came at a time when City had already missed [three of their last five](https://www.thesun.co.uk/sport/football/10875632/man-city-penalty-ilkay-gundogan-pep-guardiola/) so we can certainly speculate that there would have been a lot of pressure to change things; in fact as I alluded to earlier things got so bad that [Pep was seriously considering putting Ederson in charge of spot kicks.](https://www.manchestereveningnews.co.uk/sport/football/football-news/man-city-penalties-ederson-gundogan-17676765) De Bruyne's miss against Liverpool bumped his estimate down to about league average, but he was still predicted to be a bit worse than Gündoğan before that:"
   ]
  },
  {
   "cell_type": "code",
   "execution_count": 21,
   "metadata": {
    "colab": {
     "base_uri": "https://localhost:8080/",
     "height": 410
    },
    "executionInfo": {
     "elapsed": 1003,
     "status": "ok",
     "timestamp": 1605404968025,
     "user": {
      "displayName": "Tom Whelan",
      "photoUrl": "https://lh3.googleusercontent.com/a-/AOh14GgnbPvaiz9OgiXkVoVkd2gHC3Jpjk3NZsn-eoSH=s64",
      "userId": "03831464729329717576"
     },
     "user_tz": 0
    },
    "id": "Me-jkjfClpI1",
    "outputId": "a8abff45-b1fe-4410-b42e-51cb1ef597f8"
   },
   "outputs": [
    {
     "data": {
      "image/png": "[encoded data removed]",
      "text/plain": [
       "<Figure size 648x432 with 1 Axes>"
      ]
     },
     "metadata": {},
     "output_type": "display_data"
    }
   ],
   "source": [
    "#collapse-hide\n",
    "# Plot the range of estimates for KDB before and after his penalty against Liverpool\n",
    "fig, ax = plt.subplots(figsize=(9,6))\n",
    "ax.set(title=\"De Bruyne's predicted conversion rate decreased after his miss against Liverpool\",\n",
    "       ylim=[0, 9],\n",
    "       xlabel='Predicted penalty conversion rate')\n",
    "ax.xaxis.set_major_formatter(matplotlib.ticker.PercentFormatter(1))\n",
    "# Before Liverpool penalty\n",
    "goals = 7\n",
    "misses = 1\n",
    "kdb_dist = ss.beta.rvs(alpha0+goals, beta0+misses, size=10000)\n",
    "sns.kdeplot(data=kdb_dist, color='skyblue', fill=True, bw_adjust=1.5)\n",
    "est1 = predicted_conversion(goals, goals+misses)\n",
    "plt.axvline(est1, 0, 0.95, c='skyblue', linestyle='--')\n",
    "\n",
    "# After Liverpool penalty\n",
    "misses = 2\n",
    "kdb_dist = ss.beta.rvs(alpha0+goals, beta0+misses, size=10000)\n",
    "sns.kdeplot(data=kdb_dist, color=palette[0], bw_adjust=1.5)\n",
    "est2 = predicted_conversion(goals, goals+misses)\n",
    "plt.axvline(est2, 0, 0.95, c=palette[0], linestyle='--')\n",
    "\n",
    "# Add custom legend and axes\n",
    "custom_lines = [Line2D([0], [0], color=palette[0], lw=2.5),\n",
    "                Line2D([0], [0], color='skyblue', lw=2.5)]\n",
    "ax.legend(custom_lines,\n",
    "          ['New estimate: %s' % (str(round(est2*100, 1)))+'%',\n",
    "           'Old estimate:  %s' % (str(round(est1*100, 1)))+'%'],\n",
    "          loc='upper left')\n",
    "sns.despine(right=True, top=True);"
   ]
  },
  {
   "cell_type": "code",
   "execution_count": 22,
   "metadata": {
    "colab": {
     "base_uri": "https://localhost:8080/"
    },
    "executionInfo": {
     "elapsed": 382,
     "status": "ok",
     "timestamp": 1605404969830,
     "user": {
      "displayName": "Tom Whelan",
      "photoUrl": "https://lh3.googleusercontent.com/a-/AOh14GgnbPvaiz9OgiXkVoVkd2gHC3Jpjk3NZsn-eoSH=s64",
      "userId": "03831464729329717576"
     },
     "user_tz": 0
    },
    "id": "OQVbpz6O5OLo",
    "outputId": "4f24747b-55c1-4c94-d80d-548767bc70cb"
   },
   "outputs": [
    {
     "name": "stdout",
     "output_type": "stream",
     "text": [
      "İlkay Gündoğan is at the 92.2th percentile of 2204 players in the dataset\n",
      "with a predicted penalty conversion rate of 80.22%!\n"
     ]
    }
   ],
   "source": [
    "#hide_input\n",
    "gundo_pct = percentile(players['predicted_conversion'], man_city.set_index('name').loc['İlkay Gündoğan', 'predicted_conversion'])\n",
    "gundo_rate = str(round(predicted_conversion(9, 10)*100, 2))+'%!'\n",
    "print('İlkay Gündoğan is at the '+str(gundo_pct)+'th percentile of %d players in the dataset\\nwith a predicted penalty conversion rate of' % (len(players)), gundo_rate)"
   ]
  },
  {
   "cell_type": "markdown",
   "metadata": {
    "id": "z03okXOeJFEh"
   },
   "source": [
    "This analysis suggests Gündoğan deserves another go, and I'd like to see him given the nod the next time he's on the pitch. We aren't talking about a massive difference between the two players, but why not take edges anywhere you can, even if they are small ones? We have to assume Ederson is worse than Gündoğan as well since we have no additional data, but if Ederson really is City's best penalty taker then why not use him - it can't really get much worse at this point!"
   ]
  },
  {
   "cell_type": "markdown",
   "metadata": {
    "id": "YzfESdaISX4d"
   },
   "source": [
    "# Why isn't Aleksandar Mitrović taking penalties for Fulham?"
   ]
  },
  {
   "cell_type": "markdown",
   "metadata": {
    "id": "iZPnEpM2ckpF"
   },
   "source": [
    "[Antonin Panenka](https://www.transfermarkt.com/antonin-panenka/elfmetertore/spieler/60800) (83.5% predicted conversion rate) might not have been too pleased with the result of Ademola Lookman's botched attempt against West Ham last weekend. Lookman was heavily criticised, and at the time I was wondering why Aleksandar Mitrović wasn't the one taking the penalty. Now I know why:"
   ]
  },
  {
   "cell_type": "code",
   "execution_count": 23,
   "metadata": {
    "colab": {
     "base_uri": "https://localhost:8080/",
     "height": 410
    },
    "executionInfo": {
     "elapsed": 899,
     "status": "ok",
     "timestamp": 1605404971960,
     "user": {
      "displayName": "Tom Whelan",
      "photoUrl": "https://lh3.googleusercontent.com/a-/AOh14GgnbPvaiz9OgiXkVoVkd2gHC3Jpjk3NZsn-eoSH=s64",
      "userId": "03831464729329717576"
     },
     "user_tz": 0
    },
    "id": "pUhri_y5CLfP",
    "outputId": "7f1e1cdf-b6ed-41dc-ab5e-d75bd860fcb3"
   },
   "outputs": [
    {
     "data": {
      "image/png": "[encoded data removed]",
      "text/plain": [
       "<Figure size 720x432 with 1 Axes>"
      ]
     },
     "metadata": {},
     "output_type": "display_data"
    }
   ],
   "source": [
    "#collapse-hide\n",
    "fulham_career = {'name': ['Aleksandar Mitrović', 'Tom Cairney', 'Ivan Cavaleiro', 'Ademola Lookman\\n(before miss)'],\n",
    "                 'penalties_scored': [15,2,6,0],\n",
    "                 'penalties_taken': [22,3,7,0]}\n",
    "\n",
    "fulham = pd.DataFrame.from_dict(fulham_career)\n",
    "fulham = fulham.assign(predicted_conversion=predicted_conversion(fulham['penalties_scored'], fulham['penalties_taken'])).sort_values(by='predicted_conversion', ascending=False)\n",
    "fulham['penalties_missed'] = fulham['penalties_taken'] - fulham['penalties_scored']\n",
    "\n",
    "dist_df = pd.DataFrame()\n",
    "for index, row in fulham.iterrows():\n",
    "    dist = ss.beta.rvs(alpha0+row['penalties_scored'], beta0+row['penalties_missed'], size=10000)\n",
    "    temp = pd.DataFrame({'predicted_conversion': dist})\n",
    "    temp['name'] = row['name']\n",
    "    dist_df = dist_df.append(temp)\n",
    "\n",
    "fig, ax = plt.subplots(figsize=(10,6))\n",
    "ax.set(title=\"It's not surprising that Aleksandar Mitrović isn't taking penalties for Fulham\")\n",
    "ax.xaxis.set_major_formatter(matplotlib.ticker.PercentFormatter(1))\n",
    "sns.violinplot(data=dist_df, x='predicted_conversion', y='name', palette='light:dimgrey', inner='quart', orient='h', ax=ax)\n",
    "plt.xlabel('Predicted penalty conversion rate')\n",
    "plt.ylabel('')\n",
    "sns.despine(right=True, top=True);\n",
    "\n",
    "# Alternate - faceted kde plot\n",
    "#g = sns.FacetGrid(dist_df, row='name',\n",
    "#                 height=1.7, aspect=4,)\n",
    "#g.map(sns.kdeplot, 'predicted_conversion');"
   ]
  },
  {
   "cell_type": "code",
   "execution_count": 24,
   "metadata": {
    "colab": {
     "base_uri": "https://localhost:8080/"
    },
    "executionInfo": {
     "elapsed": 419,
     "status": "ok",
     "timestamp": 1605404973540,
     "user": {
      "displayName": "Tom Whelan",
      "photoUrl": "https://lh3.googleusercontent.com/a-/AOh14GgnbPvaiz9OgiXkVoVkd2gHC3Jpjk3NZsn-eoSH=s64",
      "userId": "03831464729329717576"
     },
     "user_tz": 0
    },
    "id": "9joO-Jeq2ab-",
    "outputId": "c42db56c-b762-446a-e841-aaa46c709678"
   },
   "outputs": [
    {
     "name": "stdout",
     "output_type": "stream",
     "text": [
      "Aleksandar Mitrović is at the 3.8th percentile of 2204 players in the dataset\n",
      "with a predicted penalty conversion rate of 74.34%!\n"
     ]
    }
   ],
   "source": [
    "#hide_input\n",
    "mitro_pct = percentile(players['predicted_conversion'], fulham.set_index('name').loc['Aleksandar Mitrović', 'predicted_conversion'])\n",
    "mitro_rate = str(round(predicted_conversion(15, 22)*100, 2))+'%!'\n",
    "print('Aleksandar Mitrović is at the '+str(mitro_pct)+'th percentile of %d players in the dataset\\nwith a predicted penalty conversion rate of' % (len(players)), mitro_rate)"
   ]
  },
  {
   "cell_type": "markdown",
   "metadata": {
    "id": "5Pk4srzbNp4i"
   },
   "source": [
    "It's a good job Mitrović isn't first choice! Cavaleiro appears to be the best candidate by our estimate, but maybe Lookman showed something in training that set him apart from the rest - the Fulham coaches will have seen him take a lot more penalties than we have. Going for a 'Panenka' on your first attempt certainly suggests that you at least rate your own ability from the spot pretty highly, although if we use that logic maybe we should be recommending John Stones as City's go-to option...\n",
    "> youtube: https://youtu.be/nz3H72j8qyE"
   ]
  },
  {
   "cell_type": "markdown",
   "metadata": {
    "id": "6euiOv09675E"
   },
   "source": [
    "# Are England destined to lose to Germany in a semi-final shootout?"
   ]
  },
  {
   "cell_type": "markdown",
   "metadata": {
    "id": "v8p7MQc6RrCZ"
   },
   "source": [
    "At this point it seems inevitable to most England fans that every major tournament will end in a penalty shootout loss to Germany in the semis. \n",
    "\n",
    "![](https://i.pinimg.com/originals/3d/c9/c2/3dc9c27a55dccd132c7e545c6da3e473.jpg)\n",
    "\n",
    "Let's have a look at the Euro 96 shootout and see whether that's the case."
   ]
  },
  {
   "cell_type": "code",
   "execution_count": 25,
   "metadata": {
    "colab": {
     "base_uri": "https://localhost:8080/",
     "height": 421
    },
    "executionInfo": {
     "elapsed": 393,
     "status": "ok",
     "timestamp": 1605404975866,
     "user": {
      "displayName": "Tom Whelan",
      "photoUrl": "https://lh3.googleusercontent.com/a-/AOh14GgnbPvaiz9OgiXkVoVkd2gHC3Jpjk3NZsn-eoSH=s64",
      "userId": "03831464729329717576"
     },
     "user_tz": 0
    },
    "id": "q__uXywx4PA4",
    "outputId": "6d11c2bd-e9dc-419d-96e4-1430b60eda5e"
   },
   "outputs": [
    {
     "data": {
      "text/html": [
       "<div>\n",
       "<style scoped>\n",
       "    .dataframe tbody tr th:only-of-type {\n",
       "        vertical-align: middle;\n",
       "    }\n",
       "\n",
       "    .dataframe tbody tr th {\n",
       "        vertical-align: top;\n",
       "    }\n",
       "\n",
       "    .dataframe thead th {\n",
       "        text-align: right;\n",
       "    }\n",
       "</style>\n",
       "<table border=\"1\" class=\"dataframe\">\n",
       "  <thead>\n",
       "    <tr style=\"text-align: right;\">\n",
       "      <th></th>\n",
       "      <th>name</th>\n",
       "      <th>penalties_scored</th>\n",
       "      <th>penalties_taken</th>\n",
       "      <th>notes</th>\n",
       "      <th>predicted_conversion</th>\n",
       "    </tr>\n",
       "  </thead>\n",
       "  <tbody>\n",
       "    <tr>\n",
       "      <th>0</th>\n",
       "      <td>Alan Shearer</td>\n",
       "      <td>65</td>\n",
       "      <td>67</td>\n",
       "      <td>None</td>\n",
       "      <td>89.86%</td>\n",
       "    </tr>\n",
       "    <tr>\n",
       "      <th>11</th>\n",
       "      <td>Robbie Fowler</td>\n",
       "      <td>32</td>\n",
       "      <td>34</td>\n",
       "      <td>bench, not used</td>\n",
       "      <td>85.31%</td>\n",
       "    </tr>\n",
       "    <tr>\n",
       "      <th>1</th>\n",
       "      <td>Teddy Sheringham</td>\n",
       "      <td>30</td>\n",
       "      <td>33</td>\n",
       "      <td>None</td>\n",
       "      <td>83.73%</td>\n",
       "    </tr>\n",
       "    <tr>\n",
       "      <th>9</th>\n",
       "      <td>Stuart Pearce</td>\n",
       "      <td>10</td>\n",
       "      <td>10</td>\n",
       "      <td>None</td>\n",
       "      <td>82.24%</td>\n",
       "    </tr>\n",
       "    <tr>\n",
       "      <th>6</th>\n",
       "      <td>Darren Anderton</td>\n",
       "      <td>6</td>\n",
       "      <td>6</td>\n",
       "      <td>None</td>\n",
       "      <td>80.68%</td>\n",
       "    </tr>\n",
       "    <tr>\n",
       "      <th>4</th>\n",
       "      <td>David Platt</td>\n",
       "      <td>13</td>\n",
       "      <td>15</td>\n",
       "      <td>None</td>\n",
       "      <td>80.20%</td>\n",
       "    </tr>\n",
       "    <tr>\n",
       "      <th>5</th>\n",
       "      <td>Paul Gascoigne</td>\n",
       "      <td>1</td>\n",
       "      <td>1</td>\n",
       "      <td>None</td>\n",
       "      <td>78.31%</td>\n",
       "    </tr>\n",
       "    <tr>\n",
       "      <th>2</th>\n",
       "      <td>Steve McManaman</td>\n",
       "      <td>0</td>\n",
       "      <td>0</td>\n",
       "      <td>None</td>\n",
       "      <td>77.76%</td>\n",
       "    </tr>\n",
       "    <tr>\n",
       "      <th>3</th>\n",
       "      <td>Paul Ince</td>\n",
       "      <td>0</td>\n",
       "      <td>0</td>\n",
       "      <td>None</td>\n",
       "      <td>77.76%</td>\n",
       "    </tr>\n",
       "    <tr>\n",
       "      <th>7</th>\n",
       "      <td>Gareth Southgate</td>\n",
       "      <td>0</td>\n",
       "      <td>0</td>\n",
       "      <td>None</td>\n",
       "      <td>77.76%</td>\n",
       "    </tr>\n",
       "    <tr>\n",
       "      <th>8</th>\n",
       "      <td>Tony Adams</td>\n",
       "      <td>0</td>\n",
       "      <td>0</td>\n",
       "      <td>None</td>\n",
       "      <td>77.76%</td>\n",
       "    </tr>\n",
       "    <tr>\n",
       "      <th>10</th>\n",
       "      <td>David Seaman</td>\n",
       "      <td>0</td>\n",
       "      <td>0</td>\n",
       "      <td>None</td>\n",
       "      <td>77.76%</td>\n",
       "    </tr>\n",
       "  </tbody>\n",
       "</table>\n",
       "</div>"
      ],
      "text/plain": [
       "                name  penalties_scored  penalties_taken            notes  \\\n",
       "0       Alan Shearer                65               67             None   \n",
       "11     Robbie Fowler                32               34  bench, not used   \n",
       "1   Teddy Sheringham                30               33             None   \n",
       "9      Stuart Pearce                10               10             None   \n",
       "6    Darren Anderton                 6                6             None   \n",
       "4        David Platt                13               15             None   \n",
       "5     Paul Gascoigne                 1                1             None   \n",
       "2    Steve McManaman                 0                0             None   \n",
       "3          Paul Ince                 0                0             None   \n",
       "7   Gareth Southgate                 0                0             None   \n",
       "8         Tony Adams                 0                0             None   \n",
       "10      David Seaman                 0                0             None   \n",
       "\n",
       "    predicted_conversion  \n",
       "0                 89.86%  \n",
       "11                85.31%  \n",
       "1                 83.73%  \n",
       "9                 82.24%  \n",
       "6                 80.68%  \n",
       "4                 80.20%  \n",
       "5                 78.31%  \n",
       "2                 77.76%  \n",
       "3                 77.76%  \n",
       "7                 77.76%  \n",
       "8                 77.76%  \n",
       "10                77.76%  "
      ]
     },
     "execution_count": 25,
     "metadata": {},
     "output_type": "execute_result"
    }
   ],
   "source": [
    "#collapse-hide\n",
    "# https://www.transfermarkt.com/spielbericht/index/spielbericht/935928\n",
    "eng_career = {'name': ['Alan Shearer', 'Teddy Sheringham', 'Steve McManaman', 'Paul Ince', 'David Platt',\n",
    "                       'Paul Gascoigne', 'Darren Anderton', 'Gareth Southgate', 'Tony Adams', 'Stuart Pearce',\n",
    "                       'David Seaman', 'Robbie Fowler'],\n",
    "              'penalties_scored': [65,30,0,0,13,\n",
    "                                   1,6,0,0,10,\n",
    "                                   0,32],\n",
    "              'penalties_taken': [67,33,0,0,15,\n",
    "                                  1,6,0,0,10,\n",
    "                                  0,34],\n",
    "              'notes': [None, None, None, None, None,\n",
    "                        None, None, None, None, None,\n",
    "                        None, 'bench, not used']}\n",
    "\n",
    "ger_career = {'name': ['Stefan Kuntz', 'Mehmet Scholl', 'Andreas Möller', 'Christian Ziege', 'Dieter Eilts',\n",
    "                       'Stefan Reuter', 'Matthias Sammer', 'Markus Babbel', 'Andreas Köpke', 'Thomas Strunz',\n",
    "                       'Thomas Häßler', 'Marco Bode', 'Oliver Bierhoff'],\n",
    "              'penalties_scored': [34,14,9,2,8,\n",
    "                                   10,0,0,2,4,\n",
    "                                   26,0,15],\n",
    "              'penalties_taken': [39,17,13,3,8,\n",
    "                                  15,0,0,2,5,\n",
    "                                  28,1,20],\n",
    "              'notes': [None, \"subbed off 77'\", None, None, None,\n",
    "                        None, None, None, None, \"subbed on 118'\",\n",
    "                        \"subbed on 77'\", \"subbed on 110'\", \"bench, not used\"]}\n",
    "\n",
    "england = pd.DataFrame.from_dict(eng_career)\n",
    "england = england.assign(predicted_conversion=predicted_conversion(england['penalties_scored'], england['penalties_taken'])).sort_values(by='predicted_conversion', ascending=False)\n",
    "\n",
    "germany = pd.DataFrame.from_dict(ger_career)\n",
    "germany = germany.assign(predicted_conversion=predicted_conversion(germany['penalties_scored'], germany['penalties_taken'])).sort_values(by='predicted_conversion', ascending=False)\n",
    "\n",
    "england"
   ]
  },
  {
   "cell_type": "markdown",
   "metadata": {
    "id": "uX-16GvEmZU_"
   },
   "source": [
    "It looks like England actually had some good penalty takers available, particularly Shearer who has one of the highest predicted conversion rates we have found so far. Robbie Fowler was still young at the time but it's notable that England didn't choose to bring him on just before the shootout despite having three substitutions remaining, since he was prolific from the spot later in his career."
   ]
  },
  {
   "cell_type": "code",
   "execution_count": 26,
   "metadata": {
    "colab": {
     "base_uri": "https://localhost:8080/",
     "height": 452
    },
    "executionInfo": {
     "elapsed": 379,
     "status": "ok",
     "timestamp": 1605404977558,
     "user": {
      "displayName": "Tom Whelan",
      "photoUrl": "https://lh3.googleusercontent.com/a-/AOh14GgnbPvaiz9OgiXkVoVkd2gHC3Jpjk3NZsn-eoSH=s64",
      "userId": "03831464729329717576"
     },
     "user_tz": 0
    },
    "id": "uFMxMjj4izFF",
    "outputId": "11ada446-281b-45c7-8394-dd3e71025549"
   },
   "outputs": [
    {
     "data": {
      "text/html": [
       "<div>\n",
       "<style scoped>\n",
       "    .dataframe tbody tr th:only-of-type {\n",
       "        vertical-align: middle;\n",
       "    }\n",
       "\n",
       "    .dataframe tbody tr th {\n",
       "        vertical-align: top;\n",
       "    }\n",
       "\n",
       "    .dataframe thead th {\n",
       "        text-align: right;\n",
       "    }\n",
       "</style>\n",
       "<table border=\"1\" class=\"dataframe\">\n",
       "  <thead>\n",
       "    <tr style=\"text-align: right;\">\n",
       "      <th></th>\n",
       "      <th>name</th>\n",
       "      <th>penalties_scored</th>\n",
       "      <th>penalties_taken</th>\n",
       "      <th>notes</th>\n",
       "      <th>predicted_conversion</th>\n",
       "    </tr>\n",
       "  </thead>\n",
       "  <tbody>\n",
       "    <tr>\n",
       "      <th>10</th>\n",
       "      <td>Thomas Häßler</td>\n",
       "      <td>26</td>\n",
       "      <td>28</td>\n",
       "      <td>subbed on 77'</td>\n",
       "      <td>84.01%</td>\n",
       "    </tr>\n",
       "    <tr>\n",
       "      <th>0</th>\n",
       "      <td>Stefan Kuntz</td>\n",
       "      <td>34</td>\n",
       "      <td>39</td>\n",
       "      <td>None</td>\n",
       "      <td>82.43%</td>\n",
       "    </tr>\n",
       "    <tr>\n",
       "      <th>4</th>\n",
       "      <td>Dieter Eilts</td>\n",
       "      <td>8</td>\n",
       "      <td>8</td>\n",
       "      <td>None</td>\n",
       "      <td>81.49%</td>\n",
       "    </tr>\n",
       "    <tr>\n",
       "      <th>1</th>\n",
       "      <td>Mehmet Scholl</td>\n",
       "      <td>14</td>\n",
       "      <td>17</td>\n",
       "      <td>subbed off 77'</td>\n",
       "      <td>79.14%</td>\n",
       "    </tr>\n",
       "    <tr>\n",
       "      <th>8</th>\n",
       "      <td>Andreas Köpke</td>\n",
       "      <td>2</td>\n",
       "      <td>2</td>\n",
       "      <td>None</td>\n",
       "      <td>78.83%</td>\n",
       "    </tr>\n",
       "    <tr>\n",
       "      <th>9</th>\n",
       "      <td>Thomas Strunz</td>\n",
       "      <td>4</td>\n",
       "      <td>5</td>\n",
       "      <td>subbed on 118'</td>\n",
       "      <td>78.01%</td>\n",
       "    </tr>\n",
       "    <tr>\n",
       "      <th>6</th>\n",
       "      <td>Matthias Sammer</td>\n",
       "      <td>0</td>\n",
       "      <td>0</td>\n",
       "      <td>None</td>\n",
       "      <td>77.76%</td>\n",
       "    </tr>\n",
       "    <tr>\n",
       "      <th>7</th>\n",
       "      <td>Markus Babbel</td>\n",
       "      <td>0</td>\n",
       "      <td>0</td>\n",
       "      <td>None</td>\n",
       "      <td>77.76%</td>\n",
       "    </tr>\n",
       "    <tr>\n",
       "      <th>3</th>\n",
       "      <td>Christian Ziege</td>\n",
       "      <td>2</td>\n",
       "      <td>3</td>\n",
       "      <td>None</td>\n",
       "      <td>76.98%</td>\n",
       "    </tr>\n",
       "    <tr>\n",
       "      <th>12</th>\n",
       "      <td>Oliver Bierhoff</td>\n",
       "      <td>15</td>\n",
       "      <td>20</td>\n",
       "      <td>bench, not used</td>\n",
       "      <td>76.83%</td>\n",
       "    </tr>\n",
       "    <tr>\n",
       "      <th>11</th>\n",
       "      <td>Marco Bode</td>\n",
       "      <td>0</td>\n",
       "      <td>1</td>\n",
       "      <td>subbed on 110'</td>\n",
       "      <td>75.85%</td>\n",
       "    </tr>\n",
       "    <tr>\n",
       "      <th>2</th>\n",
       "      <td>Andreas Möller</td>\n",
       "      <td>9</td>\n",
       "      <td>13</td>\n",
       "      <td>None</td>\n",
       "      <td>75.65%</td>\n",
       "    </tr>\n",
       "    <tr>\n",
       "      <th>5</th>\n",
       "      <td>Stefan Reuter</td>\n",
       "      <td>10</td>\n",
       "      <td>15</td>\n",
       "      <td>None</td>\n",
       "      <td>74.71%</td>\n",
       "    </tr>\n",
       "  </tbody>\n",
       "</table>\n",
       "</div>"
      ],
      "text/plain": [
       "               name  penalties_scored  penalties_taken            notes  \\\n",
       "10    Thomas Häßler                26               28    subbed on 77'   \n",
       "0      Stefan Kuntz                34               39             None   \n",
       "4      Dieter Eilts                 8                8             None   \n",
       "1     Mehmet Scholl                14               17   subbed off 77'   \n",
       "8     Andreas Köpke                 2                2             None   \n",
       "9     Thomas Strunz                 4                5   subbed on 118'   \n",
       "6   Matthias Sammer                 0                0             None   \n",
       "7     Markus Babbel                 0                0             None   \n",
       "3   Christian Ziege                 2                3             None   \n",
       "12  Oliver Bierhoff                15               20  bench, not used   \n",
       "11       Marco Bode                 0                1   subbed on 110'   \n",
       "2    Andreas Möller                 9               13             None   \n",
       "5     Stefan Reuter                10               15             None   \n",
       "\n",
       "    predicted_conversion  \n",
       "10                84.01%  \n",
       "0                 82.43%  \n",
       "4                 81.49%  \n",
       "1                 79.14%  \n",
       "8                 78.83%  \n",
       "9                 78.01%  \n",
       "6                 77.76%  \n",
       "7                 77.76%  \n",
       "3                 76.98%  \n",
       "12                76.83%  \n",
       "11                75.85%  \n",
       "2                 75.65%  \n",
       "5                 74.71%  "
      ]
     },
     "execution_count": 26,
     "metadata": {},
     "output_type": "execute_result"
    }
   ],
   "source": [
    "#hide_input\n",
    "germany"
   ]
  },
  {
   "cell_type": "markdown",
   "metadata": {
    "id": "znd4zFjWmtvR"
   },
   "source": [
    "Germany did make some substitutions however, bringing their best penalty taker Thomas Häßler on in normal time in addition to Marco Bode and Thomas Strunz in extra time. Whilst Bode (a winger) looks worse than average at penalties he was subbed on for a centre-back in an attempt to win the game in extra-time, and he wasn't chosen as one of the top six options in the shootout. It's interesting that Thomas Strunz was brought on to take the second penalty in favour of Oliver Bierhoff (who scored twice in the final), since our estimate is that Bierhoff is below average from the spot. Maybe the coaches were onto something... Captain Andreas Möller scored the winning penalty in sudden-death, but it looks like he was probably a below average penalty taker also.\n",
    "\n",
    "> Note: Just a reminder that I'm still ignoring goalkeeper skill, but [Andreas Köpke saved 22/84 penalties in his career](https://www.transfermarkt.com/andreas-kopke/elfmeterstatistik/spieler/1445), so maybe it's harder to score against him than a typical goalie!"
   ]
  },
  {
   "cell_type": "code",
   "execution_count": 27,
   "metadata": {
    "executionInfo": {
     "elapsed": 369,
     "status": "ok",
     "timestamp": 1605404979150,
     "user": {
      "displayName": "Tom Whelan",
      "photoUrl": "https://lh3.googleusercontent.com/a-/AOh14GgnbPvaiz9OgiXkVoVkd2gHC3Jpjk3NZsn-eoSH=s64",
      "userId": "03831464729329717576"
     },
     "user_tz": 0
    },
    "id": "1RW31sxXYqAb"
   },
   "outputs": [],
   "source": [
    "#collapse-hide\n",
    "# Remove unwanted players\n",
    "fowler = england.copy()[england['name']=='Robbie Fowler']\n",
    "england = england.copy()[england['name']!='Robbie Fowler']\n",
    "germany = germany.copy()[~germany['name'].isin(['Mehmet Scholl', 'Oliver Bierhoff'])]\n",
    "\n",
    "# Order the players to get Platt taking the second penalty etc\n",
    "# We only know the first six players for each team, so assume the order for the rest\n",
    "england['order'] = [1,5,3,7,2,4,8,9,6,10,11]\n",
    "england = england.copy().sort_values('order')\n",
    "germany['order'] = [1,5,7,8,2,9,10,4,11,6,3]\n",
    "germany = germany.copy().sort_values('order')"
   ]
  },
  {
   "cell_type": "markdown",
   "metadata": {
    "id": "0wRGsRV4wqeP"
   },
   "source": [
    "We can see which team is expected to win the shootout by simulating it using the predicted conversion rates for each player to determine whether they scored or missed their penalty. Here is one simulation:"
   ]
  },
  {
   "cell_type": "code",
   "execution_count": 28,
   "metadata": {
    "colab": {
     "base_uri": "https://localhost:8080/"
    },
    "executionInfo": {
     "elapsed": 394,
     "status": "ok",
     "timestamp": 1605404983743,
     "user": {
      "displayName": "Tom Whelan",
      "photoUrl": "https://lh3.googleusercontent.com/a-/AOh14GgnbPvaiz9OgiXkVoVkd2gHC3Jpjk3NZsn-eoSH=s64",
      "userId": "03831464729329717576"
     },
     "user_tz": 0
    },
    "id": "J3UHzEMGkpx7",
    "outputId": "6d610d13-fb96-4603-dfb9-bd2a2be54fcb"
   },
   "outputs": [
    {
     "name": "stdout",
     "output_type": "stream",
     "text": [
      "Alan Shearer...scores! (1-0)\n",
      "Thomas Häßler...scores! (1-1)\n",
      "David Platt...scores! (2-1)\n",
      "Thomas Strunz...scores! (2-2)\n",
      "Stuart Pearce...scores! (3-2)\n",
      "Stefan Reuter...scores! (3-3)\n",
      "Paul Gascoigne...misses! (3-3)\n",
      "Christian Ziege...scores! (3-4)\n",
      "Teddy Sheringham...scores! (4-4)\n",
      "Stefan Kuntz...scores! (4-5)\n",
      "\n",
      "Team B wins! (5-4)\n"
     ]
    }
   ],
   "source": [
    "#collapse-hide\n",
    "def shootout(team_a, team_b, printer=False):\n",
    "    \"\"\"Function to simulate a penalty shootout. Takes two dataframes as input, one for each team.\n",
    "    The dataframe should be sorted in the order used for the shootout, i.e. the\n",
    "    first player to take a penalty should be at row 1, the second at row 2 etc.\n",
    "    \"\"\" \n",
    "    a_score = 0\n",
    "    b_score = 0\n",
    "    a_wins = 0\n",
    "    b_wins = 0\n",
    "    a_index = 0\n",
    "    b_index = 0\n",
    "\n",
    "    # df index should be from 0 to len(df)\n",
    "    team_a = team_a.reset_index().drop('index', axis=1)\n",
    "    team_b = team_b.reset_index().drop('index', axis=1)\n",
    "\n",
    "    while a_wins == b_wins:\n",
    "        # Reset index to 0 if every player has taken a penalty in this round\n",
    "        if a_index > len(team_a)-1:\n",
    "            a_index = 0\n",
    "        if b_index > len(team_b)-1:\n",
    "            b_index = 0\n",
    "\n",
    "        # Get Team A result\n",
    "        a_player = team_a.iloc[a_index, 0]\n",
    "        a_prob = team_a.iloc[a_index, 4]\n",
    "        a_result = np.random.choice([0,1], 1, p=[1-a_prob, a_prob])\n",
    "        a_score += a_result\n",
    "        if printer != False:\n",
    "            print(a_player+'...scores! (%d-%d)' % (a_score, b_score) if a_result ==1 else a_player+'...misses! (%d-%d)' % (a_score, b_score))\n",
    "\n",
    "        # Get Team B result\n",
    "        b_player = team_b.iloc[a_index, 0]\n",
    "        b_prob = team_b.iloc[a_index, 4]\n",
    "        b_result = np.random.choice([0,1], 1, p=[1-a_prob, a_prob])\n",
    "        b_score += b_result\n",
    "        if printer != False:\n",
    "            print(b_player+'...scores! (%d-%d)' % (a_score, b_score) if b_result ==1 else b_player+'...misses! (%d-%d)' % (a_score, b_score))\n",
    "        a_index += 1\n",
    "        b_index += 1\n",
    "\n",
    "        # Stop the shootout when scores are no longer equal and at least five penalties each have been taken\n",
    "        if (a_index >= 5):\n",
    "            if (a_score > b_score):\n",
    "                a_wins += 1\n",
    "                if printer != False:\n",
    "                    print('\\nTeam A wins! (%d-%d)' % (a_score, b_score))\n",
    "            elif (a_score < b_score):\n",
    "                b_wins += 1\n",
    "                if printer != False:\n",
    "                    print('\\nTeam B wins! (%d-%d)' % (b_score, a_score))\n",
    "\n",
    "    return a_wins, b_wins\n",
    "\n",
    "# Run one penalty shootout\n",
    "_, _ = shootout(england, germany, printer=True)"
   ]
  },
  {
   "cell_type": "markdown",
   "metadata": {
    "id": "s0l-fTtEXFz9"
   },
   "source": [
    "Let's run this thousands of times and calculate how often England would be expected to advance to the final:"
   ]
  },
  {
   "cell_type": "code",
   "execution_count": 29,
   "metadata": {
    "colab": {
     "base_uri": "https://localhost:8080/"
    },
    "executionInfo": {
     "elapsed": 21367,
     "status": "ok",
     "timestamp": 1605405054686,
     "user": {
      "displayName": "Tom Whelan",
      "photoUrl": "https://lh3.googleusercontent.com/a-/AOh14GgnbPvaiz9OgiXkVoVkd2gHC3Jpjk3NZsn-eoSH=s64",
      "userId": "03831464729329717576"
     },
     "user_tz": 0
    },
    "id": "g-tK9b-MFORE",
    "outputId": "d9f5ead0-76da-422f-ca69-da02641bc6d1"
   },
   "outputs": [
    {
     "name": "stdout",
     "output_type": "stream",
     "text": [
      "England win probability = 50.0%\n"
     ]
    }
   ],
   "source": [
    "#collapse-hide\n",
    "num_sims = 5000\n",
    "\n",
    "def simulate_shootouts(team_a, team_b, num_sims):\n",
    "    a_wins = 0\n",
    "    b_wins = 0\n",
    "    for i in range(num_sims):\n",
    "        a, b = shootout(team_a, team_b)\n",
    "        a_wins += a\n",
    "        b_wins += b\n",
    "    return a_wins, b_wins\n",
    "\n",
    "eng_wins, ger_wins = simulate_shootouts(england, germany, num_sims)\n",
    "eng_win_pct = str(round((eng_wins/num_sims)*100, 1))\n",
    "print('England win probability = %s' % (eng_win_pct+'%'))"
   ]
  },
  {
   "cell_type": "markdown",
   "metadata": {
    "id": "4hkzgTDWWZ6s"
   },
   "source": [
    "Pretty close, but a loss wasn't inevitable at least! Unless you believe in curses, that is..."
   ]
  },
  {
   "cell_type": "markdown",
   "metadata": {
    "id": "lK8HGg0fUUOy"
   },
   "source": [
    "# Conclusion\n",
    "Thanks for reading! I hope you enjoyed this and learned something useful. We could have made a much more complicated model of penalty taking skill, but as discussed earlier extra complexity wouldn't necessarily be better here. By using empirical Bayes estimation we were able to get some interesting insights out of a limited dataset in just a few steps. If you want to explore this topic further you could use the same process to estimate penalty save percentage, or you could try to improve on this model. A couple of ways to do that would be to [use more data](https://fbref.com/en/about/coverage) or estimate different priors for different groups of players, e.g. should the prior distribution for a team's main penalty taker be the same as the prior for someone who was only trusted to take a handful of penalties in their career?\n",
    "\n",
    "Thanks again to David Robinson, whose work make this possible, and to FBRef and Transfermarkt for the data."
   ]
  }
 ],
 "metadata": {
  "colab": {
   "authorship_tag": "ABX9TyP9Wyq6huHN+s9jOPCKsZGi",
   "collapsed_sections": [],
   "name": "2020-11-14-evaluating-penalty-takers-using-empirical-bayes.ipynb",
   "provenance": [],
   "toc_visible": true
  },
  "kernelspec": {
   "display_name": "Python 3",
   "name": "python3"
  },
  "language_info": {
   "codemirror_mode": {
    "name": "ipython",
    "version": 3
   },
   "file_extension": ".py",
   "mimetype": "text/x-python",
   "name": "python",
   "nbconvert_exporter": "python",
   "pygments_lexer": "ipython3",
   "version": "3.6.8"
  },
  "widgets": {
   "application/vnd.jupyter.widget-state+json": {
    "state": {
     "0b93264e7f2a4c4a95655ffde2378709": {
      "model_module": "@jupyter-widgets/base",
      "model_module_version": "1.1.0",
      "model_name": "LayoutModel",
      "state": {
       "_model_module": "@jupyter-widgets/base",
       "_model_module_version": "1.1.0",
       "_model_name": "LayoutModel",
       "_view_count": null,
       "_view_module": "@jupyter-widgets/base",
       "_view_module_version": "1.1.0",
       "_view_name": "LayoutView",
       "align_content": null,
       "align_items": null,
       "align_self": null,
       "border": null,
       "bottom": null,
       "display": null,
       "flex": null,
       "flex_flow": null,
       "grid_area": null,
       "grid_auto_columns": null,
       "grid_auto_flow": null,
       "grid_auto_rows": null,
       "grid_column": null,
       "grid_gap": null,
       "grid_row": null,
       "grid_template_areas": null,
       "grid_template_columns": null,
       "grid_template_rows": null,
       "height": null,
       "justify_content": null,
       "left": null,
       "margin": null,
       "max_height": null,
       "max_width": null,
       "min_height": null,
       "min_width": null,
       "order": null,
       "overflow": null,
       "overflow_x": null,
       "overflow_y": null,
       "padding": null,
       "right": null,
       "top": null,
       "visibility": null,
       "width": null
      }
     },
     "12a8036bd8514be69ade8bb5a3cfdcc0": {
      "model_module": "@jupyter-widgets/controls",
      "model_module_version": "1.4.0",
      "model_name": "DescriptionStyleModel",
      "state": {
       "_model_module": "@jupyter-widgets/controls",
       "_model_module_version": "1.4.0",
       "_model_name": "DescriptionStyleModel",
       "_view_count": null,
       "_view_module": "@jupyter-widgets/base",
       "_view_module_version": "1.1.0",
       "_view_name": "StyleView",
       "description_width": ""
      }
     },
     "133a84a3eaac4da0ad1924165ab65708": {
      "model_module": "@jupyter-widgets/base",
      "model_module_version": "1.1.0",
      "model_name": "LayoutModel",
      "state": {
       "_model_module": "@jupyter-widgets/base",
       "_model_module_version": "1.1.0",
       "_model_name": "LayoutModel",
       "_view_count": null,
       "_view_module": "@jupyter-widgets/base",
       "_view_module_version": "1.1.0",
       "_view_name": "LayoutView",
       "align_content": null,
       "align_items": null,
       "align_self": null,
       "border": null,
       "bottom": null,
       "display": null,
       "flex": null,
       "flex_flow": null,
       "grid_area": null,
       "grid_auto_columns": null,
       "grid_auto_flow": null,
       "grid_auto_rows": null,
       "grid_column": null,
       "grid_gap": null,
       "grid_row": null,
       "grid_template_areas": null,
       "grid_template_columns": null,
       "grid_template_rows": null,
       "height": null,
       "justify_content": null,
       "left": null,
       "margin": null,
       "max_height": null,
       "max_width": null,
       "min_height": null,
       "min_width": null,
       "order": null,
       "overflow": null,
       "overflow_x": null,
       "overflow_y": null,
       "padding": null,
       "right": null,
       "top": null,
       "visibility": null,
       "width": null
      }
     },
     "2da754efa7694b6ca13aa1dfeda216ae": {
      "model_module": "@jupyter-widgets/controls",
      "model_module_version": "1.4.0",
      "model_name": "SliderStyleModel",
      "state": {
       "_model_module": "@jupyter-widgets/controls",
       "_model_module_version": "1.4.0",
       "_model_name": "SliderStyleModel",
       "_view_count": null,
       "_view_module": "@jupyter-widgets/base",
       "_view_module_version": "1.1.0",
       "_view_name": "StyleView",
       "description_width": "",
       "handle_color": null
      }
     },
     "43d0cb6e4db44b2dba92afa40de7b8cf": {
      "model_module": "@jupyter-widgets/base",
      "model_module_version": "1.1.0",
      "model_name": "LayoutModel",
      "state": {
       "_model_module": "@jupyter-widgets/base",
       "_model_module_version": "1.1.0",
       "_model_name": "LayoutModel",
       "_view_count": null,
       "_view_module": "@jupyter-widgets/base",
       "_view_module_version": "1.1.0",
       "_view_name": "LayoutView",
       "align_content": null,
       "align_items": null,
       "align_self": null,
       "border": null,
       "bottom": null,
       "display": null,
       "flex": null,
       "flex_flow": null,
       "grid_area": null,
       "grid_auto_columns": null,
       "grid_auto_flow": null,
       "grid_auto_rows": null,
       "grid_column": null,
       "grid_gap": null,
       "grid_row": null,
       "grid_template_areas": null,
       "grid_template_columns": null,
       "grid_template_rows": null,
       "height": null,
       "justify_content": null,
       "left": null,
       "margin": null,
       "max_height": null,
       "max_width": null,
       "min_height": null,
       "min_width": null,
       "order": null,
       "overflow": null,
       "overflow_x": null,
       "overflow_y": null,
       "padding": null,
       "right": null,
       "top": null,
       "visibility": null,
       "width": null
      }
     },
     "9717f632c29b4cce94bce93c05a0e83f": {
      "model_module": "@jupyter-widgets/controls",
      "model_module_version": "1.4.0",
      "model_name": "SliderStyleModel",
      "state": {
       "_model_module": "@jupyter-widgets/controls",
       "_model_module_version": "1.4.0",
       "_model_name": "SliderStyleModel",
       "_view_count": null,
       "_view_module": "@jupyter-widgets/base",
       "_view_module_version": "1.1.0",
       "_view_name": "StyleView",
       "description_width": "",
       "handle_color": null
      }
     },
     "a77e0e3d3b9f438a8cb807a8e82666a3": {
      "model_module": "@jupyter-widgets/output",
      "model_module_version": "1.0.0",
      "model_name": "OutputModel",
      "state": {
       "_dom_classes": [],
       "_model_module": "@jupyter-widgets/output",
       "_model_module_version": "1.0.0",
       "_model_name": "OutputModel",
       "_view_count": null,
       "_view_module": "@jupyter-widgets/output",
       "_view_module_version": "1.0.0",
       "_view_name": "OutputView",
       "layout": "IPY_MODEL_c89d5e3022504c22b01e77a9f5befae6",
       "msg_id": "",
       "outputs": []
      }
     },
     "a9921a884dfd422bb5da13ebc79a3081": {
      "model_module": "@jupyter-widgets/base",
      "model_module_version": "1.1.0",
      "model_name": "LayoutModel",
      "state": {
       "_model_module": "@jupyter-widgets/base",
       "_model_module_version": "1.1.0",
       "_model_name": "LayoutModel",
       "_view_count": null,
       "_view_module": "@jupyter-widgets/base",
       "_view_module_version": "1.1.0",
       "_view_name": "LayoutView",
       "align_content": null,
       "align_items": null,
       "align_self": null,
       "border": null,
       "bottom": null,
       "display": null,
       "flex": null,
       "flex_flow": null,
       "grid_area": null,
       "grid_auto_columns": null,
       "grid_auto_flow": null,
       "grid_auto_rows": null,
       "grid_column": null,
       "grid_gap": null,
       "grid_row": null,
       "grid_template_areas": null,
       "grid_template_columns": null,
       "grid_template_rows": null,
       "height": null,
       "justify_content": null,
       "left": null,
       "margin": null,
       "max_height": null,
       "max_width": null,
       "min_height": null,
       "min_width": null,
       "order": null,
       "overflow": null,
       "overflow_x": null,
       "overflow_y": null,
       "padding": null,
       "right": null,
       "top": null,
       "visibility": null,
       "width": null
      }
     },
     "aa6477898e0548418bc39ec1932e45ae": {
      "model_module": "@jupyter-widgets/controls",
      "model_module_version": "1.4.0",
      "model_name": "TextModel",
      "state": {
       "_dom_classes": [],
       "_model_module": "@jupyter-widgets/controls",
       "_model_module_version": "1.4.0",
       "_model_name": "TextModel",
       "_view_count": null,
       "_view_module": "@jupyter-widgets/controls",
       "_view_module_version": "1.4.0",
       "_view_name": "TextView",
       "continuous_update": true,
       "description": "",
       "description_tooltip": null,
       "disabled": false,
       "layout": "IPY_MODEL_d6ad22b3bec446ddafad95025f37a712",
       "placeholder": "​",
       "style": "IPY_MODEL_12a8036bd8514be69ade8bb5a3cfdcc0",
       "value": ""
      }
     },
     "c46c1d29a8eb4a7b9f6b3ed42f0b9254": {
      "model_module": "@jupyter-widgets/controls",
      "model_module_version": "1.4.0",
      "model_name": "IntSliderModel",
      "state": {
       "_dom_classes": [],
       "_model_module": "@jupyter-widgets/controls",
       "_model_module_version": "1.4.0",
       "_model_name": "IntSliderModel",
       "_view_count": null,
       "_view_module": "@jupyter-widgets/controls",
       "_view_module_version": "1.4.0",
       "_view_name": "IntSliderView",
       "continuous_update": true,
       "description": "scored",
       "description_tooltip": null,
       "disabled": false,
       "layout": "IPY_MODEL_a9921a884dfd422bb5da13ebc79a3081",
       "max": 150,
       "min": 0,
       "orientation": "horizontal",
       "readout": true,
       "readout_format": "d",
       "step": 1,
       "style": "IPY_MODEL_9717f632c29b4cce94bce93c05a0e83f",
       "value": 65
      }
     },
     "c89d5e3022504c22b01e77a9f5befae6": {
      "model_module": "@jupyter-widgets/base",
      "model_module_version": "1.1.0",
      "model_name": "LayoutModel",
      "state": {
       "_model_module": "@jupyter-widgets/base",
       "_model_module_version": "1.1.0",
       "_model_name": "LayoutModel",
       "_view_count": null,
       "_view_module": "@jupyter-widgets/base",
       "_view_module_version": "1.1.0",
       "_view_name": "LayoutView",
       "align_content": null,
       "align_items": null,
       "align_self": null,
       "border": null,
       "bottom": null,
       "display": null,
       "flex": null,
       "flex_flow": null,
       "grid_area": null,
       "grid_auto_columns": null,
       "grid_auto_flow": null,
       "grid_auto_rows": null,
       "grid_column": null,
       "grid_gap": null,
       "grid_row": null,
       "grid_template_areas": null,
       "grid_template_columns": null,
       "grid_template_rows": null,
       "height": null,
       "justify_content": null,
       "left": null,
       "margin": null,
       "max_height": null,
       "max_width": null,
       "min_height": null,
       "min_width": null,
       "order": null,
       "overflow": null,
       "overflow_x": null,
       "overflow_y": null,
       "padding": null,
       "right": null,
       "top": null,
       "visibility": null,
       "width": null
      }
     },
     "cb46f30c9b864e75a7754c7b148ba94a": {
      "model_module": "@jupyter-widgets/controls",
      "model_module_version": "1.4.0",
      "model_name": "IntSliderModel",
      "state": {
       "_dom_classes": [],
       "_model_module": "@jupyter-widgets/controls",
       "_model_module_version": "1.4.0",
       "_model_name": "IntSliderModel",
       "_view_count": null,
       "_view_module": "@jupyter-widgets/controls",
       "_view_module_version": "1.4.0",
       "_view_name": "IntSliderView",
       "continuous_update": true,
       "description": "missed",
       "description_tooltip": null,
       "disabled": false,
       "layout": "IPY_MODEL_0b93264e7f2a4c4a95655ffde2378709",
       "max": 150,
       "min": 0,
       "orientation": "horizontal",
       "readout": true,
       "readout_format": "d",
       "step": 1,
       "style": "IPY_MODEL_2da754efa7694b6ca13aa1dfeda216ae",
       "value": 0
      }
     },
     "d6ad22b3bec446ddafad95025f37a712": {
      "model_module": "@jupyter-widgets/base",
      "model_module_version": "1.1.0",
      "model_name": "LayoutModel",
      "state": {
       "_model_module": "@jupyter-widgets/base",
       "_model_module_version": "1.1.0",
       "_model_name": "LayoutModel",
       "_view_count": null,
       "_view_module": "@jupyter-widgets/base",
       "_view_module_version": "1.1.0",
       "_view_name": "LayoutView",
       "align_content": null,
       "align_items": null,
       "align_self": null,
       "border": null,
       "bottom": null,
       "display": null,
       "flex": null,
       "flex_flow": null,
       "grid_area": null,
       "grid_auto_columns": null,
       "grid_auto_flow": null,
       "grid_auto_rows": null,
       "grid_column": null,
       "grid_gap": null,
       "grid_row": null,
       "grid_template_areas": null,
       "grid_template_columns": null,
       "grid_template_rows": null,
       "height": null,
       "justify_content": null,
       "left": null,
       "margin": null,
       "max_height": null,
       "max_width": null,
       "min_height": null,
       "min_width": null,
       "order": null,
       "overflow": null,
       "overflow_x": null,
       "overflow_y": null,
       "padding": null,
       "right": null,
       "top": null,
       "visibility": null,
       "width": null
      }
     },
     "d9182f54df2e45eaa6733f79ca1f6582": {
      "model_module": "@jupyter-widgets/controls",
      "model_module_version": "1.4.0",
      "model_name": "ButtonModel",
      "state": {
       "_dom_classes": [],
       "_model_module": "@jupyter-widgets/controls",
       "_model_module_version": "1.4.0",
       "_model_name": "ButtonModel",
       "_view_count": null,
       "_view_module": "@jupyter-widgets/controls",
       "_view_module_version": "1.4.0",
       "_view_name": "ButtonView",
       "button_style": "",
       "description": "Search",
       "disabled": false,
       "icon": "",
       "layout": "IPY_MODEL_43d0cb6e4db44b2dba92afa40de7b8cf",
       "style": "IPY_MODEL_fd4c177a38134f5ebb18b9a9fa7df35f",
       "tooltip": ""
      }
     },
     "e68c986a67734c1dba7879ae93c18c8e": {
      "model_module": "@jupyter-widgets/controls",
      "model_module_version": "1.4.0",
      "model_name": "VBoxModel",
      "state": {
       "_dom_classes": [
        "widget-interact"
       ],
       "_model_module": "@jupyter-widgets/controls",
       "_model_module_version": "1.4.0",
       "_model_name": "VBoxModel",
       "_view_count": null,
       "_view_module": "@jupyter-widgets/controls",
       "_view_module_version": "1.4.0",
       "_view_name": "VBoxView",
       "box_style": "",
       "children": [
        "IPY_MODEL_c46c1d29a8eb4a7b9f6b3ed42f0b9254",
        "IPY_MODEL_cb46f30c9b864e75a7754c7b148ba94a",
        "IPY_MODEL_a77e0e3d3b9f438a8cb807a8e82666a3"
       ],
       "layout": "IPY_MODEL_133a84a3eaac4da0ad1924165ab65708"
      }
     },
     "fd4c177a38134f5ebb18b9a9fa7df35f": {
      "model_module": "@jupyter-widgets/controls",
      "model_module_version": "1.4.0",
      "model_name": "ButtonStyleModel",
      "state": {
       "_model_module": "@jupyter-widgets/controls",
       "_model_module_version": "1.4.0",
       "_model_name": "ButtonStyleModel",
       "_view_count": null,
       "_view_module": "@jupyter-widgets/base",
       "_view_module_version": "1.1.0",
       "_view_name": "StyleView",
       "button_color": null,
       "font_weight": ""
      }
     }
    },
    "version_major": 2,
    "version_minor": 0
   }
  }
 },
 "nbformat": 4,
 "nbformat_minor": 0
}
