{
  "nbformat": 4,
  "nbformat_minor": 0,
  "metadata": {
    "kernelspec": {
      "display_name": "Python 3",
      "language": "python",
      "name": "python3"
    },
    "language_info": {
      "codemirror_mode": {
        "name": "ipython",
        "version": 3
      },
      "file_extension": ".py",
      "mimetype": "text/x-python",
      "name": "python",
      "nbconvert_exporter": "python",
      "pygments_lexer": "ipython3",
      "version": "3.7.9"
    },
    "papermill": {
      "default_parameters": {},
      "duration": 1046.164914,
      "end_time": "2021-03-16T20:58:18.937939",
      "environment_variables": {},
      "exception": null,
      "input_path": "__notebook__.ipynb",
      "output_path": "__notebook__.ipynb",
      "parameters": {},
      "start_time": "2021-03-16T20:40:52.773025",
      "version": "2.2.2"
    },
    "colab": {
      "name": "2020-03-17-covid-19-vaccine-tweet-sentiment-analysis-with-fastai-part-1.ipynb",
      "provenance": [],
      "collapsed_sections": [],
      "toc_visible": true
    },
    "accelerator": "GPU"
  },
  "cells": [
    {
      "cell_type": "markdown",
      "metadata": {
        "papermill": {
          "duration": 0.052586,
          "end_time": "2021-03-16T20:40:58.610992",
          "exception": false,
          "start_time": "2021-03-16T20:40:58.558406",
          "status": "completed"
        },
        "tags": [],
        "id": "hSVzKzbjO4U_"
      },
      "source": [
        "# \"COVID-19 Vaccine Tweet Sentiment Analysis with fastai - Part 1\"\n",
        "> \"This is part one of a two part NLP series where we will carry out sentiment analysis on COVID-19 vaccine tweets. In this part we will follow the ULMFiT approach with fastai to create a twitter language model, then use this to fine-tune a tweet sentiment classification model.\"\n",
        "\n",
        "- toc: true\n",
        "- branch: master\n",
        "- badges: true\n",
        "- comments: true\n",
        "- author: Tom Whelan\n",
        "- categories: [fastai, NLP, sentiment analysis, PyTorch]\n",
        "- image: images/twitter-sentiment-analysis.jpg"
      ]
    },
    {
      "cell_type": "markdown",
      "metadata": {
        "id": "gtxEzOQzQhaR"
      },
      "source": [
        "# Introduction\r\n",
        "In this post we will create a model to perform sentiment analysis on tweets about COVID-19 vaccines using the [`fastai`](https://docs.fast.ai/) library. I will provide a brief overview of the process here, but a much more in-depth explanation of NLP with [`fastai`](https://docs.fast.ai/) can be found in [lesson 8](https://course.fast.ai/videos/?lesson=8) of the [`fastai`](https://docs.fast.ai/) course. For convenience clicking on inline code written like [`this`](https://docs.fast.ai/tutorial.text.html) will take you to the relevant part of the [`fastai`](https://docs.fast.ai/) documentation where appropriate. In part 2 we will use the model for analysis, looking at changes in tweet sentiment over time and how that relates to the progress of vaccination in different countries."
      ]
    },
    {
      "cell_type": "markdown",
      "metadata": {
        "papermill": {
          "duration": 0.048402,
          "end_time": "2021-03-16T20:40:58.707704",
          "exception": false,
          "start_time": "2021-03-16T20:40:58.659302",
          "status": "completed"
        },
        "tags": [],
        "id": "AEIWhYONO4VC"
      },
      "source": [
        "# Transfer learning in NLP - the ULMFiT approach\n",
        "\n",
        "We will be making use of *transfer learning* to help us create a model to analyse tweet sentiment. The idea behind transfer learning is that neural networks learn information that generalises to new problems, [particularly the early layers of the network](https://arxiv.org/pdf/1311.2901.pdf). In computer vision, for example, we can take a model that was trained on the ImageNet dataset to recognise different features of images such as circles, then apply that to a smaller dataset and *fine-tune* the model to be more suited to a specific task (e.g. classifying images as cats or dogs). This technique allows us to train neural networks much faster and with far less data than we would otherwise need.\n",
        "\n",
        "In 2018 [a paper](https://arxiv.org/abs/1801.06146) introduced a transfer learning technique for NLP called 'Universal Language Model Fine-Tuning' (ULMFiT). The approach is as follows:\n",
        "1. Train a *language model* to predict the next word in a sentence. This step is already done for us; with [`fastai`](https://docs.fast.ai/) we can download a model that has been pre-trained for this task on millions of Wikipedia articles. A good language model already knows a lot about how language works in general - for  instance, given the sentence 'Tokyo is the capital of', the model might predict 'Japan' as the next word. In this case the model understands that Tokyo is closely related to Japan and that 'capital' refers to 'city' here instead of 'upper-case' or 'money'.\n",
        "2. Fine-tune the language model to a more specific task. The pre-trained language model is good at understanding Wikipedia English, but Twitter English is a bit different. We can take the information the Wikipedia model has learned and apply that to a Twitter dataset to get a Twitter language model that is good at predicting the next word in a tweet.\n",
        "3. Fine-tune a *classification model* to identify sentiment using the pre-trained language model. The idea here is that since our language model already knows a lot about Twitter English, it's not a huge leap from there to train a classifier that understands that 'love' refers to positive sentiment and 'hate' refers to negative sentiment. If we tried to train a classifier without using a pre-trained model it would have to learn the whole language from scratch first, which would be very difficult and time consuming.\n",
        "\n",
        "![](https://github.com/twhelan22/blog/blob/master/images/ulmfit_process.png?raw=true \"Credit: https://course.fast.ai/\")"
      ]
    },
    {
      "cell_type": "markdown",
      "metadata": {
        "papermill": {
          "duration": 0.048813,
          "end_time": "2021-03-16T20:40:58.804526",
          "exception": false,
          "start_time": "2021-03-16T20:40:58.755713",
          "status": "completed"
        },
        "tags": [],
        "id": "WC_xqhuLO4VE"
      },
      "source": [
        "This notebook will walk through steps 2 and 3 with [`fastai`](https://docs.fast.ai/). We will then apply the model to unlabelled COVID-19 vaccine tweets and save the results for analysis in part 2.\r\n",
        "\r\n",
        "> Important: You will need a GPU to train models with [`fastai`](https://course.fast.ai/start_colab), but fortunately for us Google Colab provides us with access to one for free! To use it, select 'Runtime' from the menu at the top of the notebook, then 'Change runtime type', and ensure your hardware accelerator is set to 'GPU' before continuing!"
      ]
    },
    {
      "cell_type": "markdown",
      "metadata": {
        "id": "bKDQLUTmRnSM"
      },
      "source": [
        "# Data preparation\r\n",
        "This is a write-up of a submission I made for several [Kaggle tasks](https://www.kaggle.com/gpreda/all-covid19-vaccines-tweets/tasks). The tasks are still open and accepting new entries at the time of writing if you want to enter as well! On Kaggle the data is already readily available when using their notebook servers; however, we are using Google Colab today, so we will need to access the [Kaggle API](https://www.kaggle.com/docs/api) to download the data.\r\n",
        "> Note: Kaggle also have free GPU credits if you prefer to work on their notebook servers instead."
      ]
    },
    {
      "cell_type": "markdown",
      "metadata": {
        "id": "oIffBr3KRAmH"
      },
      "source": [
        "## Getting the data from Kaggle\r\n",
        "The first step is to create an API token. To do this, the steps are as follows:\r\n",
        "\r\n",
        "\r\n",
        "1.   Go to 'Account' on Kaggle and scroll down to the 'API' section.\r\n",
        "2.   Expire all current API tokens by clicking 'Expire API Token'.\r\n",
        "3.   Click 'Create New API Token', which will automatically download a file called `kaggle.json`.\r\n",
        "4.   Upload the `kaggle.json` file using the file uploader widget below.\r\n",
        "\r\n"
      ]
    },
    {
      "cell_type": "code",
      "metadata": {
        "colab": {
          "resources": {
            "http://localhost:8080/nbextensions/google.colab/files.js": {
              "data": "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",
              "ok": true,
              "headers": [
                [
                  "content-type",
                  "application/javascript"
                ]
              ],
              "status": 200,
              "status_text": ""
            }
          },
          "base_uri": "https://localhost:8080/",
          "height": 72
        },
        "id": "lzq3fTZ9X_-S",
        "outputId": "4f21106d-11cf-4508-e385-78d1cc42b148"
      },
      "source": [
        "# See https://neptune.ai/blog/google-colab-dealing-with-files for more tips on working with files in Colab\r\n",
        "from google.colab import files\r\n",
        "uploaded = files.upload()"
      ],
      "execution_count": 1,
      "outputs": [
        {
          "output_type": "display_data",
          "data": {
            "text/html": [
              "\n",
              "     <input type=\"file\" id=\"files-a4a640db-5122-4533-9fa9-6a9db21a4ee0\" name=\"files[]\" multiple disabled\n",
              "        style=\"border:none\" />\n",
              "     <output id=\"result-a4a640db-5122-4533-9fa9-6a9db21a4ee0\">\n",
              "      Upload widget is only available when the cell has been executed in the\n",
              "      current browser session. Please rerun this cell to enable.\n",
              "      </output>\n",
              "      <script src=\"/nbextensions/google.colab/files.js\"></script> "
            ],
            "text/plain": [
              "<IPython.core.display.HTML object>"
            ]
          },
          "metadata": {
            "tags": []
          }
        },
        {
          "output_type": "stream",
          "text": [
            "Saving kaggle.json to kaggle.json\n"
          ],
          "name": "stdout"
        }
      ]
    },
    {
      "cell_type": "markdown",
      "metadata": {
        "id": "-hkWUWrsYRqA"
      },
      "source": [
        "Next, we need to install the Kaggle API.\r\n",
        "> Note: The API is already preinstalled in Google Colab, but sometimes it's an outdated version, so it's best to upgrade it in case."
      ]
    },
    {
      "cell_type": "code",
      "metadata": {
        "colab": {
          "base_uri": "https://localhost:8080/"
        },
        "id": "pGMEXIQZYmND",
        "outputId": "75e2652c-0f12-4148-cedb-f68a963f2e30"
      },
      "source": [
        "!pip uninstall -q -y kaggle\r\n",
        "!pip install -q --upgrade pip\r\n",
        "!pip install -q --upgrade kaggle"
      ],
      "execution_count": 2,
      "outputs": [
        {
          "output_type": "stream",
          "text": [
            "\u001b[K     |████████████████████████████████| 1.5MB 16.2MB/s \n",
            "\u001b[K     |████████████████████████████████| 58 kB 5.3 MB/s \n",
            "\u001b[?25h  Building wheel for kaggle (setup.py) ... \u001b[?25l\u001b[?25hdone\n"
          ],
          "name": "stdout"
        }
      ]
    },
    {
      "cell_type": "markdown",
      "metadata": {
        "id": "vuVv1BWuaoKp"
      },
      "source": [
        "The [API docs](https://github.com/Kaggle/kaggle-api) tell us that we need to ensure `kaggle.json` is in the location `~/.kaggle/kaggle.json`, so let's make the directory and move the file."
      ]
    },
    {
      "cell_type": "code",
      "metadata": {
        "colab": {
          "base_uri": "https://localhost:8080/"
        },
        "id": "7LOrtQe0a8Vw",
        "outputId": "d3407431-6e4d-49fa-cebb-477c21deed73"
      },
      "source": [
        "# https://www.machinelearningmindset.com/kaggle-dataset-in-google-colab/\r\n",
        "!mkdir -p ~/.kaggle\r\n",
        "!cp kaggle.json ~/.kaggle/\r\n",
        "# Check the file in its new directory\r\n",
        "!ls /root/.kaggle/\r\n",
        "# Check the file permission\r\n",
        "!ls -l ~/.kaggle/kaggle.json\r\n",
        "#Change the file permission\r\n",
        "# chmod 600 file – owner can read and write\r\n",
        "# chmod 700 file – owner can read, write and execute\r\n",
        "!chmod 600 ~/.kaggle/kaggle.json"
      ],
      "execution_count": 3,
      "outputs": [
        {
          "output_type": "stream",
          "text": [
            "kaggle.json\n",
            "-rw-r--r-- 1 root root 63 Mar 17 14:33 /root/.kaggle/kaggle.json\n"
          ],
          "name": "stdout"
        }
      ]
    },
    {
      "cell_type": "markdown",
      "metadata": {
        "id": "gX2lsGO8b8Tx"
      },
      "source": [
        "Now we can download the data using `!kaggle dataset download -d username-of-dataset-creator/name-of-dataset`.\r\n",
        "> Note: There is also an API download command on the dataset page that you can copy/paste instead."
      ]
    },
    {
      "cell_type": "code",
      "metadata": {
        "colab": {
          "base_uri": "https://localhost:8080/"
        },
        "id": "r6rXXSbxb6jv",
        "outputId": "16cfdbc8-876c-4c56-ee8c-a268faa42c4c"
      },
      "source": [
        "# We will be using two datasets for this part, as well as a third dataset for part 2\r\n",
        "# To save time in part 2 I'm going to download them all now and save locally\r\n",
        "!kaggle datasets download -d gpreda/all-covid19-vaccines-tweets\r\n",
        "!kaggle datasets download -d maxjon/complete-tweet-sentiment-extraction-data\r\n",
        "!kaggle datasets download -d gpreda/covid-world-vaccination-progress"
      ],
      "execution_count": 4,
      "outputs": [
        {
          "output_type": "stream",
          "text": [
            "Downloading all-covid19-vaccines-tweets.zip to /content\n",
            "100% 4.76M/4.76M [00:00<00:00, 14.9MB/s]\n",
            "100% 4.76M/4.76M [00:00<00:00, 14.9MB/s]\n",
            "Downloading complete-tweet-sentiment-extraction-data.zip to /content\n",
            "  0% 0.00/2.58M [00:00<?, ?B/s]\n",
            "100% 2.58M/2.58M [00:00<00:00, 197MB/s]\n",
            "Downloading covid-world-vaccination-progress.zip to /content\n",
            "  0% 0.00/146k [00:00<?, ?B/s]\n",
            "100% 146k/146k [00:00<00:00, 55.6MB/s]\n"
          ],
          "name": "stdout"
        }
      ]
    },
    {
      "cell_type": "markdown",
      "metadata": {
        "id": "cPw-O0cndOUz"
      },
      "source": [
        "The files will be downloaded in `.zip` format, so let's unzip them."
      ]
    },
    {
      "cell_type": "code",
      "metadata": {
        "colab": {
          "base_uri": "https://localhost:8080/"
        },
        "id": "6zpADeX-dG5q",
        "outputId": "33c7b744-7685-4c7c-b671-acb64c8e023e"
      },
      "source": [
        "# To unzip you can use the following:\r\n",
        "#!mkdir folder_name\r\n",
        "#!unzip anyfile.zip -d folder_name\r\n",
        "\r\n",
        "# Or unzip all\r\n",
        "!unzip -q \\*.zip"
      ],
      "execution_count": 5,
      "outputs": [
        {
          "output_type": "stream",
          "text": [
            "\n",
            "3 archives were successfully processed.\n"
          ],
          "name": "stdout"
        }
      ]
    },
    {
      "cell_type": "markdown",
      "metadata": {
        "papermill": {
          "duration": 0.049591,
          "end_time": "2021-03-16T20:40:58.905105",
          "exception": false,
          "start_time": "2021-03-16T20:40:58.855514",
          "status": "completed"
        },
        "tags": [],
        "id": "LL02cHVTO4VE"
      },
      "source": [
        "## Loading and cleaning the data\n",
        "As with `kaggle`, an older version of [`fastai`](https://docs.fast.ai/) is preinstalled in Colab, so we will need to upgrade it first.\n",
        "\n",
        "> Important: Make a note of the [`fastai`](https://docs.fast.ai/) version you are using, since any models you create and save will need to be run using the same version later."
      ]
    },
    {
      "cell_type": "code",
      "metadata": {
        "colab": {
          "base_uri": "https://localhost:8080/",
          "height": 137
        },
        "id": "-6m0MJJ2ezqr",
        "outputId": "de48b8ae-dfec-44d4-ec82-45406e8bc2e1"
      },
      "source": [
        "! [ -e /content ] && pip install -Uqq fastai  # upgrade fastai on colab\r\n",
        "import fastai; fastai.__version__"
      ],
      "execution_count": 6,
      "outputs": [
        {
          "output_type": "stream",
          "text": [
            "\u001b[K     |████████████████████████████████| 193 kB 14.3 MB/s \n",
            "\u001b[K     |████████████████████████████████| 776.8 MB 16 kB/s \n",
            "\u001b[K     |████████████████████████████████| 12.8 MB 72.1 MB/s \n",
            "\u001b[K     |████████████████████████████████| 53 kB 1.9 MB/s \n",
            "\u001b[31mERROR: pip's dependency resolver does not currently take into account all the packages that are installed. This behaviour is the source of the following dependency conflicts.\n",
            "torchtext 0.9.0 requires torch==1.8.0, but you have torch 1.7.1 which is incompatible.\u001b[0m\n",
            "\u001b[?25h"
          ],
          "name": "stdout"
        },
        {
          "output_type": "execute_result",
          "data": {
            "application/vnd.google.colaboratory.intrinsic+json": {
              "type": "string"
            },
            "text/plain": [
              "'2.2.7'"
            ]
          },
          "metadata": {
            "tags": []
          },
          "execution_count": 6
        }
      ]
    },
    {
      "cell_type": "markdown",
      "metadata": {
        "id": "FdTfXbXie2jj"
      },
      "source": [
        "Let's import [`fastai`](https://docs.fast.ai/)'s [`text`](https://docs.fast.ai/tutorial.text.html) module and take a look at our data.\r\n",
        "> Tip: If you use `import *`, useful libraries like `pandas` and `numpy` will also be imported at the same time!"
      ]
    },
    {
      "cell_type": "code",
      "metadata": {
        "execution": {
          "iopub.execute_input": "2021-03-16T20:40:59.015185Z",
          "iopub.status.busy": "2021-03-16T20:40:59.014409Z",
          "iopub.status.idle": "2021-03-16T20:41:05.187047Z",
          "shell.execute_reply": "2021-03-16T20:41:05.186347Z"
        },
        "papermill": {
          "duration": 6.232631,
          "end_time": "2021-03-16T20:41:05.187303",
          "exception": false,
          "start_time": "2021-03-16T20:40:58.954672",
          "status": "completed"
        },
        "tags": [],
        "id": "Wmg6Kay8O4VE"
      },
      "source": [
        "from fastai.text.all import *"
      ],
      "execution_count": 7,
      "outputs": []
    },
    {
      "cell_type": "code",
      "metadata": {
        "execution": {
          "iopub.execute_input": "2021-03-16T20:41:05.414560Z",
          "iopub.status.busy": "2021-03-16T20:41:05.413930Z",
          "iopub.status.idle": "2021-03-16T20:41:05.802550Z",
          "shell.execute_reply": "2021-03-16T20:41:05.802978Z"
        },
        "papermill": {
          "duration": 0.448296,
          "end_time": "2021-03-16T20:41:05.803133",
          "exception": false,
          "start_time": "2021-03-16T20:41:05.354837",
          "status": "completed"
        },
        "tags": [],
        "colab": {
          "base_uri": "https://localhost:8080/",
          "height": 666
        },
        "id": "W4ecid9eO4VF",
        "outputId": "a7312df6-5e03-4cc0-bfcd-51fee3f78221"
      },
      "source": [
        "vax_tweets = pd.read_csv('vaccination_all_tweets.csv')\n",
        "vax_tweets.head()"
      ],
      "execution_count": 8,
      "outputs": [
        {
          "output_type": "execute_result",
          "data": {
            "text/html": [
              "<div>\n",
              "<style scoped>\n",
              "    .dataframe tbody tr th:only-of-type {\n",
              "        vertical-align: middle;\n",
              "    }\n",
              "\n",
              "    .dataframe tbody tr th {\n",
              "        vertical-align: top;\n",
              "    }\n",
              "\n",
              "    .dataframe thead th {\n",
              "        text-align: right;\n",
              "    }\n",
              "</style>\n",
              "<table border=\"1\" class=\"dataframe\">\n",
              "  <thead>\n",
              "    <tr style=\"text-align: right;\">\n",
              "      <th></th>\n",
              "      <th>id</th>\n",
              "      <th>user_name</th>\n",
              "      <th>user_location</th>\n",
              "      <th>user_description</th>\n",
              "      <th>user_created</th>\n",
              "      <th>user_followers</th>\n",
              "      <th>user_friends</th>\n",
              "      <th>user_favourites</th>\n",
              "      <th>user_verified</th>\n",
              "      <th>date</th>\n",
              "      <th>text</th>\n",
              "      <th>hashtags</th>\n",
              "      <th>source</th>\n",
              "      <th>retweets</th>\n",
              "      <th>favorites</th>\n",
              "      <th>is_retweet</th>\n",
              "    </tr>\n",
              "  </thead>\n",
              "  <tbody>\n",
              "    <tr>\n",
              "      <th>0</th>\n",
              "      <td>1340539111971516416</td>\n",
              "      <td>Rachel Roh</td>\n",
              "      <td>La Crescenta-Montrose, CA</td>\n",
              "      <td>Aggregator of Asian American news; scanning diverse sources 24/7/365. RT's, Follows and 'Likes' will fuel me 👩‍💻</td>\n",
              "      <td>2009-04-08 17:52:46</td>\n",
              "      <td>405</td>\n",
              "      <td>1692</td>\n",
              "      <td>3247</td>\n",
              "      <td>False</td>\n",
              "      <td>2020-12-20 06:06:44</td>\n",
              "      <td>Same folks said daikon paste could treat a cytokine storm #PfizerBioNTech https://t.co/xeHhIMg1kF</td>\n",
              "      <td>['PfizerBioNTech']</td>\n",
              "      <td>Twitter for Android</td>\n",
              "      <td>0</td>\n",
              "      <td>0</td>\n",
              "      <td>False</td>\n",
              "    </tr>\n",
              "    <tr>\n",
              "      <th>1</th>\n",
              "      <td>1338158543359250433</td>\n",
              "      <td>Albert Fong</td>\n",
              "      <td>San Francisco, CA</td>\n",
              "      <td>Marketing dude, tech geek, heavy metal &amp; '80s music junkie. Fascinated by meteorology and all things in the cloud. Opinions are my own.</td>\n",
              "      <td>2009-09-21 15:27:30</td>\n",
              "      <td>834</td>\n",
              "      <td>666</td>\n",
              "      <td>178</td>\n",
              "      <td>False</td>\n",
              "      <td>2020-12-13 16:27:13</td>\n",
              "      <td>While the world has been on the wrong side of history this year, hopefully, the biggest vaccination effort we've ev… https://t.co/dlCHrZjkhm</td>\n",
              "      <td>NaN</td>\n",
              "      <td>Twitter Web App</td>\n",
              "      <td>1</td>\n",
              "      <td>1</td>\n",
              "      <td>False</td>\n",
              "    </tr>\n",
              "    <tr>\n",
              "      <th>2</th>\n",
              "      <td>1337858199140118533</td>\n",
              "      <td>eli🇱🇹🇪🇺👌</td>\n",
              "      <td>Your Bed</td>\n",
              "      <td>heil, hydra 🖐☺</td>\n",
              "      <td>2020-06-25 23:30:28</td>\n",
              "      <td>10</td>\n",
              "      <td>88</td>\n",
              "      <td>155</td>\n",
              "      <td>False</td>\n",
              "      <td>2020-12-12 20:33:45</td>\n",
              "      <td>#coronavirus #SputnikV #AstraZeneca #PfizerBioNTech #Moderna #Covid_19 Russian vaccine is created to last 2-4 years… https://t.co/ieYlCKBr8P</td>\n",
              "      <td>['coronavirus', 'SputnikV', 'AstraZeneca', 'PfizerBioNTech', 'Moderna', 'Covid_19']</td>\n",
              "      <td>Twitter for Android</td>\n",
              "      <td>0</td>\n",
              "      <td>0</td>\n",
              "      <td>False</td>\n",
              "    </tr>\n",
              "    <tr>\n",
              "      <th>3</th>\n",
              "      <td>1337855739918835717</td>\n",
              "      <td>Charles Adler</td>\n",
              "      <td>Vancouver, BC - Canada</td>\n",
              "      <td>Hosting \"CharlesAdlerTonight\" Global News Radio Network. Weeknights 7 Pacific-10 Eastern - Email comments/ideas to charles@charlesadlertonight.ca</td>\n",
              "      <td>2008-09-10 11:28:53</td>\n",
              "      <td>49165</td>\n",
              "      <td>3933</td>\n",
              "      <td>21853</td>\n",
              "      <td>True</td>\n",
              "      <td>2020-12-12 20:23:59</td>\n",
              "      <td>Facts are immutable, Senator, even when you're not ethically sturdy enough to acknowledge them. (1) You were born i… https://t.co/jqgV18kch4</td>\n",
              "      <td>NaN</td>\n",
              "      <td>Twitter Web App</td>\n",
              "      <td>446</td>\n",
              "      <td>2129</td>\n",
              "      <td>False</td>\n",
              "    </tr>\n",
              "    <tr>\n",
              "      <th>4</th>\n",
              "      <td>1337854064604966912</td>\n",
              "      <td>Citizen News Channel</td>\n",
              "      <td>NaN</td>\n",
              "      <td>Citizen News Channel bringing you an alternative news source from citizen journalists that haven't sold out. Real news &amp; real views</td>\n",
              "      <td>2020-04-23 17:58:42</td>\n",
              "      <td>152</td>\n",
              "      <td>580</td>\n",
              "      <td>1473</td>\n",
              "      <td>False</td>\n",
              "      <td>2020-12-12 20:17:19</td>\n",
              "      <td>Explain to me again why we need a vaccine @BorisJohnson @MattHancock #whereareallthesickpeople #PfizerBioNTech… https://t.co/KxbSRoBEHq</td>\n",
              "      <td>['whereareallthesickpeople', 'PfizerBioNTech']</td>\n",
              "      <td>Twitter for iPhone</td>\n",
              "      <td>0</td>\n",
              "      <td>0</td>\n",
              "      <td>False</td>\n",
              "    </tr>\n",
              "  </tbody>\n",
              "</table>\n",
              "</div>"
            ],
            "text/plain": [
              "                    id             user_name  ... favorites is_retweet\n",
              "0  1340539111971516416            Rachel Roh  ...         0      False\n",
              "1  1338158543359250433           Albert Fong  ...         1      False\n",
              "2  1337858199140118533              eli🇱🇹🇪🇺👌  ...         0      False\n",
              "3  1337855739918835717         Charles Adler  ...      2129      False\n",
              "4  1337854064604966912  Citizen News Channel  ...         0      False\n",
              "\n",
              "[5 rows x 16 columns]"
            ]
          },
          "metadata": {
            "tags": []
          },
          "execution_count": 8
        }
      ]
    },
    {
      "cell_type": "markdown",
      "metadata": {
        "papermill": {
          "duration": 0.051135,
          "end_time": "2021-03-16T20:41:05.906855",
          "exception": false,
          "start_time": "2021-03-16T20:41:05.855720",
          "status": "completed"
        },
        "tags": [],
        "id": "8Cf7AU7XO4VG"
      },
      "source": [
        "We could use the `text` column of this dataset to train a Twitter language model, but since our end goal is sentiment analysis we will need to find another dataset that also contains sentiment labels to train our classifier. Let's use ['Complete Tweet Sentiment Extraction Data'](https://www.kaggle.com/maxjon/complete-tweet-sentiment-extraction-data), which contains 40,000 tweets labelled as either negative, neutral or positive sentiment. For more accurate results you could use the ['sentiment140'](https://www.kaggle.com/kazanova/sentiment140) dataset instead, which contains 1.6m tweets labelled as either positive or negative."
      ]
    },
    {
      "cell_type": "code",
      "metadata": {
        "execution": {
          "iopub.execute_input": "2021-03-16T20:41:06.021654Z",
          "iopub.status.busy": "2021-03-16T20:41:06.021076Z",
          "iopub.status.idle": "2021-03-16T20:41:06.289072Z",
          "shell.execute_reply": "2021-03-16T20:41:06.288563Z"
        },
        "papermill": {
          "duration": 0.328781,
          "end_time": "2021-03-16T20:41:06.289213",
          "exception": false,
          "start_time": "2021-03-16T20:41:05.960432",
          "status": "completed"
        },
        "tags": [],
        "colab": {
          "base_uri": "https://localhost:8080/",
          "height": 255
        },
        "id": "p2ThlQzSO4VG",
        "outputId": "92afbec9-3901-488d-c4fc-743c1d719038"
      },
      "source": [
        "tweets = pd.read_csv('tweet_dataset.csv')\n",
        "tweets.head()"
      ],
      "execution_count": 9,
      "outputs": [
        {
          "output_type": "execute_result",
          "data": {
            "text/html": [
              "<div>\n",
              "<style scoped>\n",
              "    .dataframe tbody tr th:only-of-type {\n",
              "        vertical-align: middle;\n",
              "    }\n",
              "\n",
              "    .dataframe tbody tr th {\n",
              "        vertical-align: top;\n",
              "    }\n",
              "\n",
              "    .dataframe thead th {\n",
              "        text-align: right;\n",
              "    }\n",
              "</style>\n",
              "<table border=\"1\" class=\"dataframe\">\n",
              "  <thead>\n",
              "    <tr style=\"text-align: right;\">\n",
              "      <th></th>\n",
              "      <th>textID</th>\n",
              "      <th>sentiment</th>\n",
              "      <th>author</th>\n",
              "      <th>text</th>\n",
              "      <th>old_text</th>\n",
              "      <th>aux_id</th>\n",
              "      <th>new_sentiment</th>\n",
              "      <th>selected_text</th>\n",
              "    </tr>\n",
              "  </thead>\n",
              "  <tbody>\n",
              "    <tr>\n",
              "      <th>0</th>\n",
              "      <td>1956967341</td>\n",
              "      <td>empty</td>\n",
              "      <td>xoshayzers</td>\n",
              "      <td>i know  i was listenin to bad habit earlier and i started freakin at his part =[</td>\n",
              "      <td>@tiffanylue i know  i was listenin to bad habit earlier and i started freakin at his part =[</td>\n",
              "      <td>p1000000000</td>\n",
              "      <td>NaN</td>\n",
              "      <td>NaN</td>\n",
              "    </tr>\n",
              "    <tr>\n",
              "      <th>1</th>\n",
              "      <td>1956967666</td>\n",
              "      <td>sadness</td>\n",
              "      <td>wannamama</td>\n",
              "      <td>Layin n bed with a headache  ughhhh...waitin on your call...</td>\n",
              "      <td>Layin n bed with a headache  ughhhh...waitin on your call...</td>\n",
              "      <td>c811396dc2</td>\n",
              "      <td>negative</td>\n",
              "      <td>headache</td>\n",
              "    </tr>\n",
              "    <tr>\n",
              "      <th>2</th>\n",
              "      <td>1956967696</td>\n",
              "      <td>sadness</td>\n",
              "      <td>coolfunky</td>\n",
              "      <td>Funeral ceremony...gloomy friday...</td>\n",
              "      <td>Funeral ceremony...gloomy friday...</td>\n",
              "      <td>9063631ab1</td>\n",
              "      <td>negative</td>\n",
              "      <td>gloomy</td>\n",
              "    </tr>\n",
              "    <tr>\n",
              "      <th>3</th>\n",
              "      <td>1956967789</td>\n",
              "      <td>enthusiasm</td>\n",
              "      <td>czareaquino</td>\n",
              "      <td>wants to hang out with friends SOON!</td>\n",
              "      <td>wants to hang out with friends SOON!</td>\n",
              "      <td>2a815f151d</td>\n",
              "      <td>positive</td>\n",
              "      <td>wants to hang out with friends SOON!</td>\n",
              "    </tr>\n",
              "    <tr>\n",
              "      <th>4</th>\n",
              "      <td>1956968416</td>\n",
              "      <td>neutral</td>\n",
              "      <td>xkilljoyx</td>\n",
              "      <td>We want to trade with someone who has Houston tickets, but no one will.</td>\n",
              "      <td>@dannycastillo We want to trade with someone who has Houston tickets, but no one will.</td>\n",
              "      <td>82565a56d3</td>\n",
              "      <td>neutral</td>\n",
              "      <td>We want to trade with someone who has Houston tickets, but no one will.</td>\n",
              "    </tr>\n",
              "  </tbody>\n",
              "</table>\n",
              "</div>"
            ],
            "text/plain": [
              "       textID  ...                                                            selected_text\n",
              "0  1956967341  ...                                                                      NaN\n",
              "1  1956967666  ...                                                                 headache\n",
              "2  1956967696  ...                                                                   gloomy\n",
              "3  1956967789  ...                                     wants to hang out with friends SOON!\n",
              "4  1956968416  ...  We want to trade with someone who has Houston tickets, but no one will.\n",
              "\n",
              "[5 rows x 8 columns]"
            ]
          },
          "metadata": {
            "tags": []
          },
          "execution_count": 9
        }
      ]
    },
    {
      "cell_type": "markdown",
      "metadata": {
        "papermill": {
          "duration": 0.050867,
          "end_time": "2021-03-16T20:41:06.392014",
          "exception": false,
          "start_time": "2021-03-16T20:41:06.341147",
          "status": "completed"
        },
        "tags": [],
        "id": "2rz2HVm3O4VH"
      },
      "source": [
        "For our language model, the only input we need is the tweet text. As we will see in a moment [`fastai`](https://docs.fast.ai/) can handle text preprocessing and tokenization for us, but it might be a good idea to remove things like twitter handles, urls, hashtags and emojis first. You could experiment with leaving these in for your own models and see how it affects the results. There are also some rows with blank tweets which need to be removed.\n",
        "\n",
        "We ideally want the language model to learn not just about tweet language, but more specifically about vaccine tweet language. We can therefore use text from both datasets as input for the language model. For the classification model we need to remove all rows with missing sentiment, however."
      ]
    },
    {
      "cell_type": "code",
      "metadata": {
        "execution": {
          "iopub.execute_input": "2021-03-16T20:41:06.510616Z",
          "iopub.status.busy": "2021-03-16T20:41:06.509327Z",
          "iopub.status.idle": "2021-03-16T20:41:07.234760Z",
          "shell.execute_reply": "2021-03-16T20:41:07.234188Z"
        },
        "papermill": {
          "duration": 0.789357,
          "end_time": "2021-03-16T20:41:07.234895",
          "exception": false,
          "start_time": "2021-03-16T20:41:06.445538",
          "status": "completed"
        },
        "tags": [],
        "colab": {
          "base_uri": "https://localhost:8080/"
        },
        "id": "72ycNGejO4VH",
        "outputId": "b910c476-bd07-4573-b134-5dadff7caa03"
      },
      "source": [
        "#collapse-hide\n",
        "# Code via https://www.kaggle.com/garyongguanjie/comments-analysis\n",
        "def de_emojify(inputString):\n",
        "    return inputString.encode('ascii', 'ignore').decode('ascii')\n",
        "\n",
        "# Code via https://www.kaggle.com/pawanbhandarkar/generate-smarter-word-clouds-with-log-likelihood\n",
        "def tweet_proc(df, text_col='text'):\n",
        "    df['orig_text'] = df[text_col]\n",
        "    # Remove twitter handles\n",
        "    df[text_col] = df[text_col].apply(lambda x:re.sub('@[^\\s]+','',x))\n",
        "    # Remove URLs\n",
        "    df[text_col] = df[text_col].apply(lambda x:re.sub(r\"http\\S+\", \"\", x))\n",
        "    # Remove emojis\n",
        "    df[text_col] = df[text_col].apply(de_emojify)\n",
        "    # Remove hashtags\n",
        "    df[text_col] = df[text_col].apply(lambda x:re.sub(r'\\B#\\S+','',x))\n",
        "    return df[df[text_col]!='']\n",
        "\n",
        "# Clean the text data and combine the dfs\n",
        "tweets = tweets[['old_text', 'new_sentiment']].rename(columns={'old_text':'text', 'new_sentiment':'sentiment'})\n",
        "vax_tweets['sentiment'] = np.nan\n",
        "tweets = tweet_proc(tweets)\n",
        "vax_tweets = tweet_proc(vax_tweets)\n",
        "df_lm = tweets[['text', 'sentiment']].append(vax_tweets[['text', 'sentiment']])\n",
        "df_clas = df_lm.dropna(subset=['sentiment'])\n",
        "print(len(df_lm), len(df_clas))"
      ],
      "execution_count": 10,
      "outputs": [
        {
          "output_type": "stream",
          "text": [
            "70732 31323\n"
          ],
          "name": "stdout"
        }
      ]
    },
    {
      "cell_type": "code",
      "metadata": {
        "execution": {
          "iopub.execute_input": "2021-03-16T20:41:07.349616Z",
          "iopub.status.busy": "2021-03-16T20:41:07.348854Z",
          "iopub.status.idle": "2021-03-16T20:41:07.352613Z",
          "shell.execute_reply": "2021-03-16T20:41:07.352178Z"
        },
        "papermill": {
          "duration": 0.06579,
          "end_time": "2021-03-16T20:41:07.352724",
          "exception": false,
          "start_time": "2021-03-16T20:41:07.286934",
          "status": "completed"
        },
        "tags": [],
        "colab": {
          "base_uri": "https://localhost:8080/",
          "height": 204
        },
        "id": "1MxiMXNBO4VI",
        "outputId": "099bffec-2b00-46df-d768-143bddbed226"
      },
      "source": [
        "df_clas.head()"
      ],
      "execution_count": 11,
      "outputs": [
        {
          "output_type": "execute_result",
          "data": {
            "text/html": [
              "<div>\n",
              "<style scoped>\n",
              "    .dataframe tbody tr th:only-of-type {\n",
              "        vertical-align: middle;\n",
              "    }\n",
              "\n",
              "    .dataframe tbody tr th {\n",
              "        vertical-align: top;\n",
              "    }\n",
              "\n",
              "    .dataframe thead th {\n",
              "        text-align: right;\n",
              "    }\n",
              "</style>\n",
              "<table border=\"1\" class=\"dataframe\">\n",
              "  <thead>\n",
              "    <tr style=\"text-align: right;\">\n",
              "      <th></th>\n",
              "      <th>text</th>\n",
              "      <th>sentiment</th>\n",
              "    </tr>\n",
              "  </thead>\n",
              "  <tbody>\n",
              "    <tr>\n",
              "      <th>1</th>\n",
              "      <td>Layin n bed with a headache  ughhhh...waitin on your call...</td>\n",
              "      <td>negative</td>\n",
              "    </tr>\n",
              "    <tr>\n",
              "      <th>2</th>\n",
              "      <td>Funeral ceremony...gloomy friday...</td>\n",
              "      <td>negative</td>\n",
              "    </tr>\n",
              "    <tr>\n",
              "      <th>3</th>\n",
              "      <td>wants to hang out with friends SOON!</td>\n",
              "      <td>positive</td>\n",
              "    </tr>\n",
              "    <tr>\n",
              "      <th>4</th>\n",
              "      <td>We want to trade with someone who has Houston tickets, but no one will.</td>\n",
              "      <td>neutral</td>\n",
              "    </tr>\n",
              "    <tr>\n",
              "      <th>5</th>\n",
              "      <td>Re-pinging  why didn't you go to prom? BC my bf didn't like my friends</td>\n",
              "      <td>negative</td>\n",
              "    </tr>\n",
              "  </tbody>\n",
              "</table>\n",
              "</div>"
            ],
            "text/plain": [
              "                                                                       text sentiment\n",
              "1              Layin n bed with a headache  ughhhh...waitin on your call...  negative\n",
              "2                                       Funeral ceremony...gloomy friday...  negative\n",
              "3                                      wants to hang out with friends SOON!  positive\n",
              "4   We want to trade with someone who has Houston tickets, but no one will.   neutral\n",
              "5    Re-pinging  why didn't you go to prom? BC my bf didn't like my friends  negative"
            ]
          },
          "metadata": {
            "tags": []
          },
          "execution_count": 11
        }
      ]
    },
    {
      "cell_type": "markdown",
      "metadata": {
        "papermill": {
          "duration": 0.056486,
          "end_time": "2021-03-16T20:41:07.462809",
          "exception": false,
          "start_time": "2021-03-16T20:41:07.406323",
          "status": "completed"
        },
        "tags": [],
        "id": "aP1TLv1zO4VI"
      },
      "source": [
        "# Training a language model\n",
        "To train our language model we can use self-supervised learning; we just need to give the model some text as an independent variable and [`fastai`](https://docs.fast.ai/) will automatically preprocess it and create a dependent variable for us. We can do this in one line of code using the [`DataLoaders`](https://docs.fast.ai/data.core.html#DataLoaders) class, which converts our input data into a [`DataLoader`](https://docs.fast.ai/data.load.html#DataLoader) object that can be used as an input to a [`fastai`](https://docs.fast.ai/) [`Learner`](https://docs.fast.ai/learner.html#Learner)."
      ]
    },
    {
      "cell_type": "code",
      "metadata": {
        "execution": {
          "iopub.execute_input": "2021-03-16T20:41:07.585572Z",
          "iopub.status.busy": "2021-03-16T20:41:07.584717Z",
          "iopub.status.idle": "2021-03-16T20:42:13.323331Z",
          "shell.execute_reply": "2021-03-16T20:42:13.322752Z"
        },
        "papermill": {
          "duration": 65.802508,
          "end_time": "2021-03-16T20:42:13.323501",
          "exception": false,
          "start_time": "2021-03-16T20:41:07.520993",
          "status": "completed"
        },
        "tags": [],
        "colab": {
          "base_uri": "https://localhost:8080/",
          "height": 71
        },
        "id": "h5b5A4EMO4VI",
        "outputId": "4d4ea7e7-acda-4f12-f331-1e22a67e5fb6"
      },
      "source": [
        "dls_lm = TextDataLoaders.from_df(df_lm, text_col='text', is_lm=True, valid_pct=0.1)"
      ],
      "execution_count": 12,
      "outputs": [
        {
          "output_type": "display_data",
          "data": {
            "text/html": [
              ""
            ],
            "text/plain": [
              "<IPython.core.display.HTML object>"
            ]
          },
          "metadata": {
            "tags": []
          }
        },
        {
          "output_type": "stream",
          "text": [
            "/usr/local/lib/python3.7/dist-packages/numpy/core/_asarray.py:83: VisibleDeprecationWarning: Creating an ndarray from ragged nested sequences (which is a list-or-tuple of lists-or-tuples-or ndarrays with different lengths or shapes) is deprecated. If you meant to do this, you must specify 'dtype=object' when creating the ndarray\n",
            "  return array(a, dtype, copy=False, order=order)\n"
          ],
          "name": "stderr"
        }
      ]
    },
    {
      "cell_type": "markdown",
      "metadata": {
        "papermill": {
          "duration": 0.051809,
          "end_time": "2021-03-16T20:42:13.428380",
          "exception": false,
          "start_time": "2021-03-16T20:42:13.376571",
          "status": "completed"
        },
        "tags": [],
        "id": "DKojCIGRO4VJ"
      },
      "source": [
        "Here we told [`fastai`](https://docs.fast.ai/) that we are working with text data, which is contained in the `text` column of a [`pandas`](https://pandas.pydata.org/docs/) [`DataFrame`](https://pandas.pydata.org/docs/reference/api/pandas.DataFrame.html) called `df_lm`. We set [`is_lm=True`](https://docs.fast.ai/text.data.html#TextDataLoaders) since we want to train a language model, so [`fastai`](https://docs.fast.ai/) needs to label the input data for us. Finally, we told [`fastai`](https://docs.fast.ai/) to hold out a random 10% of our data for a validation set using [`valid_pct=0.1`](https://docs.fast.ai/text.data.html#TextDataLoaders).\n",
        "\n",
        "Let's take a look at the first two rows of the [`DataLoader`](https://docs.fast.ai/data.load.html#DataLoader) using [`show_batch`](https://docs.fast.ai/data.core.html#TfmdDL.show_batch)."
      ]
    },
    {
      "cell_type": "code",
      "metadata": {
        "execution": {
          "iopub.execute_input": "2021-03-16T20:42:13.562548Z",
          "iopub.status.busy": "2021-03-16T20:42:13.557386Z",
          "iopub.status.idle": "2021-03-16T20:42:14.189433Z",
          "shell.execute_reply": "2021-03-16T20:42:14.189854Z"
        },
        "papermill": {
          "duration": 0.708267,
          "end_time": "2021-03-16T20:42:14.189999",
          "exception": false,
          "start_time": "2021-03-16T20:42:13.481732",
          "status": "completed"
        },
        "tags": [],
        "colab": {
          "base_uri": "https://localhost:8080/",
          "height": 196
        },
        "id": "tV3AqT1KO4VJ",
        "outputId": "93df6e3f-c21f-44aa-caa4-4ac591003d3b"
      },
      "source": [
        "dls_lm.show_batch(max_n=2)"
      ],
      "execution_count": 13,
      "outputs": [
        {
          "output_type": "display_data",
          "data": {
            "text/html": [
              "<table border=\"1\" class=\"dataframe\">\n",
              "  <thead>\n",
              "    <tr style=\"text-align: right;\">\n",
              "      <th></th>\n",
              "      <th>text</th>\n",
              "      <th>text_</th>\n",
              "    </tr>\n",
              "  </thead>\n",
              "  <tbody>\n",
              "    <tr>\n",
              "      <th>0</th>\n",
              "      <td>xxbos for … the … loss . xxunk … him , not u. what u up to on the wknd ? i wanna s xxrep 7 e ya ! xxbos xxup uk \\n▁ queue at a xxbos xxmaj could nt agree more well put xxmaj xxunk xxbos xxmaj he is a xxunk liar have enough . just did nt order enough . xxmaj probably beca xxbos xxmaj wow … \\n\\n xxmaj xxunk</td>\n",
              "      <td>for … the … loss . xxunk … him , not u. what u up to on the wknd ? i wanna s xxrep 7 e ya ! xxbos xxup uk \\n▁ queue at a xxbos xxmaj could nt agree more well put xxmaj xxunk xxbos xxmaj he is a xxunk liar have enough . just did nt order enough . xxmaj probably beca xxbos xxmaj wow … \\n\\n xxmaj xxunk !</td>\n",
              "    </tr>\n",
              "    <tr>\n",
              "      <th>1</th>\n",
              "      <td>xxmaj everybody please go get vaccinated when you are eligible xxbos xxmaj welcoming xxunk xxmaj i 'm so proud ! xxbos xxmaj most medicines have a list of xxup xxunk side effects . \\n xxmaj that is why you should xxup not take anything you do not need too xxbos is offering gives us the schedule which includes xxbos xxmaj canada politicizing xxmaj the ' virus ' is not causing economic business</td>\n",
              "      <td>everybody please go get vaccinated when you are eligible xxbos xxmaj welcoming xxunk xxmaj i 'm so proud ! xxbos xxmaj most medicines have a list of xxup xxunk side effects . \\n xxmaj that is why you should xxup not take anything you do not need too xxbos is offering gives us the schedule which includes xxbos xxmaj canada politicizing xxmaj the ' virus ' is not causing economic business collapse</td>\n",
              "    </tr>\n",
              "  </tbody>\n",
              "</table>"
            ],
            "text/plain": [
              "<IPython.core.display.HTML object>"
            ]
          },
          "metadata": {
            "tags": []
          }
        }
      ]
    },
    {
      "cell_type": "markdown",
      "metadata": {
        "papermill": {
          "duration": 0.052017,
          "end_time": "2021-03-16T20:42:14.294228",
          "exception": false,
          "start_time": "2021-03-16T20:42:14.242211",
          "status": "completed"
        },
        "tags": [],
        "id": "fzyppqsFO4VJ"
      },
      "source": [
        "We have a new column, `text_`, which is `text` offset by one. This is the dependent variable [`fastai`](https://docs.fast.ai/) created for us. By default [`fastai`](https://docs.fast.ai/) uses *word tokenization*, which splits the text on spaces and punctuation marks and breaks up words like *can't* into two separate tokens. [`fastai`](https://docs.fast.ai/) also has some special tokens starting with 'xx' that are designed to make things easier for the model; for example [`xxmaj`](https://docs.fast.ai/text.data.html) indicates that the next word begins with a capital letter and [`xxunk`](https://docs.fast.ai/text.data.html) represents an unknown word that doesn't appear in the vocabulary very often. You could experiment with *subword tokenization* instead, which will split the text on commonly occuring groups of letters instead of spaces. This might help if you wanted to leave hashtags in since they often contain multiple words joined together with no spaces, e.g. #CovidVaccine. The [`fastai`](https://docs.fast.ai/) tokenization process is explained in much more detail [here](https://youtu.be/WjnwWeGjZcM?t=626) for those interested."
      ]
    },
    {
      "cell_type": "markdown",
      "metadata": {
        "papermill": {
          "duration": 0.051282,
          "end_time": "2021-03-16T20:42:14.397236",
          "exception": false,
          "start_time": "2021-03-16T20:42:14.345954",
          "status": "completed"
        },
        "tags": [],
        "id": "EttdwSTXO4VK"
      },
      "source": [
        "## Fine-tuning the language model\n",
        "The next step is to create a language model using [`language_model_learner`](https://docs.fast.ai/text.learner.html#language_model_learner)."
      ]
    },
    {
      "cell_type": "code",
      "metadata": {
        "execution": {
          "iopub.execute_input": "2021-03-16T20:42:14.506828Z",
          "iopub.status.busy": "2021-03-16T20:42:14.506300Z",
          "iopub.status.idle": "2021-03-16T20:42:20.312383Z",
          "shell.execute_reply": "2021-03-16T20:42:20.311853Z"
        },
        "papermill": {
          "duration": 5.863644,
          "end_time": "2021-03-16T20:42:20.312534",
          "exception": false,
          "start_time": "2021-03-16T20:42:14.448890",
          "status": "completed"
        },
        "tags": [],
        "colab": {
          "base_uri": "https://localhost:8080/",
          "height": 17
        },
        "id": "okNqQmOLO4VL",
        "outputId": "1fae20a3-caab-4d88-b47d-3feb1fa6b16d"
      },
      "source": [
        "learn = language_model_learner(dls_lm, AWD_LSTM, drop_mult=0.3, metrics=[accuracy, Perplexity()]).to_fp16()"
      ],
      "execution_count": 14,
      "outputs": [
        {
          "output_type": "display_data",
          "data": {
            "text/html": [
              ""
            ],
            "text/plain": [
              "<IPython.core.display.HTML object>"
            ]
          },
          "metadata": {
            "tags": []
          }
        }
      ]
    },
    {
      "cell_type": "markdown",
      "metadata": {
        "papermill": {
          "duration": 0.053775,
          "end_time": "2021-03-16T20:42:20.421492",
          "exception": false,
          "start_time": "2021-03-16T20:42:20.367717",
          "status": "completed"
        },
        "tags": [],
        "id": "QWCIHa-BO4VL"
      },
      "source": [
        "Here we passed [`language_model_learner`](https://docs.fast.ai/text.learner.html#language_model_learner) our [`DataLoaders`](https://docs.fast.ai/data.core.html#DataLoaders), `dls_lm`, and the pre-trained [RNN](https://www.simplilearn.com/tutorials/deep-learning-tutorial/rnn) model, [*AWD_LSTM*](https://docs.fast.ai/text.models.awdlstm.html), which is built into [`fastai`](https://docs.fast.ai/). [`drop_mult`](https://docs.fast.ai/text.learner.html#text_classifier_learner) is a multiplier applied to all [dropouts](https://machinelearningmastery.com/dropout-for-regularizing-deep-neural-networks/) in the AWD_LSTM model to reduce overfitting. For example, by default [`fastai`](https://docs.fast.ai/)'s AWD_LSTM applies [`EmbeddingDropout`](https://docs.fast.ai/text.models.awdlstm.html#EmbeddingDropout) with 10% probability (at the time of writing), but we told [`fastai`](https://docs.fast.ai/) that we want to reduce that to 3%. The [`metrics`](https://docs.fast.ai/metrics.html) we want to track are *perplexity*, which is the exponential of the loss (in this case cross entropy loss), and *accuracy*, which tells us how often our model predicts the next word correctly. We can also train with fp16 to use less memory and speed up the training process.\n",
        "\n",
        "We can find a good learning rate for training using [`lr_find`](https://docs.fast.ai/callback.schedule.html#Learner.lr_find) and use that to fit our model."
      ]
    },
    {
      "cell_type": "code",
      "metadata": {
        "execution": {
          "iopub.execute_input": "2021-03-16T20:42:20.541320Z",
          "iopub.status.busy": "2021-03-16T20:42:20.540221Z",
          "iopub.status.idle": "2021-03-16T20:42:55.427888Z",
          "shell.execute_reply": "2021-03-16T20:42:55.427328Z"
        },
        "papermill": {
          "duration": 34.950242,
          "end_time": "2021-03-16T20:42:55.428049",
          "exception": false,
          "start_time": "2021-03-16T20:42:20.477807",
          "status": "completed"
        },
        "tags": [],
        "colab": {
          "base_uri": "https://localhost:8080/",
          "height": 300
        },
        "id": "z30c5th0O4VM",
        "outputId": "22b63258-d3d4-4c51-e5e0-dbf6a21d9752"
      },
      "source": [
        "learn.lr_find()"
      ],
      "execution_count": 15,
      "outputs": [
        {
          "output_type": "display_data",
          "data": {
            "text/html": [
              ""
            ],
            "text/plain": [
              "<IPython.core.display.HTML object>"
            ]
          },
          "metadata": {
            "tags": []
          }
        },
        {
          "output_type": "execute_result",
          "data": {
            "text/plain": [
              "SuggestedLRs(lr_min=0.04365158379077912, lr_steep=0.04786301031708717)"
            ]
          },
          "metadata": {
            "tags": []
          },
          "execution_count": 15
        },
        {
          "output_type": "display_data",
          "data": {
            "image/png": "[encoded data removed]",
            "text/plain": [
              "<Figure size 432x288 with 1 Axes>"
            ]
          },
          "metadata": {
            "tags": [],
            "needs_background": "light"
          }
        }
      ]
    },
    {
      "cell_type": "markdown",
      "metadata": {
        "papermill": {
          "duration": 0.05554,
          "end_time": "2021-03-16T20:42:55.540854",
          "exception": false,
          "start_time": "2021-03-16T20:42:55.485314",
          "status": "completed"
        },
        "tags": [],
        "id": "8_vBrqTGO4VM"
      },
      "source": [
        "When we created our [`Learner`](https://docs.fast.ai/learner.html#Learner) the embeddings from the pre-trained AWD_LSTM model were merged with random embeddings added for words that weren't in the vocabulary. The pre-trained layers were also automatically frozen for us. Using [`fit_one_cycle`](https://docs.fast.ai/callback.schedule.html#Learner.fit_one_cycle) with our [`Learner`](https://docs.fast.ai/learner.html#Learner) will train only the *new random embeddings* (i.e. words that are in our Twitter vocab but not the Wikipedia vocab) in the last layer of the neural network."
      ]
    },
    {
      "cell_type": "code",
      "metadata": {
        "execution": {
          "iopub.execute_input": "2021-03-16T20:42:55.660821Z",
          "iopub.status.busy": "2021-03-16T20:42:55.658978Z",
          "iopub.status.idle": "2021-03-16T20:44:23.846891Z",
          "shell.execute_reply": "2021-03-16T20:44:23.846183Z"
        },
        "papermill": {
          "duration": 88.249285,
          "end_time": "2021-03-16T20:44:23.847031",
          "exception": false,
          "start_time": "2021-03-16T20:42:55.597746",
          "status": "completed"
        },
        "tags": [],
        "colab": {
          "base_uri": "https://localhost:8080/",
          "height": 80
        },
        "id": "x1HULWyhO4VM",
        "outputId": "2934223f-4521-496c-e24f-81d4c205f23d"
      },
      "source": [
        "learn.fit_one_cycle(1, 3e-2)"
      ],
      "execution_count": 16,
      "outputs": [
        {
          "output_type": "display_data",
          "data": {
            "text/html": [
              "<table border=\"1\" class=\"dataframe\">\n",
              "  <thead>\n",
              "    <tr style=\"text-align: left;\">\n",
              "      <th>epoch</th>\n",
              "      <th>train_loss</th>\n",
              "      <th>valid_loss</th>\n",
              "      <th>accuracy</th>\n",
              "      <th>perplexity</th>\n",
              "      <th>time</th>\n",
              "    </tr>\n",
              "  </thead>\n",
              "  <tbody>\n",
              "    <tr>\n",
              "      <td>0</td>\n",
              "      <td>4.380641</td>\n",
              "      <td>4.271222</td>\n",
              "      <td>0.255222</td>\n",
              "      <td>71.609062</td>\n",
              "      <td>01:22</td>\n",
              "    </tr>\n",
              "  </tbody>\n",
              "</table>"
            ],
            "text/plain": [
              "<IPython.core.display.HTML object>"
            ]
          },
          "metadata": {
            "tags": []
          }
        }
      ]
    },
    {
      "cell_type": "markdown",
      "metadata": {
        "papermill": {
          "duration": 0.05388,
          "end_time": "2021-03-16T20:44:23.955425",
          "exception": false,
          "start_time": "2021-03-16T20:44:23.901545",
          "status": "completed"
        },
        "tags": [],
        "id": "Q3eTCKlsO4VN"
      },
      "source": [
        "After one epoch our language model is predicting the next word in a tweet around 25% of the time - not too bad! We can [`unfreeze`](https://docs.fast.ai/learner.html#Learner.unfreeze) the entire model, find a more suitable learning rate and train for a few more epochs to improve the accuracy further."
      ]
    },
    {
      "cell_type": "code",
      "metadata": {
        "execution": {
          "iopub.execute_input": "2021-03-16T20:44:24.072789Z",
          "iopub.status.busy": "2021-03-16T20:44:24.070770Z",
          "iopub.status.idle": "2021-03-16T20:44:56.802419Z",
          "shell.execute_reply": "2021-03-16T20:44:56.801376Z"
        },
        "papermill": {
          "duration": 32.792347,
          "end_time": "2021-03-16T20:44:56.802586",
          "exception": false,
          "start_time": "2021-03-16T20:44:24.010239",
          "status": "completed"
        },
        "tags": [],
        "colab": {
          "base_uri": "https://localhost:8080/",
          "height": 300
        },
        "id": "laMkX57kO4VO",
        "outputId": "6b12ce55-ba98-4467-e287-793fb855ee13"
      },
      "source": [
        "learn.unfreeze()\n",
        "learn.lr_find()"
      ],
      "execution_count": 17,
      "outputs": [
        {
          "output_type": "display_data",
          "data": {
            "text/html": [
              ""
            ],
            "text/plain": [
              "<IPython.core.display.HTML object>"
            ]
          },
          "metadata": {
            "tags": []
          }
        },
        {
          "output_type": "execute_result",
          "data": {
            "text/plain": [
              "SuggestedLRs(lr_min=0.00036307806149125097, lr_steep=1.5848931980144698e-06)"
            ]
          },
          "metadata": {
            "tags": []
          },
          "execution_count": 17
        },
        {
          "output_type": "display_data",
          "data": {
            "image/png": "[encoded data removed]",
            "text/plain": [
              "<Figure size 432x288 with 1 Axes>"
            ]
          },
          "metadata": {
            "tags": [],
            "needs_background": "light"
          }
        }
      ]
    },
    {
      "cell_type": "code",
      "metadata": {
        "execution": {
          "iopub.execute_input": "2021-03-16T20:44:56.921833Z",
          "iopub.status.busy": "2021-03-16T20:44:56.921018Z",
          "iopub.status.idle": "2021-03-16T20:51:24.329447Z",
          "shell.execute_reply": "2021-03-16T20:51:24.328422Z"
        },
        "papermill": {
          "duration": 387.468999,
          "end_time": "2021-03-16T20:51:24.329624",
          "exception": false,
          "start_time": "2021-03-16T20:44:56.860625",
          "status": "completed"
        },
        "tags": [],
        "colab": {
          "base_uri": "https://localhost:8080/",
          "height": 173
        },
        "id": "3XNquYUeO4VO",
        "outputId": "fe9d2daf-bab7-45a8-f998-287b25f97217"
      },
      "source": [
        "learn.fit_one_cycle(4, 1e-3)"
      ],
      "execution_count": 18,
      "outputs": [
        {
          "output_type": "display_data",
          "data": {
            "text/html": [
              "<table border=\"1\" class=\"dataframe\">\n",
              "  <thead>\n",
              "    <tr style=\"text-align: left;\">\n",
              "      <th>epoch</th>\n",
              "      <th>train_loss</th>\n",
              "      <th>valid_loss</th>\n",
              "      <th>accuracy</th>\n",
              "      <th>perplexity</th>\n",
              "      <th>time</th>\n",
              "    </tr>\n",
              "  </thead>\n",
              "  <tbody>\n",
              "    <tr>\n",
              "      <td>0</td>\n",
              "      <td>3.966653</td>\n",
              "      <td>4.109181</td>\n",
              "      <td>0.277485</td>\n",
              "      <td>60.896847</td>\n",
              "      <td>01:29</td>\n",
              "    </tr>\n",
              "    <tr>\n",
              "      <td>1</td>\n",
              "      <td>3.821457</td>\n",
              "      <td>4.034442</td>\n",
              "      <td>0.288567</td>\n",
              "      <td>56.511375</td>\n",
              "      <td>01:29</td>\n",
              "    </tr>\n",
              "    <tr>\n",
              "      <td>2</td>\n",
              "      <td>3.608506</td>\n",
              "      <td>4.026432</td>\n",
              "      <td>0.292612</td>\n",
              "      <td>56.060532</td>\n",
              "      <td>01:29</td>\n",
              "    </tr>\n",
              "    <tr>\n",
              "      <td>3</td>\n",
              "      <td>3.472149</td>\n",
              "      <td>4.053843</td>\n",
              "      <td>0.292037</td>\n",
              "      <td>57.618488</td>\n",
              "      <td>01:28</td>\n",
              "    </tr>\n",
              "  </tbody>\n",
              "</table>"
            ],
            "text/plain": [
              "<IPython.core.display.HTML object>"
            ]
          },
          "metadata": {
            "tags": []
          }
        }
      ]
    },
    {
      "cell_type": "markdown",
      "metadata": {
        "papermill": {
          "duration": 0.067356,
          "end_time": "2021-03-16T20:51:24.468768",
          "exception": false,
          "start_time": "2021-03-16T20:51:24.401412",
          "status": "completed"
        },
        "tags": [],
        "id": "wHWvzOJtO4VO"
      },
      "source": [
        "After a bit more training we can predict the next word in a tweet around 29% of the time. Let's test the model out by using it to write some random tweets (in this case it will generate some text following 'I love')."
      ]
    },
    {
      "cell_type": "code",
      "metadata": {
        "execution": {
          "iopub.execute_input": "2021-03-16T20:51:24.613011Z",
          "iopub.status.busy": "2021-03-16T20:51:24.600724Z",
          "iopub.status.idle": "2021-03-16T20:51:25.329994Z",
          "shell.execute_reply": "2021-03-16T20:51:25.330834Z"
        },
        "papermill": {
          "duration": 0.797527,
          "end_time": "2021-03-16T20:51:25.331099",
          "exception": false,
          "start_time": "2021-03-16T20:51:24.533572",
          "status": "completed"
        },
        "tags": [],
        "colab": {
          "base_uri": "https://localhost:8080/",
          "height": 51
        },
        "id": "-jzrfARoO4VO",
        "outputId": "ca947f30-3985-4f0f-abfe-af7b09689424"
      },
      "source": [
        "# Text generation using the language model\n",
        "TEXT = \"I love\"\n",
        "N_WORDS = 30\n",
        "N_SENTENCES = 2\n",
        "print(\"\\n\".join(learn.predict(TEXT, N_WORDS, temperature=0.75) for _ in range(N_SENTENCES)))"
      ],
      "execution_count": 19,
      "outputs": [
        {
          "output_type": "display_data",
          "data": {
            "text/html": [
              ""
            ],
            "text/plain": [
              "<IPython.core.display.HTML object>"
            ]
          },
          "metadata": {
            "tags": []
          }
        },
        {
          "output_type": "display_data",
          "data": {
            "text/html": [
              ""
            ],
            "text/plain": [
              "<IPython.core.display.HTML object>"
            ]
          },
          "metadata": {
            "tags": []
          }
        },
        {
          "output_type": "stream",
          "text": [
            "i love all the stuff i want to do … That 's the reason we do n't have to go to Ireland … i hope it works :\n",
            "i love how much i love the Johnson ! Fever is I 'm a horrible motivation . Twenty thousand people ( among the first ) received the\n"
          ],
          "name": "stdout"
        }
      ]
    },
    {
      "cell_type": "markdown",
      "metadata": {
        "papermill": {
          "duration": 0.064699,
          "end_time": "2021-03-16T20:51:25.467639",
          "exception": false,
          "start_time": "2021-03-16T20:51:25.402940",
          "status": "completed"
        },
        "tags": [],
        "id": "IkRrONEwO4VP"
      },
      "source": [
        "Let's save the model *encoder* so we can use it to fine-tune our classifier. The encoder is all of the model except for the final layer, which converts activations to probabilities of picking each token in the vocabulary. We want to keep the knowledge the model has learned about tweet language but we won't be using our classifier to predict the next word in a sentence, so we won't need the final layer any more."
      ]
    },
    {
      "cell_type": "code",
      "metadata": {
        "execution": {
          "iopub.execute_input": "2021-03-16T20:51:25.601671Z",
          "iopub.status.busy": "2021-03-16T20:51:25.600725Z",
          "iopub.status.idle": "2021-03-16T20:51:25.796153Z",
          "shell.execute_reply": "2021-03-16T20:51:25.795666Z"
        },
        "papermill": {
          "duration": 0.26364,
          "end_time": "2021-03-16T20:51:25.796352",
          "exception": false,
          "start_time": "2021-03-16T20:51:25.532712",
          "status": "completed"
        },
        "tags": [],
        "id": "8Giu1IPcO4VP"
      },
      "source": [
        "learn.save_encoder('finetuned_lm')"
      ],
      "execution_count": 20,
      "outputs": []
    },
    {
      "cell_type": "markdown",
      "metadata": {
        "papermill": {
          "duration": 0.065347,
          "end_time": "2021-03-16T20:51:25.927286",
          "exception": false,
          "start_time": "2021-03-16T20:51:25.861939",
          "status": "completed"
        },
        "tags": [],
        "id": "DGLTYW3vO4VP"
      },
      "source": [
        "# Training a sentiment classifier\n",
        "To get the [`DataLoaders`](https://docs.fast.ai/data.core.html#DataLoaders) for our classifier let's use the [`DataBlock`](https://docs.fast.ai/tutorial.datablock.html#Text) API this time, which is more customisable."
      ]
    },
    {
      "cell_type": "code",
      "metadata": {
        "execution": {
          "iopub.execute_input": "2021-03-16T20:51:26.098911Z",
          "iopub.status.busy": "2021-03-16T20:51:26.093697Z",
          "iopub.status.idle": "2021-03-16T20:52:11.179064Z",
          "shell.execute_reply": "2021-03-16T20:52:11.177918Z"
        },
        "papermill": {
          "duration": 45.188264,
          "end_time": "2021-03-16T20:52:11.179253",
          "exception": false,
          "start_time": "2021-03-16T20:51:25.990989",
          "status": "completed"
        },
        "tags": [],
        "colab": {
          "base_uri": "https://localhost:8080/",
          "height": 71
        },
        "id": "E8uS3ZutO4VP",
        "outputId": "9ac09912-0b6e-47ac-97ca-46bc4d7a5201"
      },
      "source": [
        "dls_clas = DataBlock(\n",
        "    blocks = (TextBlock.from_df('text', seq_len=dls_lm.seq_len, vocab=dls_lm.vocab), CategoryBlock),\n",
        "    get_x=ColReader('text'),\n",
        "    get_y=ColReader('sentiment'),\n",
        "    splitter=RandomSplitter()\n",
        ").dataloaders(df_clas, bs=64)"
      ],
      "execution_count": 21,
      "outputs": [
        {
          "output_type": "display_data",
          "data": {
            "text/html": [
              ""
            ],
            "text/plain": [
              "<IPython.core.display.HTML object>"
            ]
          },
          "metadata": {
            "tags": []
          }
        },
        {
          "output_type": "stream",
          "text": [
            "/usr/local/lib/python3.7/dist-packages/numpy/core/_asarray.py:83: VisibleDeprecationWarning: Creating an ndarray from ragged nested sequences (which is a list-or-tuple of lists-or-tuples-or ndarrays with different lengths or shapes) is deprecated. If you meant to do this, you must specify 'dtype=object' when creating the ndarray\n",
            "  return array(a, dtype, copy=False, order=order)\n"
          ],
          "name": "stderr"
        }
      ]
    },
    {
      "cell_type": "markdown",
      "metadata": {
        "papermill": {
          "duration": 0.061326,
          "end_time": "2021-03-16T20:52:11.301829",
          "exception": false,
          "start_time": "2021-03-16T20:52:11.240503",
          "status": "completed"
        },
        "tags": [],
        "id": "_xqvVflEO4VQ"
      },
      "source": [
        "To use the API, [`fastai`](https://docs.fast.ai/) needs the following:\n",
        "* [`blocks`](https://docs.fast.ai/data.block.html#TransformBlock):\n",
        "    * [`TextBlock`](https://docs.fast.ai/text.data.html#TextBlock): Our x variable will be text contained in a [`pandas`](https://pandas.pydata.org/docs/) [`DataFrame`](https://pandas.pydata.org/docs/reference/api/pandas.DataFrame.html). We want to use the same sequence length and vocab as the language model [`DataLoaders`](https://docs.fast.ai/data.core.html#DataLoaders) so we can make use of our pre-trained model.\n",
        "    * [`CategoryBlock`](https://docs.fast.ai/data.block.html#CategoryBlock): Our y variable will be a single-label category (negative, neutral or positive sentiment).\n",
        "* [`get_x`](https://docs.fast.ai/data.transforms.html#ColReader), [`get_y`](https://docs.fast.ai/data.transforms.html#ColReader): Get data for the model by reading the `text` and `sentiment` columns from the [`DataFrame`](https://pandas.pydata.org/docs/reference/api/pandas.DataFrame.html).\n",
        "* [`splitter`](https://docs.fast.ai/data.transforms.html#RandomSplitter): We will use [`RandomSplitter()`](https://docs.fast.ai/data.transforms.html#RandomSplitter) to randomly split the data into a training set (80% by default) and a validation set (20%).\n",
        "* [`dataloaders`](https://docs.fast.ai/data.block#DataBlock.dataloaders): Builds the [`DataLoaders`](https://docs.fast.ai/data.core.html#DataLoaders) using the [`DataBlock`](https://docs.fast.ai/tutorial.datablock.html#Text) template we just defined, the *df_clas* [`DataFrame`](https://pandas.pydata.org/docs/reference/api/pandas.DataFrame.html) and a batch size of 64.\n",
        "\n",
        "We can call show batch as before; this time the dependent variable is sentiment."
      ]
    },
    {
      "cell_type": "code",
      "metadata": {
        "execution": {
          "iopub.execute_input": "2021-03-16T20:52:11.443180Z",
          "iopub.status.busy": "2021-03-16T20:52:11.442310Z",
          "iopub.status.idle": "2021-03-16T20:52:11.542719Z",
          "shell.execute_reply": "2021-03-16T20:52:11.543148Z"
        },
        "papermill": {
          "duration": 0.181357,
          "end_time": "2021-03-16T20:52:11.543335",
          "exception": false,
          "start_time": "2021-03-16T20:52:11.361978",
          "status": "completed"
        },
        "tags": [],
        "colab": {
          "base_uri": "https://localhost:8080/",
          "height": 145
        },
        "id": "QB1D1Ql3O4VQ",
        "outputId": "5dd01442-644e-475c-c961-bb9a657d9931"
      },
      "source": [
        "dls_clas.show_batch(max_n=2)"
      ],
      "execution_count": 22,
      "outputs": [
        {
          "output_type": "display_data",
          "data": {
            "text/html": [
              "<table border=\"1\" class=\"dataframe\">\n",
              "  <thead>\n",
              "    <tr style=\"text-align: right;\">\n",
              "      <th></th>\n",
              "      <th>text</th>\n",
              "      <th>category</th>\n",
              "    </tr>\n",
              "  </thead>\n",
              "  <tbody>\n",
              "    <tr>\n",
              "      <th>0</th>\n",
              "      <td>xxbos xxup pirate xxup voice : xxrep 3 a xxrep 3 r xxrep 3 g xxrep 3 h xxrep 3 ! i 4got xxup my xxup damn xxup wallet xxup at xxup work xxup xxunk xxrep 3 ! xxup dammit xxrep 3 ! xxup so xxup close xxup yet xxup so xxup far xxrep 3 ! xxup now xxup i m xxup starving xxrep 3 !</td>\n",
              "      <td>negative</td>\n",
              "    </tr>\n",
              "    <tr>\n",
              "      <th>1</th>\n",
              "      <td>xxbos xxup mandy xxrep 3 ! xxup it xxup wo n't xxup let xxup me xxup vote i xxup want xxup her xxup to xxup win xxup but i xxup ca n't xxup help , i xxup am xxup gon na xxup jump xxup off a xxup bridge ( kidding ) xxup but xxup this xxup sux</td>\n",
              "      <td>neutral</td>\n",
              "    </tr>\n",
              "  </tbody>\n",
              "</table>"
            ],
            "text/plain": [
              "<IPython.core.display.HTML object>"
            ]
          },
          "metadata": {
            "tags": []
          }
        }
      ]
    },
    {
      "cell_type": "markdown",
      "metadata": {
        "papermill": {
          "duration": 0.063529,
          "end_time": "2021-03-16T20:52:11.670407",
          "exception": false,
          "start_time": "2021-03-16T20:52:11.606878",
          "status": "completed"
        },
        "tags": [],
        "id": "x90_oE8LO4VQ"
      },
      "source": [
        "Initialising the [`Learner`](https://docs.fast.ai/learner.html#Learner) is similar to before, but in this case we want a [`text_classifier_learner`](https://docs.fast.ai/text.learner.html#text_classifier_learner)."
      ]
    },
    {
      "cell_type": "code",
      "metadata": {
        "execution": {
          "iopub.execute_input": "2021-03-16T20:52:11.799686Z",
          "iopub.status.busy": "2021-03-16T20:52:11.798923Z",
          "iopub.status.idle": "2021-03-16T20:52:12.710712Z",
          "shell.execute_reply": "2021-03-16T20:52:12.709855Z"
        },
        "papermill": {
          "duration": 0.977704,
          "end_time": "2021-03-16T20:52:12.710936",
          "exception": false,
          "start_time": "2021-03-16T20:52:11.733232",
          "status": "completed"
        },
        "tags": [],
        "id": "cdI3K29BO4VQ"
      },
      "source": [
        "learn = text_classifier_learner(dls_clas, AWD_LSTM, drop_mult=0.5, metrics=accuracy).to_fp16()"
      ],
      "execution_count": 23,
      "outputs": []
    },
    {
      "cell_type": "markdown",
      "metadata": {
        "papermill": {
          "duration": 0.06075,
          "end_time": "2021-03-16T20:52:12.876438",
          "exception": false,
          "start_time": "2021-03-16T20:52:12.815688",
          "status": "completed"
        },
        "tags": [],
        "id": "-BCCtxl_O4VR"
      },
      "source": [
        "Finally, we want to load the encoder from the language model we trained earlier, so our classifier uses pre-trained weights."
      ]
    },
    {
      "cell_type": "code",
      "metadata": {
        "execution": {
          "iopub.execute_input": "2021-03-16T20:52:13.006505Z",
          "iopub.status.busy": "2021-03-16T20:52:13.005113Z",
          "iopub.status.idle": "2021-03-16T20:52:13.088055Z",
          "shell.execute_reply": "2021-03-16T20:52:13.087581Z"
        },
        "papermill": {
          "duration": 0.14929,
          "end_time": "2021-03-16T20:52:13.088209",
          "exception": false,
          "start_time": "2021-03-16T20:52:12.938919",
          "status": "completed"
        },
        "tags": [],
        "id": "GB4VqOcPO4VR"
      },
      "source": [
        "learn = learn.load_encoder('finetuned_lm')"
      ],
      "execution_count": 24,
      "outputs": []
    },
    {
      "cell_type": "markdown",
      "metadata": {
        "papermill": {
          "duration": 0.06147,
          "end_time": "2021-03-16T20:52:13.210643",
          "exception": false,
          "start_time": "2021-03-16T20:52:13.149173",
          "status": "completed"
        },
        "tags": [],
        "id": "BhLi-i2UO4VR"
      },
      "source": [
        "## Fine-tuning the classifier\n",
        "Now we can train the classifier using *discriminative learning rates* and *gradual unfreezing*, which has been found to give better results for this type of model. First let's freeze all but the last layer:"
      ]
    },
    {
      "cell_type": "code",
      "metadata": {
        "execution": {
          "iopub.execute_input": "2021-03-16T20:52:13.341923Z",
          "iopub.status.busy": "2021-03-16T20:52:13.341320Z",
          "iopub.status.idle": "2021-03-16T20:52:54.329693Z",
          "shell.execute_reply": "2021-03-16T20:52:54.329156Z"
        },
        "papermill": {
          "duration": 41.05683,
          "end_time": "2021-03-16T20:52:54.329824",
          "exception": false,
          "start_time": "2021-03-16T20:52:13.272994",
          "status": "completed"
        },
        "tags": [],
        "colab": {
          "base_uri": "https://localhost:8080/",
          "height": 80
        },
        "id": "hvBOopQFO4VR",
        "outputId": "5e2fe867-8b96-4831-89fd-55a19ce6cdfa"
      },
      "source": [
        "learn.fit_one_cycle(1, 3e-2)"
      ],
      "execution_count": 25,
      "outputs": [
        {
          "output_type": "display_data",
          "data": {
            "text/html": [
              "<table border=\"1\" class=\"dataframe\">\n",
              "  <thead>\n",
              "    <tr style=\"text-align: left;\">\n",
              "      <th>epoch</th>\n",
              "      <th>train_loss</th>\n",
              "      <th>valid_loss</th>\n",
              "      <th>accuracy</th>\n",
              "      <th>time</th>\n",
              "    </tr>\n",
              "  </thead>\n",
              "  <tbody>\n",
              "    <tr>\n",
              "      <td>0</td>\n",
              "      <td>0.844210</td>\n",
              "      <td>0.779984</td>\n",
              "      <td>0.638729</td>\n",
              "      <td>00:34</td>\n",
              "    </tr>\n",
              "  </tbody>\n",
              "</table>"
            ],
            "text/plain": [
              "<IPython.core.display.HTML object>"
            ]
          },
          "metadata": {
            "tags": []
          }
        }
      ]
    },
    {
      "cell_type": "markdown",
      "metadata": {
        "papermill": {
          "duration": 0.068283,
          "end_time": "2021-03-16T20:52:54.464033",
          "exception": false,
          "start_time": "2021-03-16T20:52:54.395750",
          "status": "completed"
        },
        "tags": [],
        "id": "QCn5nQ21O4VR"
      },
      "source": [
        "Now freeze all but the last two layers:"
      ]
    },
    {
      "cell_type": "code",
      "metadata": {
        "execution": {
          "iopub.execute_input": "2021-03-16T20:52:54.601493Z",
          "iopub.status.busy": "2021-03-16T20:52:54.600569Z",
          "iopub.status.idle": "2021-03-16T20:53:37.390078Z",
          "shell.execute_reply": "2021-03-16T20:53:37.389132Z"
        },
        "papermill": {
          "duration": 42.860934,
          "end_time": "2021-03-16T20:53:37.390256",
          "exception": false,
          "start_time": "2021-03-16T20:52:54.529322",
          "status": "completed"
        },
        "tags": [],
        "colab": {
          "base_uri": "https://localhost:8080/",
          "height": 80
        },
        "id": "f1YRMrLiO4VS",
        "outputId": "9b648b0e-4dbe-4e3c-d9db-bf08b80dfece"
      },
      "source": [
        "learn.freeze_to(-2)\n",
        "learn.fit_one_cycle(1, slice(1e-2/(2.6**4),1e-2))"
      ],
      "execution_count": 26,
      "outputs": [
        {
          "output_type": "display_data",
          "data": {
            "text/html": [
              "<table border=\"1\" class=\"dataframe\">\n",
              "  <thead>\n",
              "    <tr style=\"text-align: left;\">\n",
              "      <th>epoch</th>\n",
              "      <th>train_loss</th>\n",
              "      <th>valid_loss</th>\n",
              "      <th>accuracy</th>\n",
              "      <th>time</th>\n",
              "    </tr>\n",
              "  </thead>\n",
              "  <tbody>\n",
              "    <tr>\n",
              "      <td>0</td>\n",
              "      <td>0.721439</td>\n",
              "      <td>0.652761</td>\n",
              "      <td>0.722063</td>\n",
              "      <td>00:35</td>\n",
              "    </tr>\n",
              "  </tbody>\n",
              "</table>"
            ],
            "text/plain": [
              "<IPython.core.display.HTML object>"
            ]
          },
          "metadata": {
            "tags": []
          }
        }
      ]
    },
    {
      "cell_type": "markdown",
      "metadata": {
        "papermill": {
          "duration": 0.069256,
          "end_time": "2021-03-16T20:53:37.530445",
          "exception": false,
          "start_time": "2021-03-16T20:53:37.461189",
          "status": "completed"
        },
        "tags": [],
        "id": "fh1xpyPUO4VS"
      },
      "source": [
        "Now all but the last three:"
      ]
    },
    {
      "cell_type": "code",
      "metadata": {
        "execution": {
          "iopub.execute_input": "2021-03-16T20:53:37.679855Z",
          "iopub.status.busy": "2021-03-16T20:53:37.678845Z",
          "iopub.status.idle": "2021-03-16T20:54:21.207467Z",
          "shell.execute_reply": "2021-03-16T20:54:21.206940Z"
        },
        "papermill": {
          "duration": 43.604605,
          "end_time": "2021-03-16T20:54:21.207617",
          "exception": false,
          "start_time": "2021-03-16T20:53:37.603012",
          "status": "completed"
        },
        "tags": [],
        "colab": {
          "base_uri": "https://localhost:8080/",
          "height": 80
        },
        "id": "ixTaX7TFO4VS",
        "outputId": "80c6f25d-e1cc-4399-fda7-7ff199fd1ab5"
      },
      "source": [
        "learn.freeze_to(-3)\n",
        "learn.fit_one_cycle(1, slice(5e-3/(2.6**4),5e-3))"
      ],
      "execution_count": 27,
      "outputs": [
        {
          "output_type": "display_data",
          "data": {
            "text/html": [
              "<table border=\"1\" class=\"dataframe\">\n",
              "  <thead>\n",
              "    <tr style=\"text-align: left;\">\n",
              "      <th>epoch</th>\n",
              "      <th>train_loss</th>\n",
              "      <th>valid_loss</th>\n",
              "      <th>accuracy</th>\n",
              "      <th>time</th>\n",
              "    </tr>\n",
              "  </thead>\n",
              "  <tbody>\n",
              "    <tr>\n",
              "      <td>0</td>\n",
              "      <td>0.645988</td>\n",
              "      <td>0.604143</td>\n",
              "      <td>0.746807</td>\n",
              "      <td>00:37</td>\n",
              "    </tr>\n",
              "  </tbody>\n",
              "</table>"
            ],
            "text/plain": [
              "<IPython.core.display.HTML object>"
            ]
          },
          "metadata": {
            "tags": []
          }
        }
      ]
    },
    {
      "cell_type": "markdown",
      "metadata": {
        "papermill": {
          "duration": 0.065074,
          "end_time": "2021-03-16T20:54:21.340216",
          "exception": false,
          "start_time": "2021-03-16T20:54:21.275142",
          "status": "completed"
        },
        "tags": [],
        "id": "Mf7P4c8IO4VS"
      },
      "source": [
        "Finally, let's unfreeze the entire model and train a bit more:"
      ]
    },
    {
      "cell_type": "code",
      "metadata": {
        "execution": {
          "iopub.execute_input": "2021-03-16T20:54:21.482230Z",
          "iopub.status.busy": "2021-03-16T20:54:21.481652Z",
          "iopub.status.idle": "2021-03-16T20:56:38.275056Z",
          "shell.execute_reply": "2021-03-16T20:56:38.273934Z"
        },
        "papermill": {
          "duration": 136.866902,
          "end_time": "2021-03-16T20:56:38.275223",
          "exception": false,
          "start_time": "2021-03-16T20:54:21.408321",
          "status": "completed"
        },
        "tags": [],
        "colab": {
          "base_uri": "https://localhost:8080/",
          "height": 142
        },
        "id": "vTDXIMq_O4VT",
        "outputId": "a2a87968-c23e-4bcc-d7bd-a4b56a9428de"
      },
      "source": [
        "learn.unfreeze()\n",
        "learn.fit_one_cycle(3, slice(1e-3/(2.6**4),1e-3))"
      ],
      "execution_count": 28,
      "outputs": [
        {
          "output_type": "display_data",
          "data": {
            "text/html": [
              "<table border=\"1\" class=\"dataframe\">\n",
              "  <thead>\n",
              "    <tr style=\"text-align: left;\">\n",
              "      <th>epoch</th>\n",
              "      <th>train_loss</th>\n",
              "      <th>valid_loss</th>\n",
              "      <th>accuracy</th>\n",
              "      <th>time</th>\n",
              "    </tr>\n",
              "  </thead>\n",
              "  <tbody>\n",
              "    <tr>\n",
              "      <td>0</td>\n",
              "      <td>0.574464</td>\n",
              "      <td>0.594402</td>\n",
              "      <td>0.753193</td>\n",
              "      <td>00:38</td>\n",
              "    </tr>\n",
              "    <tr>\n",
              "      <td>1</td>\n",
              "      <td>0.563834</td>\n",
              "      <td>0.597232</td>\n",
              "      <td>0.758301</td>\n",
              "      <td>00:38</td>\n",
              "    </tr>\n",
              "    <tr>\n",
              "      <td>2</td>\n",
              "      <td>0.514356</td>\n",
              "      <td>0.598695</td>\n",
              "      <td>0.757982</td>\n",
              "      <td>00:38</td>\n",
              "    </tr>\n",
              "  </tbody>\n",
              "</table>"
            ],
            "text/plain": [
              "<IPython.core.display.HTML object>"
            ]
          },
          "metadata": {
            "tags": []
          }
        }
      ]
    },
    {
      "cell_type": "code",
      "metadata": {
        "execution": {
          "iopub.execute_input": "2021-03-16T20:56:38.412647Z",
          "iopub.status.busy": "2021-03-16T20:56:38.411812Z",
          "iopub.status.idle": "2021-03-16T20:56:39.034962Z",
          "shell.execute_reply": "2021-03-16T20:56:39.035441Z"
        },
        "papermill": {
          "duration": 0.694774,
          "end_time": "2021-03-16T20:56:39.035596",
          "exception": false,
          "start_time": "2021-03-16T20:56:38.340822",
          "status": "completed"
        },
        "tags": [],
        "colab": {
          "base_uri": "https://localhost:8080/"
        },
        "id": "fvWeiMUAO4VT",
        "outputId": "cb3c9fd7-b34c-4c10-8919-e0d826868e2d"
      },
      "source": [
        "learn.save('classifier')"
      ],
      "execution_count": 29,
      "outputs": [
        {
          "output_type": "execute_result",
          "data": {
            "text/plain": [
              "Path('models/classifier.pth')"
            ]
          },
          "metadata": {
            "tags": []
          },
          "execution_count": 29
        }
      ]
    },
    {
      "cell_type": "markdown",
      "metadata": {
        "papermill": {
          "duration": 0.073985,
          "end_time": "2021-03-16T20:56:39.179890",
          "exception": false,
          "start_time": "2021-03-16T20:56:39.105905",
          "status": "completed"
        },
        "tags": [],
        "id": "8B3yHChfO4VT"
      },
      "source": [
        "Our model correctly predicts sentiment around 75% of the time. We could perhaps do better with a larger dataset as mentioned earlier, or different model hyperparameters. It might be worth experimenting with this yourself to see if you can improve the accuracy.\n",
        "\n",
        "We can quickly sense check the model by calling [`predict`](https://docs.fast.ai/learner.html#Learner.predict), which returns the predicted sentiment, the index of the prediction and predicted probabilities for negative, neutral and positive sentiment."
      ]
    },
    {
      "cell_type": "code",
      "metadata": {
        "execution": {
          "iopub.execute_input": "2021-03-16T20:56:39.338735Z",
          "iopub.status.busy": "2021-03-16T20:56:39.337753Z",
          "iopub.status.idle": "2021-03-16T20:56:39.381466Z",
          "shell.execute_reply": "2021-03-16T20:56:39.381943Z"
        },
        "papermill": {
          "duration": 0.130298,
          "end_time": "2021-03-16T20:56:39.382104",
          "exception": false,
          "start_time": "2021-03-16T20:56:39.251806",
          "status": "completed"
        },
        "tags": [],
        "colab": {
          "base_uri": "https://localhost:8080/",
          "height": 34
        },
        "id": "5NP6nRmhO4VT",
        "outputId": "16df8501-d351-4575-dd4b-5eb5e5a76086"
      },
      "source": [
        "learn.predict(\"I love\")"
      ],
      "execution_count": 30,
      "outputs": [
        {
          "output_type": "display_data",
          "data": {
            "text/html": [
              ""
            ],
            "text/plain": [
              "<IPython.core.display.HTML object>"
            ]
          },
          "metadata": {
            "tags": []
          }
        },
        {
          "output_type": "execute_result",
          "data": {
            "text/plain": [
              "('positive', tensor(2), tensor([4.6136e-04, 1.1758e-03, 9.9836e-01]))"
            ]
          },
          "metadata": {
            "tags": []
          },
          "execution_count": 30
        }
      ]
    },
    {
      "cell_type": "code",
      "metadata": {
        "execution": {
          "iopub.execute_input": "2021-03-16T20:56:39.529630Z",
          "iopub.status.busy": "2021-03-16T20:56:39.528043Z",
          "iopub.status.idle": "2021-03-16T20:56:39.557610Z",
          "shell.execute_reply": "2021-03-16T20:56:39.557079Z"
        },
        "papermill": {
          "duration": 0.107608,
          "end_time": "2021-03-16T20:56:39.557741",
          "exception": false,
          "start_time": "2021-03-16T20:56:39.450133",
          "status": "completed"
        },
        "tags": [],
        "colab": {
          "base_uri": "https://localhost:8080/",
          "height": 34
        },
        "id": "tPlER6oYO4VU",
        "outputId": "46393e1a-8045-4c2b-f2cf-8c8805a00898"
      },
      "source": [
        "learn.predict(\"I hate\")"
      ],
      "execution_count": 31,
      "outputs": [
        {
          "output_type": "display_data",
          "data": {
            "text/html": [
              ""
            ],
            "text/plain": [
              "<IPython.core.display.HTML object>"
            ]
          },
          "metadata": {
            "tags": []
          }
        },
        {
          "output_type": "execute_result",
          "data": {
            "text/plain": [
              "('negative', tensor(0), tensor([0.9815, 0.0145, 0.0040]))"
            ]
          },
          "metadata": {
            "tags": []
          },
          "execution_count": 31
        }
      ]
    },
    {
      "cell_type": "markdown",
      "metadata": {
        "papermill": {
          "duration": 0.068153,
          "end_time": "2021-03-16T20:56:39.737373",
          "exception": false,
          "start_time": "2021-03-16T20:56:39.669220",
          "status": "completed"
        },
        "tags": [],
        "id": "n6Rg5qrZO4VU"
      },
      "source": [
        "# Classifying unlabelled tweets\n",
        "To carry out sentiment analysis on the vaccine tweets, we can add them to the [`DataLoaders`](https://docs.fast.ai/data.core.html#DataLoaders) as a test set:"
      ]
    },
    {
      "cell_type": "code",
      "metadata": {
        "execution": {
          "iopub.execute_input": "2021-03-16T20:56:42.390506Z",
          "iopub.status.busy": "2021-03-16T20:56:42.386508Z",
          "iopub.status.idle": "2021-03-16T20:57:02.660911Z",
          "shell.execute_reply": "2021-03-16T20:57:02.659778Z"
        },
        "papermill": {
          "duration": 22.854467,
          "end_time": "2021-03-16T20:57:02.661068",
          "exception": false,
          "start_time": "2021-03-16T20:56:39.806601",
          "status": "completed"
        },
        "tags": [],
        "id": "vt0nyiu9O4VU"
      },
      "source": [
        "pred_dl = dls_clas.test_dl(vax_tweets['text'])"
      ],
      "execution_count": 32,
      "outputs": []
    },
    {
      "cell_type": "markdown",
      "metadata": {
        "papermill": {
          "duration": 0.068993,
          "end_time": "2021-03-16T20:57:02.801610",
          "exception": false,
          "start_time": "2021-03-16T20:57:02.732617",
          "status": "completed"
        },
        "tags": [],
        "id": "d8IJ9XUxO4VU"
      },
      "source": [
        "We can then make predictions using [`get_preds`](https://docs.fast.ai/learner.html#Learner.get_preds):"
      ]
    },
    {
      "cell_type": "code",
      "metadata": {
        "execution": {
          "iopub.execute_input": "2021-03-16T20:57:02.954923Z",
          "iopub.status.busy": "2021-03-16T20:57:02.954030Z",
          "iopub.status.idle": "2021-03-16T20:57:29.959974Z",
          "shell.execute_reply": "2021-03-16T20:57:29.959465Z"
        },
        "papermill": {
          "duration": 27.090359,
          "end_time": "2021-03-16T20:57:29.960128",
          "exception": false,
          "start_time": "2021-03-16T20:57:02.869769",
          "status": "completed"
        },
        "tags": [],
        "colab": {
          "base_uri": "https://localhost:8080/",
          "height": 17
        },
        "id": "QwWkWXNNO4VU",
        "outputId": "5da58142-e46f-4f32-ec21-38f81911e4ac"
      },
      "source": [
        "preds = learn.get_preds(dl=pred_dl)"
      ],
      "execution_count": 33,
      "outputs": [
        {
          "output_type": "display_data",
          "data": {
            "text/html": [
              ""
            ],
            "text/plain": [
              "<IPython.core.display.HTML object>"
            ]
          },
          "metadata": {
            "tags": []
          }
        }
      ]
    },
    {
      "cell_type": "markdown",
      "metadata": {
        "papermill": {
          "duration": 0.077888,
          "end_time": "2021-03-16T20:57:30.116794",
          "exception": false,
          "start_time": "2021-03-16T20:57:30.038906",
          "status": "completed"
        },
        "tags": [],
        "id": "Ak8slyTPO4VV"
      },
      "source": [
        "Finally, we can save the results for analysis later."
      ]
    },
    {
      "cell_type": "code",
      "metadata": {
        "execution": {
          "iopub.execute_input": "2021-03-16T20:57:30.282326Z",
          "iopub.status.busy": "2021-03-16T20:57:30.281438Z",
          "iopub.status.idle": "2021-03-16T20:57:32.117253Z",
          "shell.execute_reply": "2021-03-16T20:57:32.115911Z"
        },
        "papermill": {
          "duration": 1.921706,
          "end_time": "2021-03-16T20:57:32.117416",
          "exception": false,
          "start_time": "2021-03-16T20:57:30.195710",
          "status": "completed"
        },
        "tags": [],
        "id": "lqVmK-68O4VV"
      },
      "source": [
        "# Get predicted sentiment\n",
        "vax_tweets['sentiment'] = preds[0].argmax(dim=-1)\n",
        "vax_tweets['sentiment'] = vax_tweets['sentiment'].map({0:'negative', 1:'neutral', 2:'positive'})\n",
        "\n",
        "# Convert dates\n",
        "vax_tweets['date'] = pd.to_datetime(vax_tweets['date'], errors='coerce').dt.date\n",
        "\n",
        "# Save to csv\n",
        "vax_tweets.to_csv('vax_tweets_inc_sentiment.csv')"
      ],
      "execution_count": 34,
      "outputs": []
    },
    {
      "cell_type": "markdown",
      "metadata": {
        "papermill": {
          "duration": 0.123178,
          "end_time": "2021-03-16T20:58:16.295988",
          "exception": false,
          "start_time": "2021-03-16T20:58:16.172810",
          "status": "completed"
        },
        "tags": [],
        "id": "5X3RPqfxO4Vi"
      },
      "source": [
        "# Conclusion\n",
        "`fastai` make NLP really easy, and we were able to get quite good results with a limited dataset and not a lot of training time by using the ULMFiT approach. To summarise, the steps are:\n",
        "1. Fine-tune a language model to predict the next word in a tweet, using a model pre-trained on Wikipedia.\n",
        "2. Fine-tune a classification model to predict tweet sentiment using the pre-trained language model.\n",
        "3. Apply the classifier to unlabelled tweets to analyse sentiment.\n",
        "\n",
        "In part 2 we will use our new model for analysis, investigating the overall sentiment of each vaccine, how sentiment changes over time and the relationship between sentiment and vaccination progress in different countries.\n",
        "\n",
        "I hope you found this useful, and thanks very much to [Gabriel Preda](https://www.kaggle.com/gpreda) for providing the data!"
      ]
    },
    {
      "cell_type": "code",
      "metadata": {
        "id": "hF-LjCl7wnNF"
      },
      "source": [
        ""
      ],
      "execution_count": null,
      "outputs": []
    }
  ]
}